{
  "nbformat": 4,
  "nbformat_minor": 0,
  "metadata": {
    "colab": {
      "name": "코딩테스트_ch06_정렬.ipynb",
      "provenance": [],
      "collapsed_sections": []
    },
    "kernelspec": {
      "name": "python3",
      "display_name": "Python 3"
    }
  },
  "cells": [
    {
      "cell_type": "markdown",
      "metadata": {
        "id": "VaoGbx07FHkz"
      },
      "source": [
        "## 선택정렬\n",
        "+ 데이터가 무작위로 여러 개 있을 때, 이 중 가장 작은 데이터를 선택해 맨 앞에 있는 데이터와 바꾸고 그 다음 작은 데이터를 선택해 앞에서 두번째 데이터와 바꾸는 과정의 반복\n",
        "+ 가장 원시적인 방법"
      ]
    },
    {
      "cell_type": "code",
      "metadata": {
        "colab": {
          "base_uri": "https://localhost:8080/"
        },
        "id": "WH4bv6mMGc7r",
        "outputId": "9a2e36ce-58ed-494e-8bb3-2366a90140ad"
      },
      "source": [
        "array = [7 ,5, 9, 0, 3, 1, 6, 2, 4, 8]\n",
        "\n",
        "for i in range(len(array)):\n",
        "  min_index = i\n",
        "  for j in range(i+1, len(array)):\n",
        "    if array[min_index] > array[j]:\n",
        "      min_index = j\n",
        "  array[min_index], array[i] = array[i] , array[min_index]\n",
        "\n",
        "print(array)"
      ],
      "execution_count": null,
      "outputs": [
        {
          "output_type": "stream",
          "text": [
            "[0, 1, 2, 3, 4, 5, 6, 7, 8, 9]\n"
          ],
          "name": "stdout"
        }
      ]
    },
    {
      "cell_type": "markdown",
      "metadata": {
        "id": "4qWO7j5JIa6y"
      },
      "source": [
        "## 삽입정렬\n"
      ]
    },
    {
      "cell_type": "code",
      "metadata": {
        "id": "7pLvmWhoSUO1",
        "colab": {
          "base_uri": "https://localhost:8080/"
        },
        "outputId": "ae292bc0-db7c-4cb0-d9e3-784a95cf993b"
      },
      "source": [
        "array = [7 ,5, 9, 0, 3, 1, 6, 2, 4, 8]\n",
        "\n",
        "for i in range(1, len(array)):\n",
        "  for j in range(i, 0, -1): # 인덱스 i 부터 1까지 1만큼 감소하며 반복\n",
        "    if array[j] < array[j-1]:\n",
        "      array[j], array[j-1] = array[j-1], array[j]\n",
        "    else:\n",
        "      break\n",
        "\n",
        "print(array)"
      ],
      "execution_count": null,
      "outputs": [
        {
          "output_type": "stream",
          "text": [
            "[0, 1, 2, 3, 4, 5, 6, 7, 8, 9]\n"
          ],
          "name": "stdout"
        }
      ]
    },
    {
      "cell_type": "markdown",
      "metadata": {
        "id": "yzH1O2OMIas4"
      },
      "source": [
        "거의 정렬되어 있는 상태에서 매우 효율적\n",
        "\n",
        "거의 정렬되어 있는 상태의 문제가 주어지면 퀵정렬 보다 삽입 정렬을 이용하는 것이 정답 확률을 높일 수 있음\n"
      ]
    },
    {
      "cell_type": "markdown",
      "metadata": {
        "id": "ofuBqreiUOeT"
      },
      "source": [
        "## 퀵정렬\n",
        "+ 가장 많이 사용되는 알고리즘\n",
        "+ 병합 정렬과 더불어 대부분의 프로그래밍 언어에서 정렬 라이브러리의 근간이 되는 알고리즘\n",
        "+ 기준을 설정한 다음 큰 수와 작은 수를 교환한 후 리스트를 반으로 나는 방식으로 동작\n",
        "+ 피벗(Pivot) : 큰 숫자와 작은 숫자를 교환할 때, 교환하기 위한 기준을 피벗이라고 함\n",
        "+ 피벗을 어떻게 설정할 것인지 미리 명시 해야"
      ]
    },
    {
      "cell_type": "markdown",
      "metadata": {
        "id": "1L8Np6n5Vimr"
      },
      "source": [
        "### 호어 분할\n",
        "+ 피벗을 설정하고 리스트를 분할하는 방법에 따라서 여러가지 방식으로 퀵 정렬을 구분\n",
        "+ 가장 대표적인 분할 방식"
      ]
    },
    {
      "cell_type": "code",
      "metadata": {
        "colab": {
          "base_uri": "https://localhost:8080/"
        },
        "id": "zVV-jvJpZo4S",
        "outputId": "1d88c931-cc20-4b3a-a585-5d1d7d69dfca"
      },
      "source": [
        "array = [5,7,9,0,3,1,6,2,4,8]\n",
        "\n",
        "def quick_sort(array, start, end):\n",
        "  if start >= end: # 원소가 1개인 경우 종료\n",
        "    return\n",
        "  pivot = start # 피벗은 첫 번째 원소\n",
        "  left = start + 1\n",
        "  right = end\n",
        "  while left <= right:\n",
        "    # 피벗보다 큰 데이터를 찾을 떄까지 반복\n",
        "    while left <= end and array[left] <= array[pivot]:\n",
        "      left += 1\n",
        "    # 피벗보다 작은 데이터 찾을때까지 반복\n",
        "    while right > start and array[right] >= array[pivot]:\n",
        "      right -= 1\n",
        "    # 엇갈렸으면 작은 데이터와 피벗 교체\n",
        "    if left > right:\n",
        "      array[right], array[pivot] = array[pivot], array[right]\n",
        "    # 엇갈리지 않으면 작은 데이터와 큰 데이터 교체\n",
        "    else:\n",
        "      array[right], array[left] = array[left], array[right]\n",
        "    \n",
        "  # 분할 이후 왼쪽 부분과 오른쪽 부분에서 각각 정렬 수행\n",
        "  quick_sort(array, start, right - 1)\n",
        "  quick_sort(array, right + 1, end)\n",
        "\n",
        "quick_sort(array, 0, len(array) - 1)\n",
        "print(array) "
      ],
      "execution_count": null,
      "outputs": [
        {
          "output_type": "stream",
          "text": [
            "[0, 1, 2, 3, 4, 5, 6, 7, 8, 9]\n"
          ],
          "name": "stdout"
        }
      ]
    },
    {
      "cell_type": "markdown",
      "metadata": {
        "id": "UP18NJSM1QE4"
      },
      "source": [
        "퀵 정렬의 시간 복잡도는 O(NlogN)"
      ]
    },
    {
      "cell_type": "code",
      "metadata": {
        "colab": {
          "base_uri": "https://localhost:8080/"
        },
        "id": "jPSJ-9X91Kb8",
        "outputId": "aba6f9aa-54e9-49c0-b68f-cdf55aa41d21"
      },
      "source": [
        "# 파이썬다운 퀵 정렬 코드\n",
        "array = [5,7,9,0,3,1,6,2,4,8]\n",
        "\n",
        "def quick_sort_py(array):\n",
        "  # 리스트가 하나 이하의 원소만을 담고 있다면 종료\n",
        "  if len(array) <= 1:\n",
        "    return array\n",
        "  \n",
        "  pivot = array[0] # 피벗은 첫 번째 원소\n",
        "  tail = array[1:] # 피벗 제외한 리스트\n",
        "\n",
        "  left_side = [x for x in tail if x <= pivot] # 분할된 왼쪽 부분\n",
        "  right_side = [x for x in tail if x > pivot] # 분할된 오른쪽 부분\n",
        "\n",
        "  # 분할 이후 왼쪽 부분, 오른쪽 부분에 대해 각각 정렬을 수행하고 피벗과 함께 전체 리스트 반환\n",
        "  return quick_sort_py(left_side) + [pivot] + quick_sort_py(right_side)\n",
        "\n",
        "print(quick_sort_py(array))"
      ],
      "execution_count": null,
      "outputs": [
        {
          "output_type": "stream",
          "text": [
            "[0, 1, 2, 3, 4, 5, 6, 7, 8, 9]\n"
          ],
          "name": "stdout"
        }
      ]
    },
    {
      "cell_type": "markdown",
      "metadata": {
        "id": "_DazDk-Z2vJv"
      },
      "source": [
        "## 계수 정렬\n",
        "+ 특정한 조건이 부합할 때만 사용할 수 있지만 매우 빠른 정렬 알고리즘\n",
        "+ 모든 데이터가 양의 정수인 상황에서 데이터의 개수가 N, 최대값이 K 일때, 계수 정렬은 최악의 경우에도 수행시간 O(N+K)를 보장\n",
        "+ 데이터의 크기 범위가 제한되어 정수로 표현할 수 있을 때 만 사용가능\n",
        "+ 일반적으로 가장 큰 데이터와 가장 작은 데이터의 차이가 1,000,000을 넘지 않을 때 효과적으로 사용가능\n",
        "+ 예를 들어 0 이상 100 이하인 성적 데이터를 정렬할 때 계수 정렬이 효과적\n",
        "+ 일반적으로 별도의 리스트를 선언하고, 그 안에 정렬에 대한 정보를 담는다는 특징\n"
      ]
    },
    {
      "cell_type": "code",
      "metadata": {
        "colab": {
          "base_uri": "https://localhost:8080/"
        },
        "id": "yGjqluv98TE5",
        "outputId": "116a7f05-0228-496b-8fb2-9b342ad7e714"
      },
      "source": [
        "# 모든 원소의 값이 0보다 크거나 같다고 가정\n",
        "array = [7,5,9,0,7,1,0,2,9,1,4,8,0,5,2]\n",
        "\n",
        "# 모든 범위를 포함하는 빈 리스트 선언(모든 값은 0으로 초기화)\n",
        "count = [0] * (max(array) + 1)\n",
        "\n",
        "for i in range(len(array)):\n",
        "  count[array[i]] += 1\n",
        "\n",
        "for i in range(len(count)):\n",
        "  for j in range(count[i]):\n",
        "    print(i, end = ' ')"
      ],
      "execution_count": null,
      "outputs": [
        {
          "output_type": "stream",
          "text": [
            "0 0 0 1 1 2 2 4 5 5 7 7 8 9 9 "
          ],
          "name": "stdout"
        }
      ]
    },
    {
      "cell_type": "markdown",
      "metadata": {
        "id": "QfE8dnvp8kv_"
      },
      "source": [
        "## 위에서 아래로"
      ]
    },
    {
      "cell_type": "code",
      "metadata": {
        "colab": {
          "base_uri": "https://localhost:8080/"
        },
        "id": "iMpPjhjs-RSx",
        "outputId": "248b3bdc-15cc-4127-f725-bb419e1c232f"
      },
      "source": [
        "n = int(input())\n",
        "\n",
        "# N개의 정수 입력 받기\n",
        "array = []\n",
        "for i in range(n):\n",
        "  array.append(int(input()))\n",
        "\n",
        "# 파이썬 기본 정렬 라이브러리로 정렬 수행\n",
        "array = sorted(array, reverse=True)\n",
        "\n",
        "for i in array:\n",
        "  print(i, end=' ')"
      ],
      "execution_count": null,
      "outputs": [
        {
          "output_type": "stream",
          "text": [
            "3\n",
            "27\n",
            "15\n",
            "12\n",
            "27 15 12 "
          ],
          "name": "stdout"
        }
      ]
    },
    {
      "cell_type": "markdown",
      "metadata": {
        "id": "1l0XYFip-vrQ"
      },
      "source": [
        "## 성적이 낮은 순서로 학생 출력하기"
      ]
    },
    {
      "cell_type": "code",
      "metadata": {
        "colab": {
          "base_uri": "https://localhost:8080/"
        },
        "id": "p9qUamu3AGOl",
        "outputId": "ee9ab492-4abb-4576-aefa-5a78dc227e38"
      },
      "source": [
        "# 학생 수\n",
        "n = int(input())\n",
        "\n",
        "array = []\n",
        "for i in range(n):\n",
        "  input_data = input().split()\n",
        "  array.append((input_data[0], int(input_data[1])))\n",
        "\n",
        "# 키 값을 이용하여 정렬\n",
        "array = sorted(array, key = lambda student: student[1])\n",
        "\n",
        "for i in array:\n",
        "  print(i[0], end=' ')"
      ],
      "execution_count": null,
      "outputs": [
        {
          "output_type": "stream",
          "text": [
            "2\n",
            "홍길동 96\n",
            "이순신 90\n",
            "이순신 홍길동 "
          ],
          "name": "stdout"
        }
      ]
    },
    {
      "cell_type": "markdown",
      "metadata": {
        "id": "AQtbQkBsAinC"
      },
      "source": [
        "## 두 배열의 원소 교체"
      ]
    },
    {
      "cell_type": "code",
      "metadata": {
        "colab": {
          "base_uri": "https://localhost:8080/"
        },
        "id": "zAWakWT9Bymu",
        "outputId": "bab6a555-da21-4de8-c6b4-e6a5659002fa"
      },
      "source": [
        "# n개의 원소, k번 바꿔치기 가능\n",
        "n, k = map(int, input().split())\n",
        "# 리스트 a, b\n",
        "a = list(map(int, input().split()))\n",
        "b = list(map(int, input().split()))\n",
        "\n",
        "a.sort()\n",
        "b.sort(reverse=True)\n",
        "\n",
        "for i in range(k):\n",
        "  if a[i] < b[i]:\n",
        "    a[i], b[i] = b[i], a[i]\n",
        "  else:\n",
        "    break\n",
        "\n",
        "print(sum(a))"
      ],
      "execution_count": null,
      "outputs": [
        {
          "output_type": "stream",
          "text": [
            "5 3\n",
            "1 2 5 4 3\n",
            "5 5 6 6 5\n",
            "26\n"
          ],
          "name": "stdout"
        }
      ]
    },
    {
      "cell_type": "code",
      "metadata": {
        "id": "2xj9FjxNDDD9"
      },
      "source": [
        ""
      ],
      "execution_count": null,
      "outputs": []
    }
  ]
}