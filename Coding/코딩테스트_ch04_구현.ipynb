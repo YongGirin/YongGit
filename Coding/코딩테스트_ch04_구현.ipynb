{
 "cells": [
  {
   "cell_type": "markdown",
   "metadata": {
    "id": "5b29HA6Y4AZt"
   },
   "source": [
    "## 완전 탐색과 시뮬레이션"
   ]
  },
  {
   "cell_type": "markdown",
   "metadata": {
    "id": "SJtsu8iW4cUI"
   },
   "source": [
    "예제 4-1 상하좌우\n",
    "+ 일련의 명령에 따라 개체를 차례대로 이동시킨다는 점에서 시뮬레이션\n",
    "+ 구현이 중요한 대표적인 문제 유형"
   ]
  },
  {
   "cell_type": "code",
   "execution_count": null,
   "metadata": {
    "colab": {
     "base_uri": "https://localhost:8080/"
    },
    "id": "siYr4nKK5sPk",
    "outputId": "d1c4124e-ea86-43be-9411-c9e9e740532c"
   },
   "outputs": [
    {
     "name": "stdout",
     "output_type": "stream",
     "text": [
      "5\n",
      "R R R U D D\n",
      "3 2\n"
     ]
    }
   ],
   "source": [
    "# n 입력받기\n",
    "n = int(input())\n",
    "\n",
    "# 시작지점\n",
    "x, y = 1,1\n",
    "\n",
    "# 방향 입력받기\n",
    "plans = input().split()\n",
    "\n",
    "# 이동\n",
    "dx = [0, 0, -1, 1]\n",
    "dy = [-1, 1, 0, 0]\n",
    "move_types = ['L', 'R', 'U', 'D']\n",
    "\n",
    "# \n",
    "for plan in plans:\n",
    "  for i in range(len(move_types)):\n",
    "    if plan == move_types[i]:\n",
    "      nx = x + dx[i]\n",
    "      ny = x + dy[i]\n",
    "    # 공간을 벗어나는 경우 무시\n",
    "  if nx < 1 or ny < 1 or nx > n or ny > n:\n",
    "    continue\n",
    "  x, y = nx, ny\n",
    "\n",
    "print(x,y)\n"
   ]
  },
  {
   "cell_type": "markdown",
   "metadata": {
    "id": "TB9o8Ike8CkY"
   },
   "source": [
    " 4-2 시각\n",
    " + 시뮬레이션\n",
    " + 일반적으로 확인해야할 전체 데이터수가 백만개 이하일 때 완전 탐색 사용"
   ]
  },
  {
   "cell_type": "code",
   "execution_count": null,
   "metadata": {
    "colab": {
     "base_uri": "https://localhost:8080/"
    },
    "id": "7aHB_Fdt8_8K",
    "outputId": "c92cb275-2138-489e-93a7-a882481554b8"
   },
   "outputs": [
    {
     "name": "stdout",
     "output_type": "stream",
     "text": [
      "5\n",
      "11475\n"
     ]
    }
   ],
   "source": [
    "# 시각 h 입력받기\n",
    "h = int(input())\n",
    "\n",
    "count = 0\n",
    "\n",
    "for i in range(h + 1):\n",
    "  for j in range(60):\n",
    "    for k in range(60):\n",
    "      if '3' in str(i) + str(j) + str(k):\n",
    "        count += 1\n",
    "\n",
    "print(count)\n"
   ]
  },
  {
   "cell_type": "markdown",
   "metadata": {
    "id": "fgEAXYJW9xPi"
   },
   "source": [
    "## 왕실의 나이트"
   ]
  },
  {
   "cell_type": "code",
   "execution_count": null,
   "metadata": {
    "colab": {
     "base_uri": "https://localhost:8080/"
    },
    "id": "LJPAJKGX96gB",
    "outputId": "99c2cb88-d09d-493e-cd67-d76c44d16b77"
   },
   "outputs": [
    {
     "name": "stdout",
     "output_type": "stream",
     "text": [
      "a1\n",
      "2\n"
     ]
    }
   ],
   "source": [
    "# 현재 나이트의 위치\n",
    "input_data = input()\n",
    "row = int(input_data[1])\n",
    "col = int(ord(input_data[0]))-int(ord('a')) + 1\n",
    "\n",
    "# 나이트가 이동할 수 있는 8가지 방향 정의\n",
    "steps = [(-2,-1),(-2,1),(2,-1),(2,1),(1,-2),(-1,-2),(1,2),(-1,2)]\n",
    "\n",
    "count = 0\n",
    "# 경우의 수\n",
    "for step in steps:\n",
    "  next_row = row + step[0]\n",
    "  next_col = col + step[1]\n",
    "  # 해당 위치로 이동 가능하면 count 증가\n",
    "  if next_row >=1 and next_row <=8 and next_col >=1 and next_col <=8:\n",
    "    count += 1\n",
    "\n",
    "print(count) "
   ]
  },
  {
   "cell_type": "markdown",
   "metadata": {
    "id": "2g0DmBDQC3c9"
   },
   "source": [
    "## 게임 개발"
   ]
  },
  {
   "cell_type": "markdown",
   "metadata": {
    "id": "6XO1B7k8JljU"
   },
   "source": [
    "2차원 리스트 초기화\n",
    "\n",
    "리스트 컴프리헨션"
   ]
  },
  {
   "cell_type": "code",
   "execution_count": null,
   "metadata": {
    "colab": {
     "base_uri": "https://localhost:8080/"
    },
    "id": "-kIy6GO6Jm_U",
    "outputId": "ec13417b-7bbb-4314-cd3c-25135030d8eb"
   },
   "outputs": [
    {
     "name": "stdout",
     "output_type": "stream",
     "text": [
      "[[0, 0, 0, 0], [0, 0, 0, 0], [0, 0, 0, 0]]\n",
      "[[0, 5, 0, 0], [0, 5, 0, 0], [0, 5, 0, 0]]\n"
     ]
    }
   ],
   "source": [
    "# 잘못된 방법\n",
    "n=3\n",
    "m=4\n",
    "array = [[0]*m] * n\n",
    "print(array)\n",
    "\n",
    "array[1][1] = 5\n",
    "print(array)"
   ]
  },
  {
   "cell_type": "code",
   "execution_count": null,
   "metadata": {
    "colab": {
     "base_uri": "https://localhost:8080/"
    },
    "id": "7wUdgC3gGbAs",
    "outputId": "337e3af0-2287-4f7b-bb2a-ef7a4f6d7bb9"
   },
   "outputs": [
    {
     "name": "stdout",
     "output_type": "stream",
     "text": [
      "5 5\n",
      "1 1 0\n",
      "1 1 1 1 1\n",
      "1 0 0 0 1\n",
      "1 1 0 0 1\n",
      "1 0 0 0 1\n",
      "1 1 1 1 1\n",
      "8\n"
     ]
    }
   ],
   "source": [
    "# N, M 공백으로 입력 받기\n",
    "n, m = map(int, input().split())\n",
    "\n",
    "# 방문할 위치를 저장하기 위해 맵을 생성하여 0으로 초기화\n",
    "d = [[0] * m for _ in range(n)]\n",
    "\n",
    "# 현재 캐릭터의 x좌표, y좌표, 방향 입력 받기\n",
    "x, y, direction = map(int, input().split())\n",
    "d[x][y] = 1 # 현재 좌표 방문 처리\n",
    "\n",
    "# 전체 맵 정보 입력 받기\n",
    "array = []\n",
    "for i in range(n):\n",
    "  array.append(list(map(int, input().split())))\n",
    "\n",
    "# 북, 동, 남, 서 방향 정의:\n",
    "dx = [-1, 0, 1, 0]\n",
    "dy = [0, 1, 0, -1]\n",
    "\n",
    "# 왼쪽으로 회전 정의\n",
    "def turn_left():\n",
    "  global direction\n",
    "  direction -= 1\n",
    "  if direction == -1:\n",
    "    direction = 3\n",
    "\n",
    "# 시뮬레이션\n",
    "count = 1\n",
    "turn_time = 0\n",
    "while True:\n",
    "  # 왼쪽으로 회전\n",
    "  turn_left()\n",
    "  nx = x + dx[direction]\n",
    "  ny = y + dy[direction]\n",
    "  # 회전한 다음 정면에 가보지 않은 칸이 존재하는 경우 이동\n",
    "  if d[nx][ny] == 0 and array[nx][ny] == 0:\n",
    "    d[nx][ny] = 1\n",
    "    x = nx\n",
    "    y = ny\n",
    "    count += 1\n",
    "    turn_time = 0\n",
    "    continue\n",
    "  # 회전한 다음 정면에 가보지 않은 칸이 없거나 바다인 경우\n",
    "  else:\n",
    "    turn_time += 1\n",
    "  \n",
    "  # 네 방향 모두 갈 수 없는 경우\n",
    "  if turn_time == 4:\n",
    "    nx = x - dx[direction]\n",
    "    ny = y - dy[direction]\n",
    "    # 뒤로 갈 수 있다면 이동하기\n",
    "    if array[nx][ny] == 0:\n",
    "      x = nx\n",
    "      y = ny\n",
    "    # 뒤가 바다인 경우\n",
    "    else:\n",
    "      break\n",
    "    turn_time = 0\n",
    "\n",
    "# 정답 출력\n",
    "print(count)\n",
    "    \n",
    "  # 회전한 이후 정면에 가보지 않은 칸이 없거나 바다인 경우\n",
    "\n"
   ]
  },
  {
   "cell_type": "code",
   "execution_count": null,
   "metadata": {
    "id": "kGOw9PqvKXRy"
   },
   "outputs": [],
   "source": []
  }
 ],
 "metadata": {
  "colab": {
   "collapsed_sections": [],
   "name": "코딩테스트_ch04_구현",
   "provenance": []
  },
  "kernelspec": {
   "display_name": "Python 3",
   "language": "python",
   "name": "python3"
  },
  "language_info": {
   "codemirror_mode": {
    "name": "ipython",
    "version": 3
   },
   "file_extension": ".py",
   "mimetype": "text/x-python",
   "name": "python",
   "nbconvert_exporter": "python",
   "pygments_lexer": "ipython3",
   "version": "3.8.5"
  }
 },
 "nbformat": 4,
 "nbformat_minor": 1
}
