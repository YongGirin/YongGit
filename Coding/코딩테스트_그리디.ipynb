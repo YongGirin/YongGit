{
 "cells": [
  {
   "cell_type": "markdown",
   "metadata": {
    "id": "w24oJ8sBlL5u"
   },
   "source": [
    "## 복습\n"
   ]
  },
  {
   "cell_type": "code",
   "execution_count": null,
   "metadata": {
    "colab": {
     "base_uri": "https://localhost:8080/"
    },
    "executionInfo": {
     "elapsed": 866,
     "status": "ok",
     "timestamp": 1609980801705,
     "user": {
      "displayName": "김용길",
      "photoUrl": "",
      "userId": "00028506768877938944"
     },
     "user_tz": -540
    },
    "id": "2EQoFVVcUTGo",
    "outputId": "375266d6-0fa9-4ada-fc4d-73c19b8264cc"
   },
   "outputs": [
    {
     "name": "stdout",
     "output_type": "stream",
     "text": [
      "6\n"
     ]
    }
   ],
   "source": [
    "# 거스름돈\n",
    "N = 1260\n",
    "count = 0\n",
    "coins = [500, 100, 50, 10]\n",
    "\n",
    "for coin in coins:\n",
    "  count += N // coin\n",
    "  N %= coin\n",
    "\n",
    "print(count)\n"
   ]
  },
  {
   "cell_type": "code",
   "execution_count": null,
   "metadata": {
    "colab": {
     "base_uri": "https://localhost:8080/"
    },
    "executionInfo": {
     "elapsed": 9925,
     "status": "ok",
     "timestamp": 1609981891232,
     "user": {
      "displayName": "김용길",
      "photoUrl": "",
      "userId": "00028506768877938944"
     },
     "user_tz": -540
    },
    "id": "__Q4fsZSVVir",
    "outputId": "eaac3de5-0a09-48e0-b792-0d028375898c"
   },
   "outputs": [
    {
     "name": "stdout",
     "output_type": "stream",
     "text": [
      "5 8 3\n",
      "2 4 5 4 6\n",
      "46\n"
     ]
    }
   ],
   "source": [
    "# 큰수의 법칙\n",
    "n, m, k = map(int,input().split())\n",
    "data = list(map(int, input().split()))\n",
    "data.sort()\n",
    "first = data[n-1]\n",
    "second = data[n-2]\n",
    "\n",
    "result = 0\n",
    "\n",
    "while True:\n",
    "  for i in range(k):\n",
    "    if m == 0:\n",
    "      break\n",
    "    result += first\n",
    "    m -= 1\n",
    "  if m == 0:\n",
    "    break\n",
    "  result += second\n",
    "  m -= 1\n",
    "\n",
    "print(result)"
   ]
  },
  {
   "cell_type": "code",
   "execution_count": null,
   "metadata": {
    "colab": {
     "base_uri": "https://localhost:8080/"
    },
    "executionInfo": {
     "elapsed": 11323,
     "status": "ok",
     "timestamp": 1609983055296,
     "user": {
      "displayName": "김용길",
      "photoUrl": "",
      "userId": "00028506768877938944"
     },
     "user_tz": -540
    },
    "id": "P0Tvlo0lVrJI",
    "outputId": "ada29f47-29b9-4ea5-8384-fd1cb3f60af5"
   },
   "outputs": [
    {
     "name": "stdout",
     "output_type": "stream",
     "text": [
      "5 8 3\n",
      "2 4 5 4 6\n",
      "46\n"
     ]
    }
   ],
   "source": [
    "# 큰수의법칙 2\n",
    "n, m, k = map(int, input().split())\n",
    "data = list(map(int, input().split()))\n",
    "data.sort()\n",
    "first = data[n-1]\n",
    "second = data[n-2]\n",
    "\n",
    "count = int(m/(k+1))*k\n",
    "count += m % (k+1)\n",
    "\n",
    "result = 0\n",
    "result += count * first\n",
    "result += (m-count) * second\n",
    "\n",
    "print(result)"
   ]
  },
  {
   "cell_type": "code",
   "execution_count": null,
   "metadata": {
    "colab": {
     "base_uri": "https://localhost:8080/"
    },
    "executionInfo": {
     "elapsed": 10917,
     "status": "ok",
     "timestamp": 1609983609596,
     "user": {
      "displayName": "김용길",
      "photoUrl": "",
      "userId": "00028506768877938944"
     },
     "user_tz": -540
    },
    "id": "_xjCN73FdfAZ",
    "outputId": "ddab46a6-b1b2-4bfc-90bd-4a30c4f03663"
   },
   "outputs": [
    {
     "name": "stdout",
     "output_type": "stream",
     "text": [
      "2 4\n",
      "7 3 1 8\n",
      "3 3 3 4\n",
      "3\n"
     ]
    }
   ],
   "source": [
    "# 숫자 카드 게임 1\n",
    "n, m = map(int, input().split())\n",
    "result = 0\n",
    "for i in range(n):\n",
    "  data = list(map(int, input().split()))\n",
    "  min_value = min(data)\n",
    "  result = max(result, min_value)\n",
    "\n",
    "print(result)"
   ]
  },
  {
   "cell_type": "code",
   "execution_count": null,
   "metadata": {
    "colab": {
     "base_uri": "https://localhost:8080/"
    },
    "executionInfo": {
     "elapsed": 8603,
     "status": "ok",
     "timestamp": 1609983792901,
     "user": {
      "displayName": "김용길",
      "photoUrl": "",
      "userId": "00028506768877938944"
     },
     "user_tz": -540
    },
    "id": "vvwnn649dg6J",
    "outputId": "550cc042-872f-4863-ee0c-ba52e259fc3f"
   },
   "outputs": [
    {
     "name": "stdout",
     "output_type": "stream",
     "text": [
      "2 4\n",
      "7 3 1 8\n",
      "3 3 3 4\n",
      "3\n"
     ]
    }
   ],
   "source": [
    "# 숫자 카드 게임 2\n",
    "n, m = map(int, input().split())\n",
    "result = 0\n",
    "\n",
    "for i in range(n):\n",
    "  data = list(map(int, input().split()))\n",
    "  min_value = 10001\n",
    "  for a in data:\n",
    "    min_value = min(min_value, a)\n",
    "  result = max(result, min_value)\n",
    "\n",
    "print(result)"
   ]
  },
  {
   "cell_type": "code",
   "execution_count": null,
   "metadata": {
    "colab": {
     "base_uri": "https://localhost:8080/"
    },
    "executionInfo": {
     "elapsed": 5958,
     "status": "ok",
     "timestamp": 1609984460871,
     "user": {
      "displayName": "김용길",
      "photoUrl": "",
      "userId": "00028506768877938944"
     },
     "user_tz": -540
    },
    "id": "lS9e7SwLgrGQ",
    "outputId": "8087de5f-ff34-49f2-e99f-1c0d8fa2abb0"
   },
   "outputs": [
    {
     "name": "stdout",
     "output_type": "stream",
     "text": [
      "25 3\n",
      "6\n"
     ]
    }
   ],
   "source": [
    "# 1이 될 때까지 1\n",
    "n, k = map(int, input().split())\n",
    "\n",
    "result = 0\n",
    "while n >= k:\n",
    "  while n % k != 0:\n",
    "    n -= 1\n",
    "    result += 1\n",
    "  n //= k\n",
    "  result += 1\n",
    "\n",
    "while n > 1:\n",
    "  n -= 1\n",
    "  result += 1\n",
    "\n",
    "print(result)\n",
    "    "
   ]
  },
  {
   "cell_type": "code",
   "execution_count": null,
   "metadata": {
    "colab": {
     "base_uri": "https://localhost:8080/"
    },
    "executionInfo": {
     "elapsed": 6090,
     "status": "ok",
     "timestamp": 1609984687332,
     "user": {
      "displayName": "김용길",
      "photoUrl": "",
      "userId": "00028506768877938944"
     },
     "user_tz": -540
    },
    "id": "uH4aKGmFi4-3",
    "outputId": "41e8ee8b-343c-4700-c5fb-7009b8763dc9"
   },
   "outputs": [
    {
     "name": "stdout",
     "output_type": "stream",
     "text": [
      "25 3\n",
      "6\n"
     ]
    }
   ],
   "source": [
    "# 1이 될 때까지 2\n",
    "n, k = map(int, input().split())\n",
    "result = 0\n",
    "\n",
    "while True:\n",
    "  target = (n // k) * k\n",
    "  result += (n - target)\n",
    "  n = target\n",
    "  if n < k:\n",
    "    break\n",
    "  result += 1\n",
    "  n //= k\n",
    "\n",
    "result += (n - 1)\n",
    "print(result)"
   ]
  },
  {
   "cell_type": "markdown",
   "metadata": {
    "id": "CVr_yKGXi8GB"
   },
   "source": [
    "## 문제"
   ]
  },
  {
   "cell_type": "markdown",
   "metadata": {
    "id": "Jzfv8tj_lJA5"
   },
   "source": [
    "### 01. 모험가 길드"
   ]
  },
  {
   "cell_type": "code",
   "execution_count": null,
   "metadata": {
    "colab": {
     "base_uri": "https://localhost:8080/"
    },
    "executionInfo": {
     "elapsed": 5631,
     "status": "ok",
     "timestamp": 1609985896560,
     "user": {
      "displayName": "김용길",
      "photoUrl": "",
      "userId": "00028506768877938944"
     },
     "user_tz": -540
    },
    "id": "PP7iB_BblSVQ",
    "outputId": "43731191-4111-45dc-a25b-547b9a1a4aea"
   },
   "outputs": [
    {
     "name": "stdout",
     "output_type": "stream",
     "text": [
      "5\n",
      "2 3 1 2 2\n",
      "2\n"
     ]
    }
   ],
   "source": [
    "n = int(input())\n",
    "data = list(map(int,input().split()))\n",
    "data.sort()\n",
    "result = 0\n",
    "count = 0\n",
    "\n",
    "for i in data:\n",
    "  count += 1\n",
    "  if count >= i:\n",
    "    result += 1\n",
    "    count = 0\n",
    "\n",
    "print(result)  "
   ]
  },
  {
   "cell_type": "markdown",
   "metadata": {
    "id": "33fVBUPmnwEu"
   },
   "source": [
    "### 02. 곱하기 혹은 더하기\n",
    "\n",
    "\n"
   ]
  },
  {
   "cell_type": "code",
   "execution_count": null,
   "metadata": {
    "colab": {
     "base_uri": "https://localhost:8080/"
    },
    "executionInfo": {
     "elapsed": 3386,
     "status": "ok",
     "timestamp": 1609987494552,
     "user": {
      "displayName": "김용길",
      "photoUrl": "",
      "userId": "00028506768877938944"
     },
     "user_tz": -540
    },
    "id": "NTpcV6pSpl_0",
    "outputId": "fdde2305-3e19-419a-fb35-9f8cd05b670b"
   },
   "outputs": [
    {
     "name": "stdout",
     "output_type": "stream",
     "text": [
      "02984\n",
      "576\n"
     ]
    }
   ],
   "source": [
    "# my\n",
    "s = str(input())\n",
    "result = 0\n",
    "\n",
    "result += int(s[0])\n",
    "\n",
    "for i in range(1,len(s)):\n",
    "  if int(s[i]) == 0 or result == 0:\n",
    "    result += int(s[i])\n",
    "  else:\n",
    "    result *= int(s[i])\n",
    "\n",
    "print(result)"
   ]
  },
  {
   "cell_type": "code",
   "execution_count": null,
   "metadata": {
    "colab": {
     "base_uri": "https://localhost:8080/"
    },
    "executionInfo": {
     "elapsed": 3378,
     "status": "ok",
     "timestamp": 1609987458532,
     "user": {
      "displayName": "김용길",
      "photoUrl": "",
      "userId": "00028506768877938944"
     },
     "user_tz": -540
    },
    "id": "Uf2yH7dFpt9I",
    "outputId": "64a44094-197a-4809-83de-ce43dbde4b6f"
   },
   "outputs": [
    {
     "name": "stdout",
     "output_type": "stream",
     "text": [
      "02984\n",
      "576\n"
     ]
    }
   ],
   "source": [
    "# book\n",
    "data = input()\n",
    "\n",
    "result = int(data[0])\n",
    "\n",
    "for i in range(1, len(data)):\n",
    "  num = int(data[i])\n",
    "  if num <= 1 or result <= 1:\n",
    "    result += num\n",
    "  else:\n",
    "    result *= num\n",
    "\n",
    "print(result)"
   ]
  },
  {
   "cell_type": "markdown",
   "metadata": {
    "id": "KOEy1j6uto-N"
   },
   "source": [
    "### 03. 문자열 뒤집기"
   ]
  },
  {
   "cell_type": "code",
   "execution_count": null,
   "metadata": {
    "colab": {
     "base_uri": "https://localhost:8080/"
    },
    "executionInfo": {
     "elapsed": 3870,
     "status": "ok",
     "timestamp": 1609994848294,
     "user": {
      "displayName": "김용길",
      "photoUrl": "",
      "userId": "00028506768877938944"
     },
     "user_tz": -540
    },
    "id": "tvbAvJyavGyv",
    "outputId": "6af856a5-edc5-4cff-88b0-c91895690fcc"
   },
   "outputs": [
    {
     "name": "stdout",
     "output_type": "stream",
     "text": [
      "000011000\n",
      "1\n"
     ]
    }
   ],
   "source": [
    "# my\n",
    "s = input()\n",
    "\n",
    "count0 = 0\n",
    "count1 = 0\n",
    "result = 0\n",
    "\n",
    "for i in range(len(s)):\n",
    "  if s[i] == 0:\n",
    "    count0 += 1\n",
    "  else:\n",
    "    count1 += 1\n",
    "\n",
    "if count0 >= count1:\n",
    "  for i in range(len(s)):\n",
    "    if s[i] == 1 and s[i-1] == 0:\n",
    "      result += 1\n",
    "else:\n",
    "  for i in range(len(s)):\n",
    "    if int(s[i]) == 0 and int(s[i-1]) == 1:\n",
    "      result += 1\n",
    "\n",
    "print(result)"
   ]
  },
  {
   "cell_type": "code",
   "execution_count": null,
   "metadata": {
    "colab": {
     "base_uri": "https://localhost:8080/"
    },
    "executionInfo": {
     "elapsed": 5040,
     "status": "ok",
     "timestamp": 1609994852745,
     "user": {
      "displayName": "김용길",
      "photoUrl": "",
      "userId": "00028506768877938944"
     },
     "user_tz": -540
    },
    "id": "QqO0wRjGF8I7",
    "outputId": "99e088d6-4544-452e-8bc5-805f5f99bc9b"
   },
   "outputs": [
    {
     "name": "stdout",
     "output_type": "stream",
     "text": [
      "000011000\n",
      "1\n"
     ]
    }
   ],
   "source": [
    "# book\n",
    "data = input()\n",
    "count0 = 0\n",
    "count1 = 0\n",
    "\n",
    "if data[0] == '1':\n",
    "  count0 += 1\n",
    "else:\n",
    "  count1 += 1\n",
    "\n",
    "for i in range(len(data)-1):\n",
    "  if data[i] != data[i+1]:\n",
    "    if data[i+1] == '1':\n",
    "      count0 += 1\n",
    "    else:\n",
    "      count1 += 1\n",
    "\n",
    "print(min(count0, count1))"
   ]
  },
  {
   "cell_type": "markdown",
   "metadata": {
    "id": "qwqcWbIJHUH0"
   },
   "source": [
    "### 04. 만들 수 없는 금액"
   ]
  },
  {
   "cell_type": "code",
   "execution_count": null,
   "metadata": {
    "id": "m-i_tMk1LIiZ"
   },
   "outputs": [],
   "source": [
    "n = int(input())\n",
    "data = list(map(int, input().split()))\n",
    "data.sort()\n",
    "\n",
    "target = 1\n",
    "for x in data:\n",
    "  if target < x:\n",
    "    break\n",
    "    target += x\n",
    "\n",
    "print(target)"
   ]
  },
  {
   "cell_type": "markdown",
   "metadata": {
    "id": "NsgoHRRPOz8i"
   },
   "source": [
    "## 05. 볼링공 고르기"
   ]
  },
  {
   "cell_type": "code",
   "execution_count": null,
   "metadata": {
    "colab": {
     "base_uri": "https://localhost:8080/"
    },
    "executionInfo": {
     "elapsed": 8404,
     "status": "ok",
     "timestamp": 1609999055285,
     "user": {
      "displayName": "김용길",
      "photoUrl": "",
      "userId": "00028506768877938944"
     },
     "user_tz": -540
    },
    "id": "VOlyjUzaO2CS",
    "outputId": "664dcf0b-b988-49a2-b817-479fc29b8f44"
   },
   "outputs": [
    {
     "name": "stdout",
     "output_type": "stream",
     "text": [
      "8 5\n",
      "1 5 4 3 2 4 5 2\n",
      "25\n"
     ]
    }
   ],
   "source": [
    "n, m = map(int, input().split())\n",
    "data = list(map(int, input().split())) \n",
    "count = 0\n",
    "\n",
    "ball = [0] * 11\n",
    "\n",
    "for i in range(len(data)):\n",
    "  ball[data[i]] += 1\n",
    "\n",
    "result = 0\n",
    "for i in range(1, m+1):\n",
    "  n -= ball[i]\n",
    "  result += ball[i] * n\n",
    "\n",
    "print(result)"
   ]
  },
  {
   "cell_type": "markdown",
   "metadata": {
    "id": "aZ57RkYFY2gv"
   },
   "source": [
    "### 06. 무지의 먹방 라이브\n"
   ]
  },
  {
   "cell_type": "code",
   "execution_count": null,
   "metadata": {
    "id": "CiIwwlhqbD2c"
   },
   "outputs": [],
   "source": [
    "import heapq\n",
    "\n",
    "def solution(food_times, k):\n",
    "    if sum(food_times) < k:\n",
    "      return -1\n",
    "    \n",
    "    q = []\n",
    "    for i in range(food_times):\n",
    "      heapq.heappush(q, (food_times[i], i+1))\n",
    "\n",
    "    sum_value = 0 # 먹기위해 사용한 시간\n",
    "    previous = 0 # 직전에 다먹은 음식 시간\n",
    "    length = len(food_times) # 남은 음식 개수\n",
    "    \n",
    "    while sum_value + ((q[0][0] - previous) * length) <= k:\n",
    "      now = heapq.heappop(q)[0]\n",
    "      sum_value += (now-previous) * length\n",
    "      length -= 1\n",
    "      previous = now\n",
    "    \n",
    "    result = sorted(q, key = lambda x: x[1])\n",
    "    return result[(k - sum_value) % length][1]"
   ]
  },
  {
   "cell_type": "code",
   "execution_count": null,
   "metadata": {
    "id": "Je0yFSCQidCr"
   },
   "outputs": [],
   "source": []
  }
 ],
 "metadata": {
  "colab": {
   "authorship_tag": "ABX9TyOXAMGgijr84YG9FvSOcqHF",
   "collapsed_sections": [],
   "name": "코딩테스트_그리디.ipynb",
   "provenance": []
  },
  "kernelspec": {
   "display_name": "Python 3",
   "language": "python",
   "name": "python3"
  },
  "language_info": {
   "codemirror_mode": {
    "name": "ipython",
    "version": 3
   },
   "file_extension": ".py",
   "mimetype": "text/x-python",
   "name": "python",
   "nbconvert_exporter": "python",
   "pygments_lexer": "ipython3",
   "version": "3.8.5"
  }
 },
 "nbformat": 4,
 "nbformat_minor": 1
}
