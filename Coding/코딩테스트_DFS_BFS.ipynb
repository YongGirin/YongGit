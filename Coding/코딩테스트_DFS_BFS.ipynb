{
 "cells": [
  {
   "cell_type": "markdown",
   "metadata": {
    "id": "2NAl4zN9NcuO"
   },
   "source": [
    "## 복습\n"
   ]
  },
  {
   "cell_type": "code",
   "execution_count": null,
   "metadata": {
    "colab": {
     "base_uri": "https://localhost:8080/"
    },
    "executionInfo": {
     "elapsed": 1926,
     "status": "ok",
     "timestamp": 1610433505852,
     "user": {
      "displayName": "김용길",
      "photoUrl": "",
      "userId": "00028506768877938944"
     },
     "user_tz": -540
    },
    "id": "HuE9wq5MNloi",
    "outputId": "b90cfc7a-dfdd-455f-8a41-3ad2f172191c"
   },
   "outputs": [
    {
     "name": "stdout",
     "output_type": "stream",
     "text": [
      "1 2 7 6 8 3 4 5 "
     ]
    }
   ],
   "source": [
    "# DFS 메서드 정의\n",
    "def dfs(graph, v, visited):\n",
    "  visited[v] = True\n",
    "  print(v, end=' ')\n",
    "  # 현재 노드와 연결된 다른 노드를 재귀적으로 방문\n",
    "  for i in graph[v]:\n",
    "    if not visited[i]:\n",
    "      dfs(graph, i, visited)\n",
    "\n",
    "graph = [\n",
    "         [],\n",
    "         [2, 3, 8],\n",
    "         [1, 7],\n",
    "         [1, 4, 5],\n",
    "         [3, 5],\n",
    "         [3, 4],\n",
    "         [7],\n",
    "         [2, 6, 8],\n",
    "         [1, 7]\n",
    "]\n",
    "\n",
    "visited = [False] * 9\n",
    "\n",
    "dfs(graph, 1, visited)"
   ]
  },
  {
   "cell_type": "code",
   "execution_count": null,
   "metadata": {
    "colab": {
     "base_uri": "https://localhost:8080/"
    },
    "executionInfo": {
     "elapsed": 985,
     "status": "ok",
     "timestamp": 1610433924516,
     "user": {
      "displayName": "김용길",
      "photoUrl": "",
      "userId": "00028506768877938944"
     },
     "user_tz": -540
    },
    "id": "i_-ZKmwDVMKR",
    "outputId": "cb525b7a-4381-4abd-ebb6-4a67dc93933b"
   },
   "outputs": [
    {
     "name": "stdout",
     "output_type": "stream",
     "text": [
      "1 2 3 8 7 4 5 6 "
     ]
    }
   ],
   "source": [
    "from collections import deque\n",
    "\n",
    "\n",
    "# BFS 메서드 정의\n",
    "def bfs(graph, start, visited):\n",
    "  queue = deque([start])\n",
    "  # 현재 노드 방문 처리\n",
    "  visited[start] = True\n",
    "  # 큐가 빌때까지 반복\n",
    "  while queue:\n",
    "    # 큐에서 하나의 원소를 뽑아 출력\n",
    "    v = queue.popleft()\n",
    "    print(v, end=' ')\n",
    "    # 해당 원소와 연결되어 있는, 아직 방문하지 않은 원소들 큐에 삽입\n",
    "    for i in graph[v]:\n",
    "      if not visited[i]:\n",
    "        queue.append(i)\n",
    "        visited[i] = True\n",
    "\n",
    "graph = [\n",
    "         [],\n",
    "         [2, 3, 8],\n",
    "         [1, 7],\n",
    "         [1, 4, 5],\n",
    "         [3, 5],\n",
    "         [3, 4],\n",
    "         [7],\n",
    "         [2, 6, 8],\n",
    "         [1, 7]\n",
    "]\n",
    "\n",
    "visited = [False] * 9\n",
    "\n",
    "bfs(graph, 1, visited)"
   ]
  },
  {
   "cell_type": "code",
   "execution_count": null,
   "metadata": {
    "colab": {
     "base_uri": "https://localhost:8080/"
    },
    "executionInfo": {
     "elapsed": 13605,
     "status": "ok",
     "timestamp": 1610436574786,
     "user": {
      "displayName": "김용길",
      "photoUrl": "",
      "userId": "00028506768877938944"
     },
     "user_tz": -540
    },
    "id": "kXfTE8SGVMWi",
    "outputId": "70cad8ad-d5e6-4071-95ad-c9bf793bfaae"
   },
   "outputs": [
    {
     "name": "stdout",
     "output_type": "stream",
     "text": [
      "4 5\n",
      "00110\n",
      "00011\n",
      "11111\n",
      "00000\n",
      "3\n"
     ]
    }
   ],
   "source": [
    "# 음료수 얼려 먹기\n",
    "n, m  = map(int, input().split())\n",
    "graph = []\n",
    "for i in range(n):\n",
    "  graph.append(list(map(int,input())))\n",
    "\n",
    "def dfs(x,y):\n",
    "  if x <= -1 or x >= n or y <= -1 or y >= m:\n",
    "    return False\n",
    "  if graph[x][y] == 0:\n",
    "    graph[x][y] = 1\n",
    "    dfs(x, y-1)\n",
    "    dfs(x, y+1)\n",
    "    dfs(x-1, y)\n",
    "    dfs(x+1, y)\n",
    "    return True\n",
    "  return False\n",
    "\n",
    "result = 0\n",
    "for i in range(n):\n",
    "  for j in range(m):\n",
    "    if dfs(i, j) == True:\n",
    "      result += 1\n",
    "\n",
    "print(result)"
   ]
  },
  {
   "cell_type": "code",
   "execution_count": null,
   "metadata": {
    "colab": {
     "base_uri": "https://localhost:8080/"
    },
    "executionInfo": {
     "elapsed": 19233,
     "status": "ok",
     "timestamp": 1610437194382,
     "user": {
      "displayName": "김용길",
      "photoUrl": "",
      "userId": "00028506768877938944"
     },
     "user_tz": -540
    },
    "id": "_kobhjhod3Fb",
    "outputId": "623584d2-c0f3-4e29-ad9d-8888e908ed8a"
   },
   "outputs": [
    {
     "name": "stdout",
     "output_type": "stream",
     "text": [
      "5 6\n",
      "101010\n",
      "111111\n",
      "000001\n",
      "111111\n",
      "111111\n",
      "10\n"
     ]
    }
   ],
   "source": [
    "# 미로 탈출\n",
    "from collections import deque\n",
    "n, m = map(int, input().split())\n",
    "\n",
    "graph = []\n",
    "for i in range(n):\n",
    "  graph.append(list(map(int, input())))\n",
    "\n",
    "dx = [-1, 1, 0, 0]\n",
    "dy = [0, 0, -1, 1]\n",
    "\n",
    "def bfs(x,y):\n",
    "  queue = deque()\n",
    "  queue.append((x,y))\n",
    "\n",
    "  while queue:\n",
    "    x, y = queue.popleft()\n",
    "    for i in range(4):\n",
    "      nx = x + dx[i]\n",
    "      ny = y + dy[i]\n",
    "      if nx < 0 or nx >= n or ny < 0 or ny >= m:\n",
    "        continue\n",
    "      if graph[nx][ny] == 0:\n",
    "        continue\n",
    "      if graph[nx][ny] == 1:\n",
    "        graph[nx][ny] = graph[x][y] + 1\n",
    "        queue.append((nx, ny))\n",
    "  return graph[n-1][m-1]\n",
    "\n",
    "print(bfs(0,0))"
   ]
  },
  {
   "cell_type": "markdown",
   "metadata": {
    "id": "q5CvUtuNiSby"
   },
   "source": [
    "## 문제"
   ]
  },
  {
   "cell_type": "markdown",
   "metadata": {
    "id": "HNETT6UrPeXg"
   },
   "source": [
    "## 15. 특정거리의 도시 찾기"
   ]
  },
  {
   "cell_type": "code",
   "execution_count": null,
   "metadata": {
    "colab": {
     "base_uri": "https://localhost:8080/"
    },
    "executionInfo": {
     "elapsed": 15044,
     "status": "ok",
     "timestamp": 1610502356426,
     "user": {
      "displayName": "김용길",
      "photoUrl": "",
      "userId": "00028506768877938944"
     },
     "user_tz": -540
    },
    "id": "fSh2yjsQPe7p",
    "outputId": "f19254ab-a813-420b-906a-cf0960c3938d"
   },
   "outputs": [
    {
     "name": "stdout",
     "output_type": "stream",
     "text": [
      "4 4 2 1\n",
      "1 2\n",
      "1 3\n",
      "2 3\n",
      "2 4\n",
      "4\n"
     ]
    }
   ],
   "source": [
    "from collections import deque\n",
    "\n",
    "n, m, k, x = map(int, input().split())\n",
    "graph = [[] for i in range(n + 1)]\n",
    "for _ in range(m):\n",
    "  a, b = map(int, input().split())\n",
    "  graph[a].append(b)\n",
    "\n",
    "distance =[-1] * (n + 1)\n",
    "distance[x] = 0\n",
    "\n",
    "q = deque([x])\n",
    "while q:\n",
    "  now = q.popleft()\n",
    "  for next_node in graph[now]:\n",
    "    if distance[next_node] == -1:\n",
    "      distance[next_node] = distance[now] + 1\n",
    "      q.append(next_node)\n",
    "\n",
    "check = False\n",
    "for i in range(1, n + 1):\n",
    "  if distance[i] == k:\n",
    "    print(i)\n",
    "    check = True\n",
    "\n",
    "if check == False:\n",
    "  print(-1)  "
   ]
  },
  {
   "cell_type": "markdown",
   "metadata": {
    "id": "t70KN4fxZuRe"
   },
   "source": [
    "# 16. 연구소\n",
    "+ 바이러스 상하좌우에 벽을 세우는 모든 경우에 대해서 안전지대 탐색?\n",
    "+ 안전지대 탐색은 DFS/BFS"
   ]
  },
  {
   "cell_type": "code",
   "execution_count": null,
   "metadata": {
    "colab": {
     "base_uri": "https://localhost:8080/"
    },
    "executionInfo": {
     "elapsed": 16588,
     "status": "ok",
     "timestamp": 1610511369681,
     "user": {
      "displayName": "김용길",
      "photoUrl": "",
      "userId": "00028506768877938944"
     },
     "user_tz": -540
    },
    "id": "hdCdJ1Oua9-r",
    "outputId": "3262ab44-2c52-4a32-e2c6-052b14a5ee60"
   },
   "outputs": [
    {
     "name": "stdout",
     "output_type": "stream",
     "text": [
      "4 6\n",
      "0 0 0 0 0 0\n",
      "1 0 0 0 0 2\n",
      "1 1 1 0 0 2\n",
      "0 0 0 0 0 2\n",
      "9\n"
     ]
    }
   ],
   "source": [
    "n, m = map(int, input().split())\n",
    "data = []\n",
    "for i in range(n):\n",
    "  data.append(list(map(int, input().split()))) # 초기 맵 리스트\n",
    "\n",
    "temp = [[0] * m for _ in range(n)] # 벽 설치한 뒤의 맵 리스트\n",
    "\n",
    "dx = [-1, 1, 0, 0]\n",
    "dy = [0, 0, -1, 1]\n",
    "\n",
    "result = 0\n",
    "\n",
    "def virus(x, y):\n",
    "  for i in range(4):\n",
    "    nx = x + dx[i]\n",
    "    ny = y + dy[i]\n",
    "    if nx >= 0 and nx < n and ny >= 0 and ny < m:\n",
    "      if temp[nx][ny] == 0:\n",
    "        temp[nx][ny] = 2 \n",
    "        virus(nx, ny)\n",
    "\n",
    "def get_score():\n",
    "  score = 0\n",
    "  for i in range(n):\n",
    "    for j in range(m):\n",
    "      if temp[i][j] == 0:\n",
    "        score += 1\n",
    "  return score\n",
    "\n",
    "def dfs(count):\n",
    "  global result\n",
    "  # 울타리가 3개 설치된 경우\n",
    "  if count == 3:\n",
    "    for i in range(n):\n",
    "      for j in range(m):\n",
    "        temp[i][j] = data[i][j]\n",
    "    # 각 바이러스 위치에서 전파 진행\n",
    "    for i in range(n):\n",
    "      for j in range(m):\n",
    "        if temp[i][j] == 2:\n",
    "          virus(i,j)\n",
    "    # 안전영역 최댓값 계산\n",
    "    result = max(result, get_score())\n",
    "    return\n",
    "  # 빈 공간에 울타리 설치\n",
    "  for i in range(n):\n",
    "    for j in range(m):\n",
    "      if data[i][j] == 0:\n",
    "        data[i][j] = 1\n",
    "        count += 1\n",
    "        dfs(count)\n",
    "        data[i][j] = 0\n",
    "        count -= 1\n",
    "  \n",
    "dfs(0)\n",
    "print(result)"
   ]
  },
  {
   "cell_type": "markdown",
   "metadata": {
    "id": "CEgh3uOLMRSq"
   },
   "source": [
    "## 17. 경쟁적 전염"
   ]
  },
  {
   "cell_type": "code",
   "execution_count": null,
   "metadata": {
    "colab": {
     "base_uri": "https://localhost:8080/"
    },
    "executionInfo": {
     "elapsed": 11857,
     "status": "ok",
     "timestamp": 1610518402077,
     "user": {
      "displayName": "김용길",
      "photoUrl": "",
      "userId": "00028506768877938944"
     },
     "user_tz": -540
    },
    "id": "4Ll9VWjyS7aq",
    "outputId": "13d84cba-4369-4354-8c32-15f6f95aec91"
   },
   "outputs": [
    {
     "name": "stdout",
     "output_type": "stream",
     "text": [
      "3 3\n",
      "1 0 2\n",
      "0 0 0 \n",
      "3 0 0 \n",
      "2 3 2\n",
      "3\n"
     ]
    }
   ],
   "source": [
    "from collections import deque\n",
    "\n",
    "n, k = map(int,input().split())\n",
    "graph = [] # 전체 시험관\n",
    "data = [] # 바이러스 정보\n",
    "\n",
    "for i in range(n):\n",
    "  graph.append(list(map(int, input().split())))\n",
    "  for j in range(n):\n",
    "    # 바이러스가 있으면\n",
    "    if graph[i][j] != 0:\n",
    "      # 바이러스 종류, 시간, x, y 삽입\n",
    "      data.append((graph[i][j], 0, i, j))\n",
    "\n",
    "data.sort()\n",
    "q = deque(data)\n",
    "\n",
    "target_s, target_x, target_y = map(int, input().split())\n",
    "\n",
    "# 바이러스가 퍼질 수 있는 방향\n",
    "dx = [-1, 1, 0, 0]\n",
    "dy = [0, 0, -1, 1]\n",
    "\n",
    "# BFS 진행\n",
    "while q:\n",
    "  virus, s, x, y = q.popleft()\n",
    "  # 정확히 s초가 지나거나 큐가 빌 때까지 진행\n",
    "  if s == target_s:\n",
    "    break\n",
    "  # 현재 위치에서 4가지 방향 확인\n",
    "  for i in range(4):\n",
    "    nx = x + dx[i]\n",
    "    ny = y + dy[i]\n",
    "    if nx >= 0 and nx < n and ny >= 0 and ny < n:\n",
    "      if graph[nx][ny] == 0: # 앞서 data.sort로 작은 바이러스 먼저 퍼짐\n",
    "        graph[nx][ny] = virus \n",
    "        q.append((virus, s + 1, nx, ny))\n",
    "\n",
    "print(graph[target_x-1][target_y-1])\n"
   ]
  },
  {
   "cell_type": "markdown",
   "metadata": {
    "id": "1gi41sA0Xymc"
   },
   "source": [
    "## 18. 괄호 변환"
   ]
  },
  {
   "cell_type": "code",
   "execution_count": null,
   "metadata": {
    "id": "0St45ZcGYahl"
   },
   "outputs": [],
   "source": [
    "# programmers.co.kr/learn/courses/30/lessons/60058\n",
    "\n",
    "# 균형잡힌 문자열인지\n",
    "def balanced_index(p):\n",
    "  count = 0\n",
    "  for i in range(len(p)):\n",
    "    if p[i] == '(':\n",
    "      count += 1\n",
    "    else:\n",
    "      count -= 1\n",
    "    if count == 0:\n",
    "      return i\n",
    "\n",
    "# 올바른 문자열 인지\n",
    "def check_proper(p):\n",
    "  count = 0\n",
    "  for i in p:\n",
    "    if i == \"(\":\n",
    "      count += 1\n",
    "    else:\n",
    "      if count == 0:\n",
    "        return False\n",
    "      count -= 1\n",
    "  return True    \n",
    "\n",
    "def solution(p):\n",
    "  answer = ''\n",
    "  if p == '':\n",
    "    return answer\n",
    "  index = balanced_index(p)\n",
    "  u = p[:index + 1]\n",
    "  v = p[index + 1:]\n",
    "  if check_proper(u):\n",
    "    answer = u + solution(v)\n",
    "  else:\n",
    "    answer = \"(\"\n",
    "    answer += solution(v)\n",
    "    answer += \")\"\n",
    "    u = list(u[1:-1])\n",
    "    for i in range(len(u)):\n",
    "      if u[i] == \"(\":\n",
    "        u[i] = \")\"\n",
    "      else:\n",
    "        u[i] = \"(\"\n",
    "    answer += ''.join(u)\n",
    "  return answer"
   ]
  },
  {
   "cell_type": "code",
   "execution_count": null,
   "metadata": {
    "colab": {
     "base_uri": "https://localhost:8080/",
     "height": 35
    },
    "executionInfo": {
     "elapsed": 1210,
     "status": "ok",
     "timestamp": 1610520494652,
     "user": {
      "displayName": "김용길",
      "photoUrl": "",
      "userId": "00028506768877938944"
     },
     "user_tz": -540
    },
    "id": "GoA5jlaKfnxF",
    "outputId": "643ff337-9b64-4c16-ecd4-09e33217527b"
   },
   "outputs": [
    {
     "data": {
      "application/vnd.google.colaboratory.intrinsic+json": {
       "type": "string"
      },
      "text/plain": [
       "'()'"
      ]
     },
     "execution_count": 18,
     "metadata": {
      "tags": []
     },
     "output_type": "execute_result"
    }
   ],
   "source": [
    "p = ')('\n",
    "solution(p)"
   ]
  },
  {
   "cell_type": "markdown",
   "metadata": {
    "id": "JTWse3Syh5OX"
   },
   "source": [
    "## 19. 연산자 끼워 넣기 \n",
    "+ n <= 11 로 작으므로 모든 경우 계산\n",
    "+ 재귀함수?"
   ]
  },
  {
   "cell_type": "code",
   "execution_count": 1,
   "metadata": {
    "colab": {
     "base_uri": "https://localhost:8080/"
    },
    "executionInfo": {
     "elapsed": 1834,
     "status": "ok",
     "timestamp": 1610609833292,
     "user": {
      "displayName": "김용길",
      "photoUrl": "",
      "userId": "00028506768877938944"
     },
     "user_tz": -540
    },
    "id": "UkZ6NMA40r5K",
    "outputId": "1e855530-0582-44e6-8c0e-6892c79f19bd"
   },
   "outputs": [
    {
     "name": "stdout",
     "output_type": "stream",
     "text": [
      "[('+', '+', '+'), ('+', '+', '-'), ('+', '+', '*'), ('+', '+', '/'), ('+', '-', '+'), ('+', '-', '-'), ('+', '-', '*'), ('+', '-', '/'), ('+', '*', '+'), ('+', '*', '-'), ('+', '*', '*'), ('+', '*', '/'), ('+', '/', '+'), ('+', '/', '-'), ('+', '/', '*'), ('+', '/', '/'), ('-', '+', '+'), ('-', '+', '-'), ('-', '+', '*'), ('-', '+', '/'), ('-', '-', '+'), ('-', '-', '-'), ('-', '-', '*'), ('-', '-', '/'), ('-', '*', '+'), ('-', '*', '-'), ('-', '*', '*'), ('-', '*', '/'), ('-', '/', '+'), ('-', '/', '-'), ('-', '/', '*'), ('-', '/', '/'), ('*', '+', '+'), ('*', '+', '-'), ('*', '+', '*'), ('*', '+', '/'), ('*', '-', '+'), ('*', '-', '-'), ('*', '-', '*'), ('*', '-', '/'), ('*', '*', '+'), ('*', '*', '-'), ('*', '*', '*'), ('*', '*', '/'), ('*', '/', '+'), ('*', '/', '-'), ('*', '/', '*'), ('*', '/', '/'), ('/', '+', '+'), ('/', '+', '-'), ('/', '+', '*'), ('/', '+', '/'), ('/', '-', '+'), ('/', '-', '-'), ('/', '-', '*'), ('/', '-', '/'), ('/', '*', '+'), ('/', '*', '-'), ('/', '*', '*'), ('/', '*', '/'), ('/', '/', '+'), ('/', '/', '-'), ('/', '/', '*'), ('/', '/', '/')]\n"
     ]
    }
   ],
   "source": [
    "# 중복 순열\n",
    "from itertools import product\n",
    "\n",
    "n = 4\n",
    "print(list(product(['+', '-', '*', '/'], repeat=(n-1))))"
   ]
  },
  {
   "cell_type": "code",
   "execution_count": 2,
   "metadata": {
    "colab": {
     "base_uri": "https://localhost:8080/"
    },
    "executionInfo": {
     "elapsed": 9259,
     "status": "ok",
     "timestamp": 1610610709843,
     "user": {
      "displayName": "김용길",
      "photoUrl": "",
      "userId": "00028506768877938944"
     },
     "user_tz": -540
    },
    "id": "DWNK2RD6tzCB",
    "outputId": "4c0fdce7-e0a5-4481-d86d-47839156d0fb"
   },
   "outputs": [
    {
     "name": "stdout",
     "output_type": "stream",
     "text": [
      "2\n",
      "5 6\n",
      "0 0 1 0\n",
      "30\n",
      "30\n"
     ]
    }
   ],
   "source": [
    "n = int(input())\n",
    "data = list(map(int, input().split()))\n",
    "add, sub, mul, div = map(int,input().split())\n",
    "\n",
    "min_value = 1e9\n",
    "max_value = -1e9\n",
    "\n",
    "def dfs(i, now):\n",
    "  global min_value, max_value, add, sub, mul, div\n",
    "  # 모든 연산자를 다 사용한 경우 최솟값과 최댓값 출력\n",
    "  if i == n:\n",
    "    min_value = min(min_value, now)\n",
    "    max_value = max(max_value, now)\n",
    "  else:\n",
    "    # 각 연산자에 대해 재귀적으로 수행\n",
    "    if add > 0:\n",
    "      add -= 1\n",
    "      dfs(i + 1, now + data[i])\n",
    "      add += 1\n",
    "    if sub > 0:\n",
    "      sub -= 1\n",
    "      dfs(i + 1, now - data[i])\n",
    "      sub += 1\n",
    "    if mul > 0:\n",
    "      mul -= 1\n",
    "      dfs(i + 1, now * data[i])\n",
    "      mul += 1\n",
    "    if div > 0:\n",
    "      div -= 1\n",
    "      dfs(i + 1, int(now / data[i]))\n",
    "      div += 1\n",
    "\n",
    "dfs(1, data[0])\n",
    "\n",
    "print(max_value)\n",
    "print(min_value)"
   ]
  },
  {
   "cell_type": "markdown",
   "metadata": {
    "id": "ULcUH6ti4PC3"
   },
   "source": [
    "## 감시 피하기\n",
    "+ 모든 경우 살펴보기"
   ]
  },
  {
   "cell_type": "code",
   "execution_count": 10,
   "metadata": {
    "colab": {
     "base_uri": "https://localhost:8080/"
    },
    "executionInfo": {
     "elapsed": 17999,
     "status": "ok",
     "timestamp": 1610614421579,
     "user": {
      "displayName": "김용길",
      "photoUrl": "",
      "userId": "00028506768877938944"
     },
     "user_tz": -540
    },
    "id": "jpPtcnfG5yaO",
    "outputId": "2ca8ece4-c44d-42d4-82c6-edc467bc00c4"
   },
   "outputs": [
    {
     "name": "stdout",
     "output_type": "stream",
     "text": [
      "4\n",
      "X X X X\n",
      "X S X T\n",
      "X X X T\n",
      "X T X X\n",
      "No\n"
     ]
    }
   ],
   "source": [
    "from itertools import combinations\n",
    "\n",
    "n = int(input())\n",
    "board = []\n",
    "teachers = []\n",
    "spaces = [] # 빈 공간\n",
    "\n",
    "for i in range(n):\n",
    "  board.append(list(input().split()))\n",
    "  for j in range(n):\n",
    "    if board[i][j] == 'T':\n",
    "      teachers.append((i,j))\n",
    "    if board[i][j] == 'X':\n",
    "      spaces.append((i,j))\n",
    "\n",
    "def watch(x, y, direction):\n",
    "  # 왼쪽으로 감시\n",
    "  if direction == 0:\n",
    "    while y >= 0:\n",
    "      if board[x][y] == 'S':\n",
    "        return True\n",
    "      if board[x][y] == 'O':\n",
    "        return False\n",
    "      y -= 1\n",
    "      \n",
    "  # 오른쪽으로 감시\n",
    "  if direction == 1:\n",
    "    while y < n:\n",
    "      if board[x][y] == 'S':\n",
    "        return True\n",
    "      if board[x][y] == 'O':\n",
    "        return False\n",
    "      y += 1\n",
    "\n",
    "  # 위쪽으로 감시\n",
    "  if direction == 2:\n",
    "    while x >= 0:\n",
    "      if board[x][y] == 'S':\n",
    "        return True\n",
    "      if board[x][y] == 'O':\n",
    "        return False\n",
    "      x -= 1\n",
    "\n",
    "  # 아래쪽으로 감시\n",
    "  if direction == 3:\n",
    "    while x < n:\n",
    "      if board[x][y] == 'S':\n",
    "        return True\n",
    "      if board[x][y] == 'O':\n",
    "        return False\n",
    "      x += 1\n",
    "  return False\n",
    "\n",
    "# 장애물 설치 이후에, 한 명이라도 학생이 감지되는지 검사\n",
    "def process():\n",
    "  for x, y in teachers:\n",
    "    for i in range(4):\n",
    "      if watch(x, y, i):\n",
    "        return True\n",
    "  return False\n",
    "\n",
    "find = False\n",
    "\n",
    "# 빈 공간에서 3개를 뽑는 모든 조합 확인\n",
    "for data in combinations(spaces, 3):\n",
    "  for x, y in data:\n",
    "    board[x][y] = 'O'\n",
    "  # 학생이 한명도 감지되지 않는 경우\n",
    "  if not process:\n",
    "    find = True\n",
    "    break\n",
    "  # 설치된 벽 없애기\n",
    "  for x, y in data:\n",
    "    board[x][y] = 'X'\n",
    "\n",
    "if find:\n",
    "  print('Yes')\n",
    "else:\n",
    "  print('No')"
   ]
  },
  {
   "cell_type": "code",
   "execution_count": null,
   "metadata": {
    "id": "k7AN7fP5-yPS"
   },
   "outputs": [],
   "source": []
  }
 ],
 "metadata": {
  "colab": {
   "authorship_tag": "ABX9TyOcChgsGgGyrsm8CofZheoW",
   "collapsed_sections": [],
   "name": "코딩테스트_DFS/BFS.ipynb",
   "provenance": []
  },
  "kernelspec": {
   "display_name": "Python 3",
   "language": "python",
   "name": "python3"
  },
  "language_info": {
   "codemirror_mode": {
    "name": "ipython",
    "version": 3
   },
   "file_extension": ".py",
   "mimetype": "text/x-python",
   "name": "python",
   "nbconvert_exporter": "python",
   "pygments_lexer": "ipython3",
   "version": "3.8.5"
  }
 },
 "nbformat": 4,
 "nbformat_minor": 1
}
