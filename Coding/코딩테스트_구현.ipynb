{
 "cells": [
  {
   "cell_type": "markdown",
   "metadata": {
    "id": "bRVSaMYmbjVe"
   },
   "source": [
    "## 복습\n"
   ]
  },
  {
   "cell_type": "code",
   "execution_count": null,
   "metadata": {
    "colab": {
     "base_uri": "https://localhost:8080/"
    },
    "executionInfo": {
     "elapsed": 9096,
     "status": "ok",
     "timestamp": 1610083636639,
     "user": {
      "displayName": "김용길",
      "photoUrl": "",
      "userId": "00028506768877938944"
     },
     "user_tz": -540
    },
    "id": "thw4J3-pb67d",
    "outputId": "a0f425c5-5956-409c-dcae-b4b4a7363314"
   },
   "outputs": [
    {
     "name": "stdout",
     "output_type": "stream",
     "text": [
      "5\n",
      "R R R U D D \n",
      "3 4\n"
     ]
    }
   ],
   "source": [
    "# 상하좌우\n",
    "n = int(input())\n",
    "plans = list(input().split())\n",
    "\n",
    "move = ['L', 'R', \"U\", 'D']\n",
    "x , y = 1,1\n",
    "dx = [0, 0, -1, 1]\n",
    "dy = [-1, 1, 0, 0]\n",
    "\n",
    "for plan in plans:\n",
    "  for i in range(len(move)):\n",
    "    if plan == move[i]:\n",
    "      nx = x + dx[i]\n",
    "      ny = y + dy[i]\n",
    "  if nx < 1 or ny < 1 or nx > n or ny > n:\n",
    "    continue\n",
    "  \n",
    "  x, y = nx, ny\n",
    "\n",
    "print(x,y)"
   ]
  },
  {
   "cell_type": "code",
   "execution_count": null,
   "metadata": {
    "colab": {
     "base_uri": "https://localhost:8080/"
    },
    "executionInfo": {
     "elapsed": 2071,
     "status": "ok",
     "timestamp": 1610083871241,
     "user": {
      "displayName": "김용길",
      "photoUrl": "",
      "userId": "00028506768877938944"
     },
     "user_tz": -540
    },
    "id": "AJ-F2pPrdbAQ",
    "outputId": "ff21e0b7-6de3-4672-9159-11cfe8ed8233"
   },
   "outputs": [
    {
     "name": "stdout",
     "output_type": "stream",
     "text": [
      "5\n",
      "11475\n"
     ]
    }
   ],
   "source": [
    "# 시각\n",
    "n = int(input())\n",
    "\n",
    "count = 0\n",
    "\n",
    "for i in range(n+1):\n",
    "  for j in range(60):\n",
    "    for k in range(60):\n",
    "      if '3' in str(i) + str(j) + str(k):\n",
    "        count += 1\n",
    "\n",
    "print(count)"
   ]
  },
  {
   "cell_type": "code",
   "execution_count": null,
   "metadata": {
    "colab": {
     "base_uri": "https://localhost:8080/"
    },
    "executionInfo": {
     "elapsed": 5978,
     "status": "ok",
     "timestamp": 1610085492588,
     "user": {
      "displayName": "김용길",
      "photoUrl": "",
      "userId": "00028506768877938944"
     },
     "user_tz": -540
    },
    "id": "M26XFof0ehEb",
    "outputId": "244274d1-ad0a-4ee1-d572-0e38c2534a16"
   },
   "outputs": [
    {
     "name": "stdout",
     "output_type": "stream",
     "text": [
      "a1\n",
      "2\n"
     ]
    }
   ],
   "source": [
    "# 왕실의 나이트\n",
    "location = input()\n",
    "chess = range(1,9)\n",
    "x = int(location[1])\n",
    "y = int(ord(location[0])) - int(ord('a')) + 1\n",
    "\n",
    "move_types = ['LU','LD','DL','DR','UR', 'UL','RD','RU']\n",
    "dx = [-1, -1, 2, 2, -2, -2, 2, 2]\n",
    "dy = [-2, -2, -1, 1, 1, -1, 1, -1]\n",
    "\n",
    "count = 0\n",
    "\n",
    "for i in range(len(move_types)):\n",
    "  nx = x + dx[i]\n",
    "  ny = y + dy[i]\n",
    "  if nx < 1 or ny < 1 or nx > 8 or ny > 8:\n",
    "    continue\n",
    "  count += 1\n",
    "\n",
    "print(count)"
   ]
  },
  {
   "cell_type": "code",
   "execution_count": null,
   "metadata": {
    "colab": {
     "base_uri": "https://localhost:8080/"
    },
    "executionInfo": {
     "elapsed": 30629,
     "status": "ok",
     "timestamp": 1610089071662,
     "user": {
      "displayName": "김용길",
      "photoUrl": "",
      "userId": "00028506768877938944"
     },
     "user_tz": -540
    },
    "id": "3bEgvBH5fh46",
    "outputId": "ee794651-95db-4e2b-fc52-61efb76691f2"
   },
   "outputs": [
    {
     "name": "stdout",
     "output_type": "stream",
     "text": [
      "5 5 \n",
      "1 1 0\n",
      "1 1 1 1 1\n",
      "1 0 0 0 1\n",
      "1 0 1 0 1\n",
      "1 1 1 0 1\n",
      "1 1 1 1 1\n",
      "5\n"
     ]
    }
   ],
   "source": [
    "# 게임 개발\n",
    "n, m = map(int, input().split())\n",
    "\n",
    "# 방문한 위치 저장\n",
    "d = [[0] * m for _ in range(n)]\n",
    "\n",
    "x, y, direction = map(int, input().split())\n",
    "\n",
    "d[x][y] = 1\n",
    "\n",
    "array = []\n",
    "for i in range(n):\n",
    "  array.append(list(map(int, input().split())))\n",
    "\n",
    "dx = [-1, 0, 1, 0]\n",
    "dy = [0, -1, 0, 1]\n",
    "\n",
    "count = 1\n",
    "turn_time = 0\n",
    "\n",
    "def turn_left():\n",
    "  global direction\n",
    "  direction -= 1\n",
    "  if direction == -1:\n",
    "    direction = 3\n",
    "\n",
    "while True:\n",
    "  turn_left()\n",
    "  nx = x + dx[direction]\n",
    "  ny = y + dy[direction]\n",
    "  if d[nx][ny] == 0 and array[nx][ny] == 0:\n",
    "    d[nx][ny] =1\n",
    "    x = nx\n",
    "    y = ny\n",
    "    count += 1\n",
    "    turn_time = 0\n",
    "    continue\n",
    "  else:\n",
    "    turn_time += 1\n",
    "  if turn_time == 4:\n",
    "    nx = x - dx[direction]\n",
    "    ny = y = dy[direction]\n",
    "    if array[nx][ny] == 0:\n",
    "      x = nx\n",
    "      y = ny\n",
    "    else:\n",
    "      break\n",
    "    turn_time = 0\n",
    "\n",
    "print(count)\n",
    "    \n"
   ]
  },
  {
   "cell_type": "markdown",
   "metadata": {
    "id": "T-juesP1oybE"
   },
   "source": [
    "## 문제\n"
   ]
  },
  {
   "cell_type": "markdown",
   "metadata": {
    "id": "hOR7H2Xs9hGI"
   },
   "source": [
    "### 07. 럭키스트레이트"
   ]
  },
  {
   "cell_type": "code",
   "execution_count": null,
   "metadata": {
    "colab": {
     "base_uri": "https://localhost:8080/"
    },
    "executionInfo": {
     "elapsed": 4144,
     "status": "ok",
     "timestamp": 1610094394202,
     "user": {
      "displayName": "김용길",
      "photoUrl": "",
      "userId": "00028506768877938944"
     },
     "user_tz": -540
    },
    "id": "6_jwqhGJ9mio",
    "outputId": "3e668b1c-6899-4e2e-9127-89a9a937f249"
   },
   "outputs": [
    {
     "name": "stdout",
     "output_type": "stream",
     "text": [
      "7755\n",
      "READY\n"
     ]
    }
   ],
   "source": [
    "n = input()\n",
    "w = int(len(n) / 2)\n",
    "first = 0\n",
    "second = 0\n",
    "\n",
    "for i in range(0,w):\n",
    "  first += int(n[i])\n",
    "for j in range(w,len(n)):\n",
    "  second += int(n[j])\n",
    "\n",
    "if first == second:\n",
    "  print(\"LUCKY\")\n",
    "else:\n",
    "  print(\"READY\")"
   ]
  },
  {
   "cell_type": "markdown",
   "metadata": {
    "id": "71uL5C-HDj6M"
   },
   "source": [
    "### 08. 문자열 재정렬\n"
   ]
  },
  {
   "cell_type": "code",
   "execution_count": null,
   "metadata": {
    "colab": {
     "base_uri": "https://localhost:8080/"
    },
    "executionInfo": {
     "elapsed": 5223,
     "status": "ok",
     "timestamp": 1610323519669,
     "user": {
      "displayName": "김용길",
      "photoUrl": "",
      "userId": "00028506768877938944"
     },
     "user_tz": -540
    },
    "id": "UrGJ4Nr4Dmha",
    "outputId": "01e699bd-a7a0-4a94-933a-fd573f680a98"
   },
   "outputs": [
    {
     "name": "stdout",
     "output_type": "stream",
     "text": [
      "k1ka5cb7\n",
      "abckk13"
     ]
    }
   ],
   "source": [
    "s = input()\n",
    "alpha = []\n",
    "num = 0\n",
    "\n",
    "for i in s:\n",
    "  if i.isalpha():\n",
    "    alpha.append(i)\n",
    "  else:\n",
    "    num += int(i)\n",
    "\n",
    "alpha.sort()\n",
    "alpha.append(str(num))\n",
    "for i in alpha:\n",
    "  print(i, end='')"
   ]
  },
  {
   "cell_type": "markdown",
   "metadata": {
    "id": "dRTDo3j6LJyX"
   },
   "source": [
    "## 09. 문자열 압축"
   ]
  },
  {
   "cell_type": "code",
   "execution_count": null,
   "metadata": {
    "id": "9TxulhDO2JZz"
   },
   "outputs": [],
   "source": [
    "# https://programmers.co.kr/learn/courses/30/lessons/60057\n",
    "\n",
    "def solution(s):\n",
    "  answer = len(s)\n",
    "  for step in range(1,len(s)//2 + 1):\n",
    "    prev = s[0:step]\n",
    "    count = 1\n",
    "    compress = ''\n",
    "    for j in range(step, len(s), step):\n",
    "      if prev == s[j:j + step]:\n",
    "        count += 1\n",
    "      else:\n",
    "        compress += str(count) + prev if count >= 2 else prev\n",
    "        prev = s[j:j + step]\n",
    "        count = 1\n",
    "    compress += str(count) + prev if count >= 2 else prev\n",
    "    answer = min(answer, len(compress))\n",
    "  return answer"
   ]
  },
  {
   "cell_type": "markdown",
   "metadata": {
    "id": "wYwarso6-GIv"
   },
   "source": [
    "## 10. 자물쇠와 열쇠"
   ]
  },
  {
   "cell_type": "code",
   "execution_count": null,
   "metadata": {
    "colab": {
     "base_uri": "https://localhost:8080/"
    },
    "executionInfo": {
     "elapsed": 1738,
     "status": "ok",
     "timestamp": 1610338728037,
     "user": {
      "displayName": "김용길",
      "photoUrl": "",
      "userId": "00028506768877938944"
     },
     "user_tz": -540
    },
    "id": "p-sibs9dFQeq",
    "outputId": "47540273-5702-4fe3-99bd-82fd13961278"
   },
   "outputs": [
    {
     "data": {
      "text/plain": [
       "True"
      ]
     },
     "execution_count": 1,
     "metadata": {
      "tags": []
     },
     "output_type": "execute_result"
    }
   ],
   "source": [
    "# https://programmers.co.kr/learn/courses/30/lessons/60059\n",
    "\n",
    "def rotate_a_matrix_by_90_degree(a):\n",
    "  n = len(a) # 행 길이\n",
    "  m = len(a[0]) # 열 길이\n",
    "  result = [[0]*n for _ in range(m)]\n",
    "  for i in range(n):\n",
    "    for j in range(m):\n",
    "      result[j][n - i - 1] = a[i][j]\n",
    "  return result\n",
    "\n",
    "def check(new_lock):\n",
    "  lock_length = len(new_lock) // 3\n",
    "  for i in range(lock_length, lock_length * 2):\n",
    "    for j in range(lock_length, lock_length * 2):\n",
    "      if new_lock[i][j] != 1:\n",
    "        return False\n",
    "  return True\n",
    "\n",
    "def solution(key, lock):\n",
    "  n = len(lock)\n",
    "  m = len(key)\n",
    "  new_lock = [[0] * (n * 3) for i in range(n * 3)]\n",
    "  for i in range(n):\n",
    "    for j in range(n):\n",
    "      new_lock[i + n][j + n] = lock[i][j]\n",
    "\n",
    "  for rotation in range(4):\n",
    "    key = rotate_a_matrix_by_90_degree(key)\n",
    "    for x in range(n * 2):\n",
    "      for y in range(n * 2):\n",
    "        for i in range(m):\n",
    "          for j in range(m):\n",
    "            new_lock[x + i][y + j] += key[i][j]\n",
    "        if check(new_lock) == True:\n",
    "          return True\n",
    "        for i in range(m):\n",
    "          for j in range(m):\n",
    "            new_lock[x+i][y+j] -= key[i][j]\n",
    "  return False\n",
    "\n",
    "key = [[0,0,0],[1,0,0],[0,1,1]]\n",
    "lock = [[1,1,1], [1,1,0], [1,0,1]]\n",
    "\n",
    "solution(key, lock)"
   ]
  },
  {
   "cell_type": "code",
   "execution_count": null,
   "metadata": {
    "colab": {
     "base_uri": "https://localhost:8080/"
    },
    "executionInfo": {
     "elapsed": 714,
     "status": "ok",
     "timestamp": 1610332176184,
     "user": {
      "displayName": "김용길",
      "photoUrl": "",
      "userId": "00028506768877938944"
     },
     "user_tz": -540
    },
    "id": "_E_8xA8IHAnG",
    "outputId": "fc102143-acf7-4d48-f8da-dd07c247c893"
   },
   "outputs": [
    {
     "data": {
      "text/plain": [
       "True"
      ]
     },
     "execution_count": 28,
     "metadata": {
      "tags": []
     },
     "output_type": "execute_result"
    }
   ],
   "source": [
    "# 깃허브 답\n",
    "def rotate_a_matrix_by_90_degree(a):\n",
    "    n = len(a) # 행 길이 계산\n",
    "    m = len(a[0]) # 열 길이 계산\n",
    "    result = [[0] * n for _ in range(m)] # 결과 리스트\n",
    "    for i in range(n):\n",
    "        for j in range(m):\n",
    "            result[j][n - i - 1] = a[i][j]\n",
    "    return result\n",
    "\n",
    "# 자물쇠의 중간 부분이 모두 1인지 확인\n",
    "def check(new_lock):\n",
    "    lock_length = len(new_lock) // 3\n",
    "    for i in range(lock_length, lock_length * 2):\n",
    "        for j in range(lock_length, lock_length * 2):\n",
    "            if new_lock[i][j] != 1:\n",
    "                return False\n",
    "    return True\n",
    "\n",
    "def solution(key, lock):\n",
    "    n = len(lock)\n",
    "    m = len(key)\n",
    "    # 자물쇠의 크기를 기존의 3배로 변환\n",
    "    new_lock = [[0] * (n * 3) for _ in range(n * 3)]\n",
    "    # 새로운 자물쇠의 중앙 부분에 기존의 자물쇠 넣기\n",
    "    for i in range(n):\n",
    "        for j in range(n):\n",
    "            new_lock[i + n][j + n] = lock[i][j]\n",
    "\n",
    "    # 4가지 방향에 대해서 확인\n",
    "    for rotation in range(4):\n",
    "        key = rotate_a_matrix_by_90_degree(key) # 열쇠 회전\n",
    "        for x in range(n * 2):\n",
    "            for y in range(n * 2):\n",
    "                # 자물쇠에 열쇠를 끼워 넣기\n",
    "                for i in range(m):\n",
    "                    for j in range(m):\n",
    "                        new_lock[x + i][y + j] += key[i][j]\n",
    "                # 새로운 자물쇠에 열쇠가 정확히 들어 맞는지 검사\n",
    "                if check(new_lock) == True:\n",
    "                    return True\n",
    "                # 자물쇠에서 열쇠를 다시 빼기\n",
    "                for i in range(m):\n",
    "                    for j in range(m):\n",
    "                        new_lock[x + i][y + j] -= key[i][j]\n",
    "    return False\n",
    "\n",
    "key = [[0,0,0],[1,0,0],[0,1,1]]\n",
    "lock = [[1,1,1], [1,1,0], [1,0,1]]\n",
    "\n",
    "solution(key, lock)"
   ]
  },
  {
   "cell_type": "markdown",
   "metadata": {
    "id": "umH8nyG5Rvv_"
   },
   "source": [
    "## 11. 뱀"
   ]
  },
  {
   "cell_type": "code",
   "execution_count": null,
   "metadata": {
    "colab": {
     "base_uri": "https://localhost:8080/"
    },
    "executionInfo": {
     "elapsed": 15701,
     "status": "ok",
     "timestamp": 1610343512052,
     "user": {
      "displayName": "김용길",
      "photoUrl": "",
      "userId": "00028506768877938944"
     },
     "user_tz": -540
    },
    "id": "V5F8EbXcq3Vb",
    "outputId": "762e0fbe-3348-4c7a-fcb6-2b5521805c3e"
   },
   "outputs": [
    {
     "name": "stdout",
     "output_type": "stream",
     "text": [
      "6\n",
      "3\n",
      "3 4\n",
      "2 5\n",
      "5 3\n",
      "3\n",
      "3 D\n",
      "15 L\n",
      "17 D\n",
      "9\n"
     ]
    }
   ],
   "source": [
    "n = int(input())\n",
    "k = int(input())\n",
    "data = [[0] * (n + 1) for _ in range(n + 1)] # 보드\n",
    "info = []\n",
    "\n",
    "# 사과 위치 정보\n",
    "for i in range(k):\n",
    "  a, b = map(int, input().split())\n",
    "  data[a][b] = 1\n",
    "\n",
    "# 방향 정보\n",
    "l = int(input())\n",
    "for i in range(l):\n",
    "  x, c = input().split()\n",
    "  info.append((int(x),c))\n",
    "\n",
    "# 동, 남, 서, 북\n",
    "dx = [0, 1, 0, -1]\n",
    "dy = [1, 0, -1, 0]\n",
    "\n",
    "# 방향전환\n",
    "def turn(direction, c):\n",
    "  if c == \"L\":\n",
    "    direction = (direction - 1) % 4\n",
    "  else:\n",
    "    direction = (direction + 1) % 4\n",
    "  return direction\n",
    "\n",
    "def simulate():\n",
    "  x, y = 1, 1\n",
    "  data[x][y] = 2 # 뱀이 존재하는 위치\n",
    "  direction = 0 # 처음 방향은 동쪽\n",
    "  time = 0\n",
    "  index = 0\n",
    "  q = [(x,y)]\n",
    "\n",
    "  while True:\n",
    "    nx = x + dx[direction]\n",
    "    ny = y + dy[direction]\n",
    "    if 1 <= nx and nx <= n and 1 <= n and ny <= n and data[nx][ny] != 2:\n",
    "      if data[nx][ny] == 0:\n",
    "        data[nx][ny] = 2\n",
    "        q.append((nx, ny))\n",
    "        px, py = q.pop(0)\n",
    "        data[px][py] = 0\n",
    "      if data[nx][ny] == 1:\n",
    "        data[nx][ny] = 2\n",
    "        q.append((nx, ny))\n",
    "    else:\n",
    "      time += 1\n",
    "      break\n",
    "    x, y = nx, ny\n",
    "    time += 1\n",
    "    if index < 1 and time == info[index][0]:\n",
    "      direction = turn(direction, info[index][1])\n",
    "      index += 1\n",
    "  return time\n",
    "\n",
    "print(simulate())\n",
    "\n"
   ]
  },
  {
   "cell_type": "markdown",
   "metadata": {
    "id": "a0aD7VEL7xzw"
   },
   "source": [
    "## 12. 기둥과 보 설치"
   ]
  },
  {
   "cell_type": "code",
   "execution_count": null,
   "metadata": {
    "id": "4aA4MU4p_JIs"
   },
   "outputs": [],
   "source": [
    "# https://programmers.co.kr/learn/courses/30/lessons/60061\n",
    "\n",
    "def possible(answer):\n",
    "  for x, y, stuff in answer:\n",
    "    if stuff == 0: # 기둥이 설치 가능인지\n",
    "      # 바닥에 있는지 or 보의 한쪽 끝에 있는지 or 다른 기둥위에 있는지\n",
    "      if y == 0 or [x - 1, y, 1] in answer or [x, y, 1] in answer or [x, y - 1, 0] in answer:\n",
    "        continue\n",
    "      return False\n",
    "    elif stuff == 1: # 보가 설치 가능인지\n",
    "      # 한쪽 끝 부분이 기둥위 or 양쪽 끝부분이 보\n",
    "      if [x, y - 1, 0] in answer or [x + 1, y - 1, 0] in answer or ([x - 1, y, 1] in answer and [x + 1, y, 1] in answer):\n",
    "        continue\n",
    "      return False\n",
    "  return True\n",
    "\n",
    "def solution(n, build_frame):\n",
    "  answer = []\n",
    "  for frame in build_frame:\n",
    "    x, y, stuff, operate = frame\n",
    "    if operate == 0:\n",
    "      answer.remove([x,y,stuff])\n",
    "      if not possible(answer):\n",
    "        answer.append([x, y, stuff])\n",
    "    if operate == 1:\n",
    "      answer.append([x, y, stuff])\n",
    "      if not possible(answer):\n",
    "        answer.remove([x, y, stuff])\n",
    "  return sorted(answer)\n"
   ]
  },
  {
   "cell_type": "code",
   "execution_count": null,
   "metadata": {
    "colab": {
     "base_uri": "https://localhost:8080/"
    },
    "executionInfo": {
     "elapsed": 709,
     "status": "ok",
     "timestamp": 1610348093978,
     "user": {
      "displayName": "김용길",
      "photoUrl": "",
      "userId": "00028506768877938944"
     },
     "user_tz": -540
    },
    "id": "27EgfP6vMwLJ",
    "outputId": "43b9c5ce-d047-437a-ad87-4a30662d10e6"
   },
   "outputs": [
    {
     "data": {
      "text/plain": [
       "[[0, 0, 0], [0, 1, 1], [1, 1, 1], [2, 1, 1], [3, 1, 1], [4, 0, 0]]"
      ]
     },
     "execution_count": 22,
     "metadata": {
      "tags": []
     },
     "output_type": "execute_result"
    }
   ],
   "source": [
    "solution(5, [[0,0,0,1], [2,0,0,1], [4,0,0,1], [0,1,1,1],\n",
    "             [1,1,1,1], [2,1,1,1], [3,1,1,1], [2,0,0,0],\n",
    "             [1,1,1,0], [2,2,0,1]])"
   ]
  },
  {
   "cell_type": "markdown",
   "metadata": {
    "id": "Ai2iJJYENIuk"
   },
   "source": [
    "## 13. 치킨 배달"
   ]
  },
  {
   "cell_type": "code",
   "execution_count": 10,
   "metadata": {
    "colab": {
     "base_uri": "https://localhost:8080/"
    },
    "executionInfo": {
     "elapsed": 15196,
     "status": "ok",
     "timestamp": 1610352710608,
     "user": {
      "displayName": "김용길",
      "photoUrl": "",
      "userId": "00028506768877938944"
     },
     "user_tz": -540
    },
    "id": "H9cZqIYUZ76o",
    "outputId": "cdc0a8b2-52f8-4717-db5b-0c265b918955"
   },
   "outputs": [
    {
     "name": "stdout",
     "output_type": "stream",
     "text": [
      "5 3\n",
      "0 0 1 0 0\n",
      "0 0 2 0 1\n",
      "0 1 2 0 0\n",
      "0 0 1 0 0\n",
      "0 0 0 0 2\n",
      "5\n"
     ]
    }
   ],
   "source": [
    "# 폐업시킬 치킨집의 모든 조합에서 모든 집과 모든 치킨집과의 거리를 구하고 그 중 치킨 거리의 최소값을 출력\n",
    "# 조합 코드?\n",
    "\n",
    "from itertools import combinations # 조합 라이브러리\n",
    "\n",
    "n, m = map(int, input().split())\n",
    "chicken, house = [] , []\n",
    "\n",
    "for r in range(n):\n",
    "  data = list(map(int, input().split()))\n",
    "  for c in range(n):\n",
    "    if data[c] == 1:\n",
    "      house.append((r,c)) # 집\n",
    "    elif data[c] == 2:\n",
    "      chicken.append((r,c)) # 치킨집\n",
    "\n",
    "# 모든 치킨집 중 m개의 치킨집을 뽑는 조합 계산\n",
    "candidates = list(combinations(chicken, m))\n",
    "\n",
    "# 치킨 거리 계싼\n",
    "def get_sum(candidate):\n",
    "  result = 0\n",
    "  for hx, hy in house:\n",
    "    temp = 1e9\n",
    "    for cx, cy in candidate:\n",
    "      temp = min(temp, abs(hx - cx) + abs(hy - cy))   \n",
    "    result += temp\n",
    "  return result\n",
    "\n",
    "result = 1e9\n",
    "for candidate in candidates:\n",
    "  result = min(result, get_sum(candidate))\n",
    "\n",
    "print(result)"
   ]
  },
  {
   "cell_type": "markdown",
   "metadata": {
    "id": "ql2WbOk2bLQK"
   },
   "source": [
    "## 외벽 점검"
   ]
  },
  {
   "cell_type": "code",
   "execution_count": 11,
   "metadata": {
    "executionInfo": {
     "elapsed": 659,
     "status": "ok",
     "timestamp": 1610354822874,
     "user": {
      "displayName": "김용길",
      "photoUrl": "",
      "userId": "00028506768877938944"
     },
     "user_tz": -540
    },
    "id": "dDhIWi5kgPrB"
   },
   "outputs": [],
   "source": [
    "# https://programmers.co.kr/learn/courses/30/lessons/60062\n",
    "# 범위가 작으므로 완전탐색 -> 모든 친구를 나열하는 경우의 수를 각각 확인하여 최소 친구수 계산\n",
    "\n",
    "from itertools import permutations # 순열 라이브러리\n",
    "\n",
    "def solution(n, weak, dist):\n",
    "  # 길이를 2배로 늘려서 원형을 일자 형태로 변환\n",
    "  length = len(weak)\n",
    "  for i in range(len(weak)):\n",
    "    weak.append(weak[i] + n)\n",
    "  answer = len(dist) + 1 # 답은 최소 친구수이므로 최대 크기인 len(dist) 에 1을 더해 초기화\n",
    "  for start in range(length):\n",
    "    for friends in list(permutations(dist, len(dist))):\n",
    "      count = 1 # 투입할 친구들의 수\n",
    "      # 해당 친구가 점검할 수 있는 마지막 위치\n",
    "      position = weak[start] + friends[count - 1]\n",
    "      # 시작점부터 모든 취약 지점을 확인\n",
    "      for index in range(start, start + length):\n",
    "        # 점검할 수 있는 위치를 벗어나는 경우\n",
    "        if position < weak[index]:\n",
    "          count += 1 # 새로운 친구 투입\n",
    "          if count > len(dist): # 더 투입이 불가능하면\n",
    "            break\n",
    "          position = weak[index] + friends[count - 1]\n",
    "    answer = min(answer, count)\n",
    "  if answer > len(dist):\n",
    "    return -1\n",
    "  else:\n",
    "    return answer"
   ]
  },
  {
   "cell_type": "code",
   "execution_count": null,
   "metadata": {
    "id": "rNwzvPLboIvT"
   },
   "outputs": [],
   "source": [
    " "
   ]
  }
 ],
 "metadata": {
  "colab": {
   "authorship_tag": "ABX9TyPoT/RQ7jJZNW99oa4C2faX",
   "collapsed_sections": [],
   "name": "코딩테스트_구현.ipynb",
   "provenance": []
  },
  "kernelspec": {
   "display_name": "Python 3",
   "language": "python",
   "name": "python3"
  },
  "language_info": {
   "codemirror_mode": {
    "name": "ipython",
    "version": 3
   },
   "file_extension": ".py",
   "mimetype": "text/x-python",
   "name": "python",
   "nbconvert_exporter": "python",
   "pygments_lexer": "ipython3",
   "version": "3.8.5"
  }
 },
 "nbformat": 4,
 "nbformat_minor": 1
}
