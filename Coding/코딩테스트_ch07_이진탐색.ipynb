{
 "cells": [
  {
   "cell_type": "markdown",
   "metadata": {
    "id": "7lfyiOQaOMD_"
   },
   "source": [
    "## 순색 탐색\n",
    "+ 순차로 데이터를 탐색\n",
    "+ 리스트의 데이터에 하나씩 방문하며 특정한 문자열과 같은지 검사"
   ]
  },
  {
   "cell_type": "code",
   "execution_count": 1,
   "metadata": {
    "colab": {
     "base_uri": "https://localhost:8080/"
    },
    "executionInfo": {
     "elapsed": 22549,
     "status": "ok",
     "timestamp": 1609224250362,
     "user": {
      "displayName": "김용길",
      "photoUrl": "",
      "userId": "00028506768877938944"
     },
     "user_tz": -540
    },
    "id": "mvzsb94_Og4I",
    "outputId": "cadb672e-9e41-464d-8c7b-1c47d032ee00"
   },
   "outputs": [
    {
     "name": "stdout",
     "output_type": "stream",
     "text": [
      "생성할 원소 개수를 입력한 다음 한 칸 띄고 찾을 문자열을 입력하세요.\n",
      "5 동빈\n",
      "앞서 적은 원소 개수만큼 문자열을 입력하세요. 구분은 띄어쓰기 한 칸으로 합니다.\n",
      "하늘 종구 동빈 태일 상욱\n",
      "3\n"
     ]
    }
   ],
   "source": [
    "def sequential_search(n, target, array):\n",
    "  # 각 원소를 하나씩 확인하며\n",
    "  for i in range(n):\n",
    "    if array[i] == target:\n",
    "      return i + 1\n",
    "\n",
    "print('생성할 원소 개수를 입력한 다음 한 칸 띄고 찾을 문자열을 입력하세요.')\n",
    "input_data = input().split()\n",
    "n = int(input_data[0])\n",
    "target = input_data[1]\n",
    "\n",
    "print(\"앞서 적은 원소 개수만큼 문자열을 입력하세요. 구분은 띄어쓰기 한 칸으로 합니다.\")\n",
    "array = input().split()\n",
    "\n",
    "print(sequential_search(n, target, array))"
   ]
  },
  {
   "cell_type": "markdown",
   "metadata": {
    "id": "hEXdxXWVPPZ_"
   },
   "source": [
    "## 이진 탐색\n",
    "+ ***내부의 데이터가 정렬되어 있어야만***  사용할 수 있는 알고리즘\n",
    "+ 이미 정렬되어 있다면 매우 빠르게 데이터를 찾을 수 있음\n",
    "+ 탐색 범위를 절반씩 좁혀가며 데이터를 탐색\n",
    "+ 위치를 나타내는 변수 3개, 시작점, 끝점, 중간점 사용\n",
    "+ ***찾으려는 데이터와 중간점 위치에 있는 데이터를 반복적으로 비교***해서 원하는 데이터를 찾음\n",
    "+ ***복잡도 O(logN)*** \n",
    "\n",
    "  절반씩 데이터가 줄어들기때문"
   ]
  },
  {
   "cell_type": "code",
   "execution_count": 6,
   "metadata": {
    "colab": {
     "base_uri": "https://localhost:8080/"
    },
    "executionInfo": {
     "elapsed": 11811,
     "status": "ok",
     "timestamp": 1609226413618,
     "user": {
      "displayName": "김용길",
      "photoUrl": "",
      "userId": "00028506768877938944"
     },
     "user_tz": -540
    },
    "id": "mY1kVMKsSL0D",
    "outputId": "1ce50d3e-7804-4a9d-99b1-4712d5a3bd14"
   },
   "outputs": [
    {
     "name": "stdout",
     "output_type": "stream",
     "text": [
      "5 7\n",
      "1 3 5 7 8\n",
      "4\n"
     ]
    }
   ],
   "source": [
    "# 재귀 함수로 구현한 이진 탐색 소스코드\n",
    "def binary_search(array, target, start, end):\n",
    "  if start > end:\n",
    "    return None\n",
    "  mid = (start + end) // 2\n",
    "  if array[mid] == target:\n",
    "    return mid\n",
    "  elif array[mid] > target:\n",
    "    return binary_search(array, target, start, mid - 1)\n",
    "  elif array[mid] < target:\n",
    "    return binary_search(array, target, mid + 1, end)\n",
    "\n",
    "# 원소 개수 n과 타겟 입력\n",
    "n, target = list(map(int, input().split()))\n",
    "\n",
    "array = list(map(int, input().split()))\n",
    "\n",
    "result = binary_search(array, target, 0, n-1)\n",
    "if result == None:\n",
    "  print(\"원소가 존재하지 않습니다.\")\n",
    "else:\n",
    "  print(result + 1)"
   ]
  },
  {
   "cell_type": "code",
   "execution_count": 7,
   "metadata": {
    "colab": {
     "base_uri": "https://localhost:8080/"
    },
    "executionInfo": {
     "elapsed": 6641,
     "status": "ok",
     "timestamp": 1609226581125,
     "user": {
      "displayName": "김용길",
      "photoUrl": "",
      "userId": "00028506768877938944"
     },
     "user_tz": -540
    },
    "id": "2flxrS-nTUYQ",
    "outputId": "24acc34d-2e52-4be1-b49a-70313ec6482f"
   },
   "outputs": [
    {
     "name": "stdout",
     "output_type": "stream",
     "text": [
      "5 7\n",
      "1 3 5 7 8\n",
      "4\n"
     ]
    }
   ],
   "source": [
    "# 반복문으로 구현한 이진 탐색 소스코드\n",
    "def binary_search(array, target, start, end):\n",
    "  while start <= end:\n",
    "    mid = (start + end) // 2\n",
    "    if array[mid] == target:\n",
    "      return mid\n",
    "    elif array[mid] > target:\n",
    "      end = mid - 1\n",
    "    else:\n",
    "      start = mid + 1\n",
    "  return None\n",
    "\n",
    "# 원소 개수 n과 타겟 입력\n",
    "n, target = list(map(int, input().split()))\n",
    "\n",
    "array = list(map(int, input().split()))\n",
    "\n",
    "result = binary_search(array, target, 0, n-1)\n",
    "if result == None:\n",
    "  print(\"원소가 존재하지 않습니다.\")\n",
    "else:\n",
    "  print(result + 1)"
   ]
  },
  {
   "cell_type": "markdown",
   "metadata": {
    "id": "U_cScd2MYNl3"
   },
   "source": [
    "+ 이진 탐색 문제는 입력 데이터가 많거나 탐색 범위가 매우 넓은 편\n",
    "+ 데이터의 개수가 1000만개를 넘어가거나 탐색 범위의 크기가 1000억 이상이라면 이진 탐색 알고리즘을 의심\n",
    "+ 이럴 경우 ```input()```함수는 동작 속도가 느림\n",
    "+ sys 라이브러리의 ```readline()```함수를 이용"
   ]
  },
  {
   "cell_type": "code",
   "execution_count": 9,
   "metadata": {
    "colab": {
     "base_uri": "https://localhost:8080/"
    },
    "executionInfo": {
     "elapsed": 684,
     "status": "ok",
     "timestamp": 1609226868933,
     "user": {
      "displayName": "김용길",
      "photoUrl": "",
      "userId": "00028506768877938944"
     },
     "user_tz": -540
    },
    "id": "5itgXQesZLSP",
    "outputId": "d7a1dc0b-00ba-4081-bf8c-83ab5019a8ab"
   },
   "outputs": [
    {
     "name": "stdout",
     "output_type": "stream",
     "text": [
      "\n"
     ]
    }
   ],
   "source": [
    "import sys\n",
    "input_data = sys.stdin.readline().rstrip()\n",
    "\n",
    "print(input_data)"
   ]
  },
  {
   "cell_type": "markdown",
   "metadata": {
    "id": "h7Ts1_MtZRFz"
   },
   "source": [
    "## 부품 찾기\n",
    "+ 다량의 데이터 검색은 이진 탐색 알고리즘 이용"
   ]
  },
  {
   "cell_type": "code",
   "execution_count": 13,
   "metadata": {
    "colab": {
     "base_uri": "https://localhost:8080/"
    },
    "executionInfo": {
     "elapsed": 15891,
     "status": "ok",
     "timestamp": 1609228071082,
     "user": {
      "displayName": "김용길",
      "photoUrl": "",
      "userId": "00028506768877938944"
     },
     "user_tz": -540
    },
    "id": "FoA5A6gRZs_v",
    "outputId": "522e8830-ac18-47ef-d42c-b05c6adfd11a"
   },
   "outputs": [
    {
     "name": "stdout",
     "output_type": "stream",
     "text": [
      "5\n",
      "8 3 7 9 2\n",
      "3\n",
      "5 7 9\n",
      "no yes yes "
     ]
    }
   ],
   "source": [
    "def binary_search(array, target, start, end):\n",
    "  while start <= end:\n",
    "    mid = (start + end) // 2\n",
    "    if array[mid] == target:\n",
    "      return mid\n",
    "    elif array[mid] > target:\n",
    "      end = mid - 1\n",
    "    else:\n",
    "      start = mid + 1\n",
    "  return None\n",
    "\n",
    "# 가게 부품 수 n\n",
    "n = int(input()) \n",
    "# 가게에 있는 전체 부품 번호를 공백으로 입력\n",
    "array = list(map(int, input().split()))\n",
    "array.sort() # 이진 탐색을 위해 미리 정렬\n",
    "\n",
    "# 손님이 요청한 부품 종류의 수 m\n",
    "m = int(input()) \n",
    "x = list(map(int, input().split()))\n",
    "\n",
    "for i in x:\n",
    "  result = binary_search(array, i, 0, n - 1)\n",
    "  if result != None:\n",
    "    print('yes', end=' ')\n",
    "  else:\n",
    "    print('no', end=' ')"
   ]
  },
  {
   "cell_type": "code",
   "execution_count": 16,
   "metadata": {
    "colab": {
     "base_uri": "https://localhost:8080/"
    },
    "executionInfo": {
     "elapsed": 15322,
     "status": "ok",
     "timestamp": 1609228303433,
     "user": {
      "displayName": "김용길",
      "photoUrl": "",
      "userId": "00028506768877938944"
     },
     "user_tz": -540
    },
    "id": "ZeR1ZxhnaxL6",
    "outputId": "4855b78c-6524-4b00-cc11-4a7858e7b113"
   },
   "outputs": [
    {
     "name": "stdout",
     "output_type": "stream",
     "text": [
      "5\n",
      "8 3 7 9 2\n",
      "3\n",
      "5 7 9\n",
      "no yes yes "
     ]
    }
   ],
   "source": [
    "# 계수 정렬로도 가능\n",
    "\n",
    "n = int(input())\n",
    "array = [0] * 1000001\n",
    "\n",
    "for i in input().split():\n",
    "  array[int(i)] = 1\n",
    "\n",
    "m = int(input())\n",
    "x = list(map(int, input().split()))\n",
    "\n",
    "for i in x:\n",
    "  if array[i] == 1:\n",
    "    print('yes', end=' ')\n",
    "  else:\n",
    "    print('no', end=' ')"
   ]
  },
  {
   "cell_type": "markdown",
   "metadata": {
    "id": "lw_qc4JhegGk"
   },
   "source": [
    "+ 이 문제는 단순히 특정한 수가 한 번이라도 등장했는지 검사하면 되므로 집합 자료형을 이용가능\n",
    "+  set() 함수는 집합 자료형을 초기화할 때 사용\n",
    "+ 소스코드의 간결성 측면에서 가장 우수"
   ]
  },
  {
   "cell_type": "code",
   "execution_count": 17,
   "metadata": {
    "colab": {
     "base_uri": "https://localhost:8080/"
    },
    "executionInfo": {
     "elapsed": 10828,
     "status": "ok",
     "timestamp": 1609228480177,
     "user": {
      "displayName": "김용길",
      "photoUrl": "",
      "userId": "00028506768877938944"
     },
     "user_tz": -540
    },
    "id": "Xl9uVALSfGwI",
    "outputId": "03ab7889-e82b-4afd-a356-980d7bdd6014"
   },
   "outputs": [
    {
     "name": "stdout",
     "output_type": "stream",
     "text": [
      "5\n",
      "8 3 5 7 2\n",
      "3\n",
      "5 7 9\n",
      "yes yes no "
     ]
    }
   ],
   "source": [
    "n = int(input())\n",
    "# list가 아닌 집합(set) 자료형에 기록\n",
    "array = set(map(int, input().split()))\n",
    "\n",
    "m = int(input())\n",
    "x = list(map(int, input().split()))\n",
    "\n",
    "for i in x:\n",
    "  if i in array:\n",
    "    print('yes', end=' ')\n",
    "  else:\n",
    "    print('no', end=' ')"
   ]
  },
  {
   "cell_type": "markdown",
   "metadata": {
    "id": "w0bk_lgUfcQe"
   },
   "source": [
    "## 떡볶이 떡 만들기\n",
    "+ 전형적인 이진 탐색 문제이자 ***파라메트릭 서치*** 유형의 문제\n",
    "+ 파라메트릭 서치는 최적화 문제를 결정 문제로 바꾸어 해결하는 기법\n",
    "+ 원하는 조건을 만족하는 가장 알맞은 값을 찾는 문제가 주로 파라메트릭 서치를 사용\n",
    "+ 예를 들어 범위 내에서 조건에 만족하는 가장 큰 값을 찾으라는 최적화 문제라면 이진 탐색으로 결정 문제를 해결하면서 범위를 좁혀갈 수 있음\n",
    "+ 코딩테스트에서 파라메트릭 서치 유형은 이진 탐색을 이용하여 해결"
   ]
  },
  {
   "cell_type": "code",
   "execution_count": 18,
   "metadata": {
    "colab": {
     "base_uri": "https://localhost:8080/"
    },
    "executionInfo": {
     "elapsed": 14636,
     "status": "ok",
     "timestamp": 1609229512097,
     "user": {
      "displayName": "김용길",
      "photoUrl": "",
      "userId": "00028506768877938944"
     },
     "user_tz": -540
    },
    "id": "6IaSck5chjij",
    "outputId": "1fed2aca-4176-44b5-e8e9-f5ab8666d6fc"
   },
   "outputs": [
    {
     "name": "stdout",
     "output_type": "stream",
     "text": [
      "4 6\n",
      "19 15 10 17\n",
      "15\n"
     ]
    }
   ],
   "source": [
    "# 떡의 개수 n, 요청한 길이 m\n",
    "n, m = list(map(int, input().split()))\n",
    "# 떡의 개별 높이\n",
    "array = list(map(int, input().split()))\n",
    "\n",
    "# 이진탐색\n",
    "start = 0\n",
    "end = max(array)\n",
    "\n",
    "# 이진탐색(반복적)\n",
    "result = 0\n",
    "while (start <= end):\n",
    "  total = 0\n",
    "  mid = (start + end) // 2\n",
    "  for x in array:\n",
    "    if x > mid:\n",
    "      total += x - mid\n",
    "  if total < m:\n",
    "    end = mid - 1\n",
    "  else:\n",
    "    result = mid # 최대한 덜 잘랐을때가 답이므로 여기에 result 기록\n",
    "    start = mid + 1\n",
    "\n",
    "print(result)"
   ]
  },
  {
   "cell_type": "code",
   "execution_count": null,
   "metadata": {
    "id": "zibXa-NbjXPC"
   },
   "outputs": [],
   "source": []
  }
 ],
 "metadata": {
  "colab": {
   "authorship_tag": "ABX9TyMzxW+i2KmQSlddluC+eHmv",
   "collapsed_sections": [],
   "name": "코딩테스트_ch07_이진탐색.ipynb",
   "provenance": []
  },
  "kernelspec": {
   "display_name": "Python 3",
   "language": "python",
   "name": "python3"
  },
  "language_info": {
   "codemirror_mode": {
    "name": "ipython",
    "version": 3
   },
   "file_extension": ".py",
   "mimetype": "text/x-python",
   "name": "python",
   "nbconvert_exporter": "python",
   "pygments_lexer": "ipython3",
   "version": "3.8.5"
  }
 },
 "nbformat": 4,
 "nbformat_minor": 1
}
