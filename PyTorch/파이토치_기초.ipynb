{
 "cells": [
  {
   "cell_type": "code",
   "execution_count": 1,
   "metadata": {
    "executionInfo": {
     "elapsed": 3553,
     "status": "ok",
     "timestamp": 1609137907778,
     "user": {
      "displayName": "김용길",
      "photoUrl": "",
      "userId": "00028506768877938944"
     },
     "user_tz": -540
    },
    "id": "9angqGVtF0EZ"
   },
   "outputs": [],
   "source": [
    "import torch"
   ]
  },
  {
   "cell_type": "code",
   "execution_count": 2,
   "metadata": {
    "colab": {
     "base_uri": "https://localhost:8080/"
    },
    "executionInfo": {
     "elapsed": 707,
     "status": "ok",
     "timestamp": 1609137930355,
     "user": {
      "displayName": "김용길",
      "photoUrl": "",
      "userId": "00028506768877938944"
     },
     "user_tz": -540
    },
    "id": "UFlsfjnKF8NI",
    "outputId": "e16a12fd-bb2f-4d84-9327-f15e89ab418d"
   },
   "outputs": [
    {
     "name": "stdout",
     "output_type": "stream",
     "text": [
      "tensor([1.])\n"
     ]
    }
   ],
   "source": [
    "scalar1 = torch.tensor([1.])\n",
    "print(scalar1)"
   ]
  },
  {
   "cell_type": "code",
   "execution_count": 5,
   "metadata": {
    "colab": {
     "base_uri": "https://localhost:8080/"
    },
    "executionInfo": {
     "elapsed": 731,
     "status": "ok",
     "timestamp": 1609137966634,
     "user": {
      "displayName": "김용길",
      "photoUrl": "",
      "userId": "00028506768877938944"
     },
     "user_tz": -540
    },
    "id": "VM08w0ZkGD1p",
    "outputId": "cb38a16d-10c8-4841-a39b-c1cf7d15daa6"
   },
   "outputs": [
    {
     "name": "stdout",
     "output_type": "stream",
     "text": [
      "tensor([3.])\n"
     ]
    }
   ],
   "source": [
    "scalar2 = torch.tensor([3.])\n",
    "print(scalar2)"
   ]
  },
  {
   "cell_type": "code",
   "execution_count": 7,
   "metadata": {
    "colab": {
     "base_uri": "https://localhost:8080/"
    },
    "executionInfo": {
     "elapsed": 701,
     "status": "ok",
     "timestamp": 1609137997032,
     "user": {
      "displayName": "김용길",
      "photoUrl": "",
      "userId": "00028506768877938944"
     },
     "user_tz": -540
    },
    "id": "q_OfmpsCGIvJ",
    "outputId": "b2bc0fc0-1fdd-48f5-a458-c6876d2ef4a8"
   },
   "outputs": [
    {
     "name": "stdout",
     "output_type": "stream",
     "text": [
      "tensor([4.])\n"
     ]
    }
   ],
   "source": [
    "add_scalar = scalar1 + scalar2\n",
    "print(add_scalar)"
   ]
  },
  {
   "cell_type": "code",
   "execution_count": 9,
   "metadata": {
    "colab": {
     "base_uri": "https://localhost:8080/"
    },
    "executionInfo": {
     "elapsed": 765,
     "status": "ok",
     "timestamp": 1609138028345,
     "user": {
      "displayName": "김용길",
      "photoUrl": "",
      "userId": "00028506768877938944"
     },
     "user_tz": -540
    },
    "id": "8tnfXFG2GSmF",
    "outputId": "8f87b26f-0127-442e-d17d-d8a3267ade35"
   },
   "outputs": [
    {
     "name": "stdout",
     "output_type": "stream",
     "text": [
      "tensor([-2.])\n"
     ]
    }
   ],
   "source": [
    "sub_scalar = scalar1 - scalar2\n",
    "print(sub_scalar)"
   ]
  },
  {
   "cell_type": "code",
   "execution_count": 12,
   "metadata": {
    "colab": {
     "base_uri": "https://localhost:8080/"
    },
    "executionInfo": {
     "elapsed": 699,
     "status": "ok",
     "timestamp": 1609138104987,
     "user": {
      "displayName": "김용길",
      "photoUrl": "",
      "userId": "00028506768877938944"
     },
     "user_tz": -540
    },
    "id": "x4bGrtNPGZBW",
    "outputId": "7abf5197-fadc-48bb-df36-d3ff4424db06"
   },
   "outputs": [
    {
     "data": {
      "text/plain": [
       "tensor([4.])"
      ]
     },
     "execution_count": 12,
     "metadata": {
      "tags": []
     },
     "output_type": "execute_result"
    }
   ],
   "source": [
    "torch.add(scalar1, scalar2)"
   ]
  },
  {
   "cell_type": "markdown",
   "metadata": {
    "id": "HeFK58WwGjJq"
   },
   "source": [
    "## Vector"
   ]
  },
  {
   "cell_type": "code",
   "execution_count": 14,
   "metadata": {
    "colab": {
     "base_uri": "https://localhost:8080/"
    },
    "executionInfo": {
     "elapsed": 703,
     "status": "ok",
     "timestamp": 1609138146876,
     "user": {
      "displayName": "김용길",
      "photoUrl": "",
      "userId": "00028506768877938944"
     },
     "user_tz": -540
    },
    "id": "1w2JX65PGyN8",
    "outputId": "05b42709-0eee-4a2f-8bdd-ff81a44cfdae"
   },
   "outputs": [
    {
     "data": {
      "text/plain": [
       "tensor([1., 2., 3.])"
      ]
     },
     "execution_count": 14,
     "metadata": {
      "tags": []
     },
     "output_type": "execute_result"
    }
   ],
   "source": [
    "vector1 = torch.tensor([1., 2., 3.])\n",
    "vector1"
   ]
  },
  {
   "cell_type": "code",
   "execution_count": 17,
   "metadata": {
    "colab": {
     "base_uri": "https://localhost:8080/"
    },
    "executionInfo": {
     "elapsed": 698,
     "status": "ok",
     "timestamp": 1609138173066,
     "user": {
      "displayName": "김용길",
      "photoUrl": "",
      "userId": "00028506768877938944"
     },
     "user_tz": -540
    },
    "id": "YNcYlVlJG2LE",
    "outputId": "5140f234-4612-48aa-db85-ebde8161cc21"
   },
   "outputs": [
    {
     "data": {
      "text/plain": [
       "tensor([4., 5., 6.])"
      ]
     },
     "execution_count": 17,
     "metadata": {
      "tags": []
     },
     "output_type": "execute_result"
    }
   ],
   "source": [
    "vector2 = torch.tensor([4., 5., 6.])\n",
    "vector2"
   ]
  },
  {
   "cell_type": "code",
   "execution_count": 18,
   "metadata": {
    "colab": {
     "base_uri": "https://localhost:8080/"
    },
    "executionInfo": {
     "elapsed": 655,
     "status": "ok",
     "timestamp": 1609138202480,
     "user": {
      "displayName": "김용길",
      "photoUrl": "",
      "userId": "00028506768877938944"
     },
     "user_tz": -540
    },
    "id": "mJXZ14JHG8gl",
    "outputId": "3512d752-16ac-43c4-aa66-70c6af4f6cc1"
   },
   "outputs": [
    {
     "data": {
      "text/plain": [
       "tensor([5., 7., 9.])"
      ]
     },
     "execution_count": 18,
     "metadata": {
      "tags": []
     },
     "output_type": "execute_result"
    }
   ],
   "source": [
    "torch.add(vector1, vector2)"
   ]
  },
  {
   "cell_type": "code",
   "execution_count": 19,
   "metadata": {
    "colab": {
     "base_uri": "https://localhost:8080/"
    },
    "executionInfo": {
     "elapsed": 749,
     "status": "ok",
     "timestamp": 1609138221605,
     "user": {
      "displayName": "김용길",
      "photoUrl": "",
      "userId": "00028506768877938944"
     },
     "user_tz": -540
    },
    "id": "uV_vRv8FHGSO",
    "outputId": "1b563ab1-77eb-47ee-b9b1-5023cd8115f6"
   },
   "outputs": [
    {
     "data": {
      "text/plain": [
       "tensor(32.)"
      ]
     },
     "execution_count": 19,
     "metadata": {
      "tags": []
     },
     "output_type": "execute_result"
    }
   ],
   "source": [
    "# 내적\n",
    "torch.dot(vector1, vector2)"
   ]
  },
  {
   "cell_type": "markdown",
   "metadata": {
    "id": "OfRcG8j-HK7o"
   },
   "source": [
    "## 행렬"
   ]
  },
  {
   "cell_type": "code",
   "execution_count": 22,
   "metadata": {
    "colab": {
     "base_uri": "https://localhost:8080/"
    },
    "executionInfo": {
     "elapsed": 677,
     "status": "ok",
     "timestamp": 1609138595914,
     "user": {
      "displayName": "김용길",
      "photoUrl": "",
      "userId": "00028506768877938944"
     },
     "user_tz": -540
    },
    "id": "M4vSD_KAHOIz",
    "outputId": "3010757f-1fc1-4520-cd4c-2e1aba294020"
   },
   "outputs": [
    {
     "name": "stdout",
     "output_type": "stream",
     "text": [
      "tensor([[1., 2.],\n",
      "        [3., 4.]])\n",
      "tensor([[5., 6.],\n",
      "        [7., 8.]])\n"
     ]
    }
   ],
   "source": [
    "matrix1 = torch.tensor([[1.,2.],[3., 4.]])\n",
    "print(matrix1)\n",
    "\n",
    "matrix2 = torch.tensor([[5., 6.],\n",
    "                       [7.,8.]])\n",
    "print(matrix2)"
   ]
  },
  {
   "cell_type": "code",
   "execution_count": 23,
   "metadata": {
    "colab": {
     "base_uri": "https://localhost:8080/"
    },
    "executionInfo": {
     "elapsed": 480,
     "status": "ok",
     "timestamp": 1609138685340,
     "user": {
      "displayName": "김용길",
      "photoUrl": "",
      "userId": "00028506768877938944"
     },
     "user_tz": -540
    },
    "id": "TQgaA32YIczz",
    "outputId": "814ee8da-61ce-481e-b324-783e18143314"
   },
   "outputs": [
    {
     "data": {
      "text/plain": [
       "tensor([[ 5., 12.],\n",
       "        [21., 32.]])"
      ]
     },
     "execution_count": 23,
     "metadata": {
      "tags": []
     },
     "output_type": "execute_result"
    }
   ],
   "source": [
    "torch.mul(matrix1, matrix2)"
   ]
  },
  {
   "cell_type": "code",
   "execution_count": 24,
   "metadata": {
    "colab": {
     "base_uri": "https://localhost:8080/"
    },
    "executionInfo": {
     "elapsed": 466,
     "status": "ok",
     "timestamp": 1609138701753,
     "user": {
      "displayName": "김용길",
      "photoUrl": "",
      "userId": "00028506768877938944"
     },
     "user_tz": -540
    },
    "id": "ZsG-O0gHI8K2",
    "outputId": "f0dfb7a7-a298-4d14-aff5-51aa6c1dd111"
   },
   "outputs": [
    {
     "data": {
      "text/plain": [
       "tensor([[19., 22.],\n",
       "        [43., 50.]])"
      ]
     },
     "execution_count": 24,
     "metadata": {
      "tags": []
     },
     "output_type": "execute_result"
    }
   ],
   "source": [
    "# 행렬 곱셈\n",
    "torch.matmul(matrix1, matrix2)"
   ]
  },
  {
   "cell_type": "markdown",
   "metadata": {
    "id": "hCn_SlD5JAI6"
   },
   "source": [
    "## 텐서\n",
    "+ 행렬을 2차원의 배열이라 표현할 수 있다면, 텐서는 2차원 이상의 배열이라 표현할 수 있음\n",
    "![Screenshot_20201228-160037_Samsung Notes.jpg](data:image/jpeg;base64,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)"
   ]
  },
  {
   "cell_type": "code",
   "execution_count": 25,
   "metadata": {
    "colab": {
     "base_uri": "https://localhost:8080/"
    },
    "executionInfo": {
     "elapsed": 701,
     "status": "ok",
     "timestamp": 1609139397755,
     "user": {
      "displayName": "김용길",
      "photoUrl": "",
      "userId": "00028506768877938944"
     },
     "user_tz": -540
    },
    "id": "ehy4RQAEJnGd",
    "outputId": "15a3259a-0c15-4d5a-b0a5-ac55d438b399"
   },
   "outputs": [
    {
     "name": "stdout",
     "output_type": "stream",
     "text": [
      "tensor([[[1., 2.],\n",
      "         [3., 4.]],\n",
      "\n",
      "        [[5., 6.],\n",
      "         [7., 8.]]])\n"
     ]
    }
   ],
   "source": [
    "tensor1 = torch.tensor([\n",
    "                        [[1., 2.], [3., 4.]],\n",
    "                        [[5., 6.], [7., 8.]],\n",
    "                        ])\n",
    "\n",
    "print(tensor1)"
   ]
  },
  {
   "cell_type": "code",
   "execution_count": 26,
   "metadata": {
    "colab": {
     "base_uri": "https://localhost:8080/"
    },
    "executionInfo": {
     "elapsed": 471,
     "status": "ok",
     "timestamp": 1609139428976,
     "user": {
      "displayName": "김용길",
      "photoUrl": "",
      "userId": "00028506768877938944"
     },
     "user_tz": -540
    },
    "id": "v5Xnu9mULqFr",
    "outputId": "1414b39d-49da-4e3d-f7bd-e954ae5ba2f2"
   },
   "outputs": [
    {
     "name": "stdout",
     "output_type": "stream",
     "text": [
      "tensor([[[ 9., 10.],\n",
      "         [11., 12.]],\n",
      "\n",
      "        [[13., 14.],\n",
      "         [15., 16.]]])\n"
     ]
    }
   ],
   "source": [
    "tensor2 = torch.tensor([\n",
    "                        [[9., 10.], [11., 12.]],\n",
    "                        [[13., 14.], [15., 16.]],\n",
    "                        ])\n",
    "\n",
    "print(tensor2)"
   ]
  },
  {
   "cell_type": "code",
   "execution_count": 27,
   "metadata": {
    "colab": {
     "base_uri": "https://localhost:8080/"
    },
    "executionInfo": {
     "elapsed": 697,
     "status": "ok",
     "timestamp": 1609139466427,
     "user": {
      "displayName": "김용길",
      "photoUrl": "",
      "userId": "00028506768877938944"
     },
     "user_tz": -540
    },
    "id": "zq5A5G-7Lxrk",
    "outputId": "a5bba54f-25ed-43b9-938e-1917b6fd9437"
   },
   "outputs": [
    {
     "name": "stdout",
     "output_type": "stream",
     "text": [
      "tensor([[[10., 12.],\n",
      "         [14., 16.]],\n",
      "\n",
      "        [[18., 20.],\n",
      "         [22., 24.]]])\n"
     ]
    }
   ],
   "source": [
    "sum_tensor = tensor1 + tensor2\n",
    "print(sum_tensor)"
   ]
  },
  {
   "cell_type": "code",
   "execution_count": 28,
   "metadata": {
    "colab": {
     "base_uri": "https://localhost:8080/"
    },
    "executionInfo": {
     "elapsed": 486,
     "status": "ok",
     "timestamp": 1609140441253,
     "user": {
      "displayName": "김용길",
      "photoUrl": "",
      "userId": "00028506768877938944"
     },
     "user_tz": -540
    },
    "id": "XyHbkTQtL622",
    "outputId": "dca90720-e35f-496a-e339-a0d4d6090294"
   },
   "outputs": [
    {
     "data": {
      "text/plain": [
       "tensor([[[ 31.,  34.],\n",
       "         [ 71.,  78.]],\n",
       "\n",
       "        [[155., 166.],\n",
       "         [211., 226.]]])"
      ]
     },
     "execution_count": 28,
     "metadata": {
      "tags": []
     },
     "output_type": "execute_result"
    }
   ],
   "source": [
    "# 텐서 곱셈\n",
    "torch.matmul(tensor1, tensor2)"
   ]
  },
  {
   "cell_type": "markdown",
   "metadata": {
    "id": "8_laTdjCPo3v"
   },
   "source": [
    "## Autograd\n",
    "파이토치를 이용해 코드를 작성할 때 Back Propagation을 이용해 파라미터를 업데이트하는 방법은 Autograd 방식으로 쉽게 구현할 수 있도록 설정되어 있음"
   ]
  },
  {
   "cell_type": "code",
   "execution_count": 29,
   "metadata": {
    "executionInfo": {
     "elapsed": 636,
     "status": "ok",
     "timestamp": 1609140645221,
     "user": {
      "displayName": "김용길",
      "photoUrl": "",
      "userId": "00028506768877938944"
     },
     "user_tz": -540
    },
    "id": "1PLRWWwSP56c"
   },
   "outputs": [],
   "source": [
    "BATCH_SIZE = 64\n",
    "INPUT_SIZE = 1000\n",
    "HIDDEN_SIZE = 100\n",
    "OUTPUT_SIZE = 10"
   ]
  },
  {
   "cell_type": "markdown",
   "metadata": {
    "id": "9sWUe7k_Qapf"
   },
   "source": [
    "+ BATCH_SIZE의 수 만큼 데이터를 이용해 Output을 계산하고 배치 수 만큼 출력된 결괏괎에 대한 오차를 계산\n",
    "+ 배치 사이즈 수만큼 계산된 오찻값을 평균해 Back Propagation에 적용하고 이를 바탕으로 파라미터를 업데이트\n",
    "+ 이 예제에서 ```BATCH_SIZE = 64``` 이고 Input으로 이용되는 데이터가 64개라는 것을 의미"
   ]
  },
  {
   "cell_type": "markdown",
   "metadata": {
    "id": "BSElKiu_Q510"
   },
   "source": [
    "+ INPUT_SIZE는 딥러닝 모델에서의 Input의 크기 이자 입력층의 노드 수를 의미\n",
    "+ 이 예제에서 입력 데이터의 크기가 1000이라는 것을 의미\n",
    "+ 즉, 1000 크기의 벡터 값\n",
    "+ 배치 사이즈가 64 이므로 1000크기의 벡터 값을 64개 이용한다는 의미\n",
    "+ (64, 1000)"
   ]
  },
  {
   "cell_type": "markdown",
   "metadata": {
    "id": "6hjCpm9gRXO2"
   },
   "source": [
    "+ HIDDEN_SIZE는 딥러닝 모델에서의 Input을 다수의 파라미터를 이용해 계산한 결과에 한 번 더 계산되는 파라미터의 수\n",
    "+ 즉, 입력층에서 은닉층으로 전달됐을 때의 은닉층의 노드 수\n",
    "+ 이 예제에서는 (64,1000)의 Input들이 (1000, 100) 크기의 행렬과 행렬 곱을 계산하기 위해 설정한 수"
   ]
  },
  {
   "cell_type": "markdown",
   "metadata": {
    "id": "Xe1w12pCRwE7"
   },
   "source": [
    "+ OUTPUT_SIZE는 딥러닝 모델에서 최종으로 출력되는 값의 벡터의 크기\n",
    "+ 보통 Output의 크기는 최종으로 비교하고자 하는 레이블의 크기와 동일하게 설정\n",
    "+ 예를 들어 10개로 분류하려먼 크기가 10인 원-핫 인코딩을 이용하기 때문에 Output의 크기를 10으로 맞추기도 하며 5 크기의 벡터 값에 대해 Mean Squared Error를 계산하기 위해 Output 의 크기를 5로 맞추기도 함"
   ]
  },
  {
   "cell_type": "code",
   "execution_count": 43,
   "metadata": {
    "executionInfo": {
     "elapsed": 880,
     "status": "ok",
     "timestamp": 1609142469847,
     "user": {
      "displayName": "김용길",
      "photoUrl": "",
      "userId": "00028506768877938944"
     },
     "user_tz": -540
    },
    "id": "oIylw8xvQ0os"
   },
   "outputs": [],
   "source": [
    "x = torch.randn(BATCH_SIZE,\n",
    "                INPUT_SIZE,\n",
    "                dtype = torch.float,\n",
    "                requires_grad = False)\n",
    "\n",
    "y = torch.randn(BATCH_SIZE,\n",
    "                OUTPUT_SIZE,\n",
    "                dtype = torch.float,\n",
    "                requires_grad = False)\n",
    "\n",
    "w1 = torch.randn(INPUT_SIZE,\n",
    "                 HIDDEN_SIZE,\n",
    "                dtype = torch.float,\n",
    "                requires_grad = True)\n",
    "\n",
    "w2 = torch.randn(HIDDEN_SIZE,\n",
    "                 OUTPUT_SIZE,\n",
    "                dtype = torch.float,\n",
    "                requires_grad = True)"
   ]
  },
  {
   "cell_type": "code",
   "execution_count": 44,
   "metadata": {
    "colab": {
     "base_uri": "https://localhost:8080/"
    },
    "executionInfo": {
     "elapsed": 752,
     "status": "ok",
     "timestamp": 1609142502672,
     "user": {
      "displayName": "김용길",
      "photoUrl": "",
      "userId": "00028506768877938944"
     },
     "user_tz": -540
    },
    "id": "Ph4bJv01S-Pi",
    "outputId": "ca23b74a-5caa-426a-90ec-7e6fce851295"
   },
   "outputs": [
    {
     "name": "stdout",
     "output_type": "stream",
     "text": [
      "Iteration : 100 \t Loss : 126516.4453125\n",
      "Iteration : 200 \t Loss : 31261.2578125\n",
      "Iteration : 300 \t Loss : 11154.3740234375\n",
      "Iteration : 400 \t Loss : 4766.4775390625\n",
      "Iteration : 500 \t Loss : 2261.7587890625\n"
     ]
    }
   ],
   "source": [
    "learning_rate = 1e-6 # 1\n",
    "for t in range(1, 501): \n",
    "  y_pred = x.mm(w1).clamp(min=0).mm(w2) # 2\n",
    "\n",
    "  loss = (y_pred - y).pow(2).sum()\n",
    "  if t % 100 == 0:\n",
    "    print(\"Iteration :\", t, \"\\t\", \"Loss :\", loss.item())\n",
    "  loss.backward() # 3\n",
    "\n",
    "  with torch.no_grad(): # 4\n",
    "    w1 -= learning_rate * w1.grad # 5\n",
    "    w2 -= learning_rate * w2.grad\n",
    "\n",
    "    w1.grad.zero_() # 6\n",
    "    w2.grad.zero_() "
   ]
  },
  {
   "cell_type": "markdown",
   "metadata": {
    "id": "VhgGk8jvXRV9"
   },
   "source": [
    "1. 딥러닝 모델에서 파라미터 값을 업데이트할 때 가장 중요한 하이퍼파라미터\n",
    "2. torch 모듈 내 clamp라는 비선형 활성화 함수 적용 -> ReLU와 같은 역할 \n",
    "\n",
    " Input과 w1과의 행렬 곱 결과 값에 clamp 함수를 적용한 결괏괎을 다시 w2와 행렬 곱 계산한 결과는 Output을 의미하므로 y_pred\n",
    "3. 계산된 loss값에 ```backward()```메서드를 이용하면 각 파라미터 값에 대해 Gradient를 계산하고 이를 통해 Back Propagation을 진행한다는 것을 의미\n",
    "4. 각 파라미터 값에 대해 Gradient를 계산한 결과를 이용해 파라미터 값을 업데이트 할 때는 해당 시점의 Gradient 값을 고정한 후 업데이트를 진행\n",
    "5. Gradient 값을 고정한 상태에서 w1의 Gradient 값을 의미하는 w1.grad에 학습율을 곱한 결과값을 기존 w1에서 빼줌\n",
    "6. 각 파라미터 값을 업데이트 했으면 각 파라미터 값의 Gradient를 다시 0으로 초기화 시켜줌\n",
    "\n"
   ]
  },
  {
   "cell_type": "code",
   "execution_count": 45,
   "metadata": {
    "colab": {
     "base_uri": "https://localhost:8080/"
    },
    "executionInfo": {
     "elapsed": 943,
     "status": "ok",
     "timestamp": 1609142983341,
     "user": {
      "displayName": "김용길",
      "photoUrl": "",
      "userId": "00028506768877938944"
     },
     "user_tz": -540
    },
    "id": "8gXfIFvMZUcy",
    "outputId": "0a16a52a-5bcb-4b53-ba10-98bb614f39a1"
   },
   "outputs": [
    {
     "name": "stdout",
     "output_type": "stream",
     "text": [
      "tensor([[ 0.8556,  1.5583,  0.1693,  ..., -0.4312,  1.5635, -1.7445],\n",
      "        [-1.4194,  0.2194, -1.2673,  ...,  0.3218, -1.0682, -0.2155],\n",
      "        [ 0.1187, -1.0993, -1.4497,  ...,  1.0653,  0.0234,  0.9131],\n",
      "        ...,\n",
      "        [-0.4792,  0.2093,  0.8168,  ..., -0.1605, -0.2166, -1.2376],\n",
      "        [ 0.0289, -0.5902, -0.1973,  ..., -1.2722,  0.8796,  0.5514],\n",
      "        [ 1.8463,  0.4558,  0.2944,  ..., -1.2026, -0.1535, -1.1562]],\n",
      "       requires_grad=True)\n"
     ]
    }
   ],
   "source": [
    "print(w1)"
   ]
  },
  {
   "cell_type": "code",
   "execution_count": null,
   "metadata": {
    "id": "heZoDZn1ZVNK"
   },
   "outputs": [],
   "source": []
  }
 ],
 "metadata": {
  "colab": {
   "authorship_tag": "ABX9TyMeT/9cgSPoFUSDbjUSXzZo",
   "collapsed_sections": [],
   "name": "파이토치_1228.ipynb",
   "provenance": []
  },
  "kernelspec": {
   "display_name": "Python 3",
   "language": "python",
   "name": "python3"
  },
  "language_info": {
   "codemirror_mode": {
    "name": "ipython",
    "version": 3
   },
   "file_extension": ".py",
   "mimetype": "text/x-python",
   "name": "python",
   "nbconvert_exporter": "python",
   "pygments_lexer": "ipython3",
   "version": "3.8.5"
  }
 },
 "nbformat": 4,
 "nbformat_minor": 1
}
