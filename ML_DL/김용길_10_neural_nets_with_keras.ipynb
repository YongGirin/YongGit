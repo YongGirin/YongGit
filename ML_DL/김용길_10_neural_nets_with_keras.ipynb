{
 "cells": [
  {
   "cell_type": "code",
   "execution_count": 1,
   "metadata": {
    "executionInfo": {
     "elapsed": 4056,
     "status": "ok",
     "timestamp": 1607040421167,
     "user": {
      "displayName": "김용길",
      "photoUrl": "",
      "userId": "00028506768877938944"
     },
     "user_tz": -540
    },
    "id": "_NXj370KYEKH"
   },
   "outputs": [],
   "source": [
    "# 파이썬 ≥3.5 필수\n",
    "\n",
    "import sys\n",
    "\n",
    "assert sys.version_info >= (3, 5)\n",
    "\n",
    "\n",
    "# 사이킷런 ≥0.20 필수\n",
    "\n",
    "import sklearn\n",
    "\n",
    "assert sklearn.__version__ >= \"0.20\"\n",
    "\n",
    "\n",
    "# 텐서플로 ≥2.0 필수\n",
    "\n",
    "import tensorflow as tf\n",
    "\n",
    "assert tf.__version__ >= \"2.0\"\n",
    "\n",
    "\n",
    "# 공통 모듈 임포트\n",
    "\n",
    "import numpy as np\n",
    "\n",
    "import os\n",
    "\n",
    "\n",
    "# 노트북 실행 결과를 동일하게 유지하기 위해\n",
    "\n",
    "np.random.seed(42)\n",
    "\n",
    "\n",
    "# 깔끔한 그래프 출력을 위해\n",
    "\n",
    "%matplotlib inline\n",
    "\n",
    "import matplotlib as mpl\n",
    "\n",
    "import matplotlib.pyplot as plt\n",
    "\n",
    "mpl.rc('axes', labelsize=14)\n",
    "\n",
    "mpl.rc('xtick', labelsize=12)\n",
    "\n",
    "mpl.rc('ytick', labelsize=12)\n",
    "\n",
    "\n",
    "# 그림을 저장할 위치\n",
    "\n",
    "PROJECT_ROOT_DIR = \".\"\n",
    "\n",
    "CHAPTER_ID = \"ann\"\n",
    "\n",
    "IMAGES_PATH = os.path.join(PROJECT_ROOT_DIR, \"images\", CHAPTER_ID)\n",
    "\n",
    "os.makedirs(IMAGES_PATH, exist_ok=True)\n",
    "\n",
    "\n",
    "def save_fig(fig_id, tight_layout=True, fig_extension=\"png\", resolution=300):\n",
    "\n",
    "  path = os.path.join(IMAGES_PATH, fig_id + \".\" + fig_extension)\n",
    "\n",
    "  print(\"그림 저장:\", fig_id)\n",
    "\n",
    "  if tight_layout:\n",
    "\n",
    "    plt.tight_layout()\n",
    "\n",
    "  plt.savefig(path, format=fig_extension, dpi=resolution)\n",
    "\n",
    "\n",
    "# 불필요한 경고를 무시합니다 (사이파이 이슈 #5998 참조)\n",
    "\n",
    "import warnings\n",
    "\n",
    "warnings.filterwarnings(action=\"ignore\", message=\"^internal gelsd\")\n",
    "\n"
   ]
  },
  {
   "cell_type": "markdown",
   "metadata": {
    "id": "mOo7mlVzYtlk"
   },
   "source": [
    "## 퍼셉트론"
   ]
  },
  {
   "cell_type": "code",
   "execution_count": 2,
   "metadata": {
    "executionInfo": {
     "elapsed": 4048,
     "status": "ok",
     "timestamp": 1607040421169,
     "user": {
      "displayName": "김용길",
      "photoUrl": "",
      "userId": "00028506768877938944"
     },
     "user_tz": -540
    },
    "id": "wtsZpkuZYz4g"
   },
   "outputs": [],
   "source": [
    "import numpy as np\n",
    "from sklearn.datasets import load_iris\n",
    "from sklearn.linear_model import Perceptron\n",
    "iris = load_iris()\n",
    "X = iris.data[:, (2,3)]\n",
    "y = (iris.target == 0).astype(np.int)\n",
    "\n",
    "per_clf = Perceptron(max_iter=1000, tol=1e-3, random_state=42)\n",
    "per_clf.fit(X,y)\n",
    "\n",
    "y_pred = per_clf.predict([[2,0.5]])"
   ]
  },
  {
   "cell_type": "code",
   "execution_count": 3,
   "metadata": {
    "colab": {
     "base_uri": "https://localhost:8080/"
    },
    "executionInfo": {
     "elapsed": 4032,
     "status": "ok",
     "timestamp": 1607040421170,
     "user": {
      "displayName": "김용길",
      "photoUrl": "",
      "userId": "00028506768877938944"
     },
     "user_tz": -540
    },
    "id": "5uoUL96rZNFf",
    "outputId": "b4230a49-e770-4c21-ed5e-3446f4c1b45d"
   },
   "outputs": [
    {
     "data": {
      "text/plain": [
       "array([1])"
      ]
     },
     "execution_count": 3,
     "metadata": {
      "tags": []
     },
     "output_type": "execute_result"
    }
   ],
   "source": [
    "y_pred"
   ]
  },
  {
   "cell_type": "markdown",
   "metadata": {
    "id": "mQJZrPlBZNne"
   },
   "source": [
    "## 텐서플로\n",
    "### 이미지 분류기 생성\n"
   ]
  },
  {
   "cell_type": "code",
   "execution_count": 4,
   "metadata": {
    "executionInfo": {
     "elapsed": 4031,
     "status": "ok",
     "timestamp": 1607040421172,
     "user": {
      "displayName": "김용길",
      "photoUrl": "",
      "userId": "00028506768877938944"
     },
     "user_tz": -540
    },
    "id": "RVHVDWiYcs8C"
   },
   "outputs": [],
   "source": [
    "import tensorflow as tf\n",
    "from tensorflow import keras"
   ]
  },
  {
   "cell_type": "code",
   "execution_count": 5,
   "metadata": {
    "colab": {
     "base_uri": "https://localhost:8080/",
     "height": 35
    },
    "executionInfo": {
     "elapsed": 4020,
     "status": "ok",
     "timestamp": 1607040421173,
     "user": {
      "displayName": "김용길",
      "photoUrl": "",
      "userId": "00028506768877938944"
     },
     "user_tz": -540
    },
    "id": "bee1I7y1iX3f",
    "outputId": "4bf37f2b-8954-4aa2-fd34-ee42b1aba65f"
   },
   "outputs": [
    {
     "data": {
      "application/vnd.google.colaboratory.intrinsic+json": {
       "type": "string"
      },
      "text/plain": [
       "'2.3.0'"
      ]
     },
     "execution_count": 5,
     "metadata": {
      "tags": []
     },
     "output_type": "execute_result"
    }
   ],
   "source": [
    "tf.__version__"
   ]
  },
  {
   "cell_type": "code",
   "execution_count": 6,
   "metadata": {
    "colab": {
     "base_uri": "https://localhost:8080/",
     "height": 35
    },
    "executionInfo": {
     "elapsed": 4010,
     "status": "ok",
     "timestamp": 1607040421175,
     "user": {
      "displayName": "김용길",
      "photoUrl": "",
      "userId": "00028506768877938944"
     },
     "user_tz": -540
    },
    "id": "XrSTPQFBixTP",
    "outputId": "495b0325-f02e-4764-83ca-f866f67936e4"
   },
   "outputs": [
    {
     "data": {
      "application/vnd.google.colaboratory.intrinsic+json": {
       "type": "string"
      },
      "text/plain": [
       "'2.4.0'"
      ]
     },
     "execution_count": 6,
     "metadata": {
      "tags": []
     },
     "output_type": "execute_result"
    }
   ],
   "source": [
    "keras.__version__"
   ]
  },
  {
   "cell_type": "code",
   "execution_count": 72,
   "metadata": {
    "executionInfo": {
     "elapsed": 1474,
     "status": "ok",
     "timestamp": 1607048333631,
     "user": {
      "displayName": "김용길",
      "photoUrl": "",
      "userId": "00028506768877938944"
     },
     "user_tz": -540
    },
    "id": "zLxe3nPQcyEP"
   },
   "outputs": [],
   "source": [
    "fashion_mnist = keras.datasets.fashion_mnist\n",
    "(X_train_full, y_train_full), (X_test, y_test) = fashion_mnist.load_data()"
   ]
  },
  {
   "cell_type": "code",
   "execution_count": 73,
   "metadata": {
    "colab": {
     "base_uri": "https://localhost:8080/"
    },
    "executionInfo": {
     "elapsed": 1170,
     "status": "ok",
     "timestamp": 1607048336981,
     "user": {
      "displayName": "김용길",
      "photoUrl": "",
      "userId": "00028506768877938944"
     },
     "user_tz": -540
    },
    "id": "v5XWEs2leEEI",
    "outputId": "cfcf1a22-33fd-47c5-e219-a54a6a50d50a"
   },
   "outputs": [
    {
     "data": {
      "text/plain": [
       "(60000, 28, 28)"
      ]
     },
     "execution_count": 73,
     "metadata": {
      "tags": []
     },
     "output_type": "execute_result"
    }
   ],
   "source": [
    "X_train_full.shape"
   ]
  },
  {
   "cell_type": "code",
   "execution_count": 74,
   "metadata": {
    "executionInfo": {
     "elapsed": 2523,
     "status": "ok",
     "timestamp": 1607048339277,
     "user": {
      "displayName": "김용길",
      "photoUrl": "",
      "userId": "00028506768877938944"
     },
     "user_tz": -540
    },
    "id": "aJoXUVrugnyJ"
   },
   "outputs": [],
   "source": [
    "X_valid, X_train = X_train_full[:5000]/255.0, X_train_full[5000:]/255.0\n",
    "y_valid, y_train = y_train_full[:5000], y_train_full[5000:]\n",
    "X_test = X_test / 255.0"
   ]
  },
  {
   "cell_type": "code",
   "execution_count": 75,
   "metadata": {
    "colab": {
     "base_uri": "https://localhost:8080/",
     "height": 248
    },
    "executionInfo": {
     "elapsed": 2011,
     "status": "ok",
     "timestamp": 1607048339278,
     "user": {
      "displayName": "김용길",
      "photoUrl": "",
      "userId": "00028506768877938944"
     },
     "user_tz": -540
    },
    "id": "4K0wjdLIiPzC",
    "outputId": "4d3ee861-1bd5-48c2-f434-ff0d20e6e7a3"
   },
   "outputs": [
    {
     "data": {
      "image/png": "[encoded data removed]",
      "text/plain": [
       "<Figure size 432x288 with 1 Axes>"
      ]
     },
     "metadata": {
      "needs_background": "light",
      "tags": []
     },
     "output_type": "display_data"
    }
   ],
   "source": [
    "plt.imshow(X_train[2], cmap=\"binary\")\n",
    "plt.axis(\"off\")\n",
    "plt.show()"
   ]
  },
  {
   "cell_type": "code",
   "execution_count": 76,
   "metadata": {
    "colab": {
     "base_uri": "https://localhost:8080/"
    },
    "executionInfo": {
     "elapsed": 870,
     "status": "ok",
     "timestamp": 1607048339280,
     "user": {
      "displayName": "김용길",
      "photoUrl": "",
      "userId": "00028506768877938944"
     },
     "user_tz": -540
    },
    "id": "yUO9Q9uji8lf",
    "outputId": "627e5386-3b9a-42bc-b98a-89ef08100fac"
   },
   "outputs": [
    {
     "data": {
      "text/plain": [
       "array([4, 0, 7, ..., 3, 0, 5], dtype=uint8)"
      ]
     },
     "execution_count": 76,
     "metadata": {
      "tags": []
     },
     "output_type": "execute_result"
    }
   ],
   "source": [
    "y_train"
   ]
  },
  {
   "cell_type": "code",
   "execution_count": 77,
   "metadata": {
    "executionInfo": {
     "elapsed": 756,
     "status": "ok",
     "timestamp": 1607048339753,
     "user": {
      "displayName": "김용길",
      "photoUrl": "",
      "userId": "00028506768877938944"
     },
     "user_tz": -540
    },
    "id": "gxGWduX2i_SI"
   },
   "outputs": [],
   "source": [
    "class_names = [\"T-shirt/top\", \"Trouser\", \"Pullover\", \"Dress\", \"Coat\",\n",
    "\n",
    "\"Sandal\", \"Shirt\", \"Sneaker\", \"Bag\", \"Ankle boot\"]\n",
    "\n"
   ]
  },
  {
   "cell_type": "code",
   "execution_count": 78,
   "metadata": {
    "colab": {
     "base_uri": "https://localhost:8080/",
     "height": 35
    },
    "executionInfo": {
     "elapsed": 807,
     "status": "ok",
     "timestamp": 1607048340813,
     "user": {
      "displayName": "김용길",
      "photoUrl": "",
      "userId": "00028506768877938944"
     },
     "user_tz": -540
    },
    "id": "Epjm0VvRjFBZ",
    "outputId": "7798fa97-7cdd-4767-bf11-338f90a31300"
   },
   "outputs": [
    {
     "data": {
      "application/vnd.google.colaboratory.intrinsic+json": {
       "type": "string"
      },
      "text/plain": [
       "'Coat'"
      ]
     },
     "execution_count": 78,
     "metadata": {
      "tags": []
     },
     "output_type": "execute_result"
    }
   ],
   "source": [
    "class_names[y_train[0]]"
   ]
  },
  {
   "cell_type": "code",
   "execution_count": 79,
   "metadata": {
    "colab": {
     "base_uri": "https://localhost:8080/",
     "height": 303
    },
    "executionInfo": {
     "elapsed": 3716,
     "status": "ok",
     "timestamp": 1607048344998,
     "user": {
      "displayName": "김용길",
      "photoUrl": "",
      "userId": "00028506768877938944"
     },
     "user_tz": -540
    },
    "id": "xaaoeIovjJm4",
    "outputId": "269faf02-cfc9-422d-e94e-d39eddfdd1cb"
   },
   "outputs": [
    {
     "name": "stdout",
     "output_type": "stream",
     "text": [
      "그림 저장: fashion_mnist_plot\n"
     ]
    },
    {
     "data": {
      "image/png": "[encoded data removed]",
      "text/plain": [
       "<Figure size 864x345.6 with 40 Axes>"
      ]
     },
     "metadata": {
      "needs_background": "light",
      "tags": []
     },
     "output_type": "display_data"
    }
   ],
   "source": [
    " n_rows=4\n",
    "n_cols=10\n",
    "plt.figure(figsize=(n_cols*1.2, n_rows*1.2))\n",
    "for row in range(n_rows):\n",
    "  for col in range(n_cols):\n",
    "    index = n_cols * row + col\n",
    "    plt.subplot(n_rows, n_cols, index+1)\n",
    "    plt.imshow(X_train[index], cmap=\"binary\",interpolation=\"nearest\")\n",
    "    plt.axis(\"off\")\n",
    "    plt.title(class_names[y_train[index]], fontsize=12)\n",
    "plt. subplots_adjust(wspace=0.2, hspace=0.5)\n",
    "save_fig(\"fashion_mnist_plot\", tight_layout=False)\n",
    "plt.show()"
   ]
  },
  {
   "cell_type": "code",
   "execution_count": 80,
   "metadata": {
    "executionInfo": {
     "elapsed": 1727,
     "status": "ok",
     "timestamp": 1607048344999,
     "user": {
      "displayName": "김용길",
      "photoUrl": "",
      "userId": "00028506768877938944"
     },
     "user_tz": -540
    },
    "id": "hBa2ietJl40N"
   },
   "outputs": [],
   "source": [
    "model = keras.models.Sequential()\n",
    "model.add(keras.layers.Flatten(input_shape=[28,28]))\n",
    "model.add(keras.layers.Dense(300, activation=\"relu\"))\n",
    "model.add(keras.layers.Dense(100, activation=\"relu\"))\n",
    "model.add(keras.layers.Dense(10, activation=\"softmax\"))\n",
    "# 클래스 개수만큼 10개"
   ]
  },
  {
   "cell_type": "code",
   "execution_count": 81,
   "metadata": {
    "executionInfo": {
     "elapsed": 673,
     "status": "ok",
     "timestamp": 1607048345000,
     "user": {
      "displayName": "김용길",
      "photoUrl": "",
      "userId": "00028506768877938944"
     },
     "user_tz": -540
    },
    "id": "QB_7dqKll_xv"
   },
   "outputs": [],
   "source": [
    "model = keras.models.Sequential([\n",
    "  keras.layers.Flatten(input_shape=[28,28]),\n",
    "  keras.layers.Dense(300, activation=\"relu\"),\n",
    "  keras.layers.Dense(100, activation=\"relu\"),\n",
    "  keras.layers.Dense(10, activation=\"softmax\")                    \n",
    "])"
   ]
  },
  {
   "cell_type": "code",
   "execution_count": 17,
   "metadata": {
    "colab": {
     "base_uri": "https://localhost:8080/"
    },
    "executionInfo": {
     "elapsed": 9286,
     "status": "ok",
     "timestamp": 1607040426530,
     "user": {
      "displayName": "김용길",
      "photoUrl": "",
      "userId": "00028506768877938944"
     },
     "user_tz": -540
    },
    "id": "Wijmxqe6nLqz",
    "outputId": "6745fe77-130e-40b5-f7e8-19f805632a5e"
   },
   "outputs": [
    {
     "name": "stdout",
     "output_type": "stream",
     "text": [
      "Model: \"sequential_1\"\n",
      "_________________________________________________________________\n",
      "Layer (type)                 Output Shape              Param #   \n",
      "=================================================================\n",
      "flatten_1 (Flatten)          (None, 784)               0         \n",
      "_________________________________________________________________\n",
      "dense_3 (Dense)              (None, 300)               235500    \n",
      "_________________________________________________________________\n",
      "dense_4 (Dense)              (None, 100)               30100     \n",
      "_________________________________________________________________\n",
      "dense_5 (Dense)              (None, 10)                1010      \n",
      "=================================================================\n",
      "Total params: 266,610\n",
      "Trainable params: 266,610\n",
      "Non-trainable params: 0\n",
      "_________________________________________________________________\n"
     ]
    }
   ],
   "source": [
    "model.summary()"
   ]
  },
  {
   "cell_type": "code",
   "execution_count": 82,
   "metadata": {
    "executionInfo": {
     "elapsed": 991,
     "status": "ok",
     "timestamp": 1607048349603,
     "user": {
      "displayName": "김용길",
      "photoUrl": "",
      "userId": "00028506768877938944"
     },
     "user_tz": -540
    },
    "id": "GfFNdjl0pfwN"
   },
   "outputs": [],
   "source": [
    "keras.backend.clear_session()\n",
    "np.random.seed(42)\n",
    "tf.random.set_seed(42)"
   ]
  },
  {
   "cell_type": "code",
   "execution_count": 83,
   "metadata": {
    "executionInfo": {
     "elapsed": 1088,
     "status": "ok",
     "timestamp": 1607048350816,
     "user": {
      "displayName": "김용길",
      "photoUrl": "",
      "userId": "00028506768877938944"
     },
     "user_tz": -540
    },
    "id": "0ND4TXYInOzF"
   },
   "outputs": [],
   "source": [
    "model.compile(loss=\"sparse_categorical_crossentropy\",\n",
    "              optimizer=\"sgd\",\n",
    "              metrics=[\"accuracy\"])"
   ]
  },
  {
   "cell_type": "markdown",
   "metadata": {
    "id": "c41qPS1OpJ7a"
   },
   "source": [
    "- loss=\"sparse_categorical_crossentropy\" \n",
    "- optimizer=\"sgd\" : 확률적 경사하강법\n",
    "- metrics=[\"accuracy\"])\n",
    "\n",
    "이진 분류를 수행한다면 출력측에 \"sigmoid\" 사용하고 \"binary_crossentropy\" 손실 사용"
   ]
  },
  {
   "cell_type": "code",
   "execution_count": 84,
   "metadata": {
    "colab": {
     "base_uri": "https://localhost:8080/"
    },
    "executionInfo": {
     "elapsed": 149239,
     "status": "ok",
     "timestamp": 1607048501740,
     "user": {
      "displayName": "김용길",
      "photoUrl": "",
      "userId": "00028506768877938944"
     },
     "user_tz": -540
    },
    "id": "7nVx6QISp_IE",
    "outputId": "fa421140-de76-4df1-f81b-8cb387507791"
   },
   "outputs": [
    {
     "name": "stdout",
     "output_type": "stream",
     "text": [
      "Epoch 1/30\n",
      "1719/1719 [==============================] - 5s 3ms/step - loss: 0.7104 - accuracy: 0.7663 - val_loss: 0.5246 - val_accuracy: 0.8196\n",
      "Epoch 2/30\n",
      "1719/1719 [==============================] - 5s 3ms/step - loss: 0.4888 - accuracy: 0.8287 - val_loss: 0.4391 - val_accuracy: 0.8502\n",
      "Epoch 3/30\n",
      "1719/1719 [==============================] - 5s 3ms/step - loss: 0.4435 - accuracy: 0.8442 - val_loss: 0.5544 - val_accuracy: 0.7922\n",
      "Epoch 4/30\n",
      "1719/1719 [==============================] - 5s 3ms/step - loss: 0.4167 - accuracy: 0.8553 - val_loss: 0.3947 - val_accuracy: 0.8668\n",
      "Epoch 5/30\n",
      "1719/1719 [==============================] - 5s 3ms/step - loss: 0.3979 - accuracy: 0.8617 - val_loss: 0.3825 - val_accuracy: 0.8670\n",
      "Epoch 6/30\n",
      "1719/1719 [==============================] - 5s 3ms/step - loss: 0.3792 - accuracy: 0.8667 - val_loss: 0.3772 - val_accuracy: 0.8714\n",
      "Epoch 7/30\n",
      "1719/1719 [==============================] - 5s 3ms/step - loss: 0.3668 - accuracy: 0.8711 - val_loss: 0.3703 - val_accuracy: 0.8698\n",
      "Epoch 8/30\n",
      "1719/1719 [==============================] - 5s 3ms/step - loss: 0.3553 - accuracy: 0.8741 - val_loss: 0.3906 - val_accuracy: 0.8596\n",
      "Epoch 9/30\n",
      "1719/1719 [==============================] - 5s 3ms/step - loss: 0.3444 - accuracy: 0.8783 - val_loss: 0.3555 - val_accuracy: 0.8738\n",
      "Epoch 10/30\n",
      "1719/1719 [==============================] - 5s 3ms/step - loss: 0.3349 - accuracy: 0.8811 - val_loss: 0.3517 - val_accuracy: 0.8760\n",
      "Epoch 11/30\n",
      "1719/1719 [==============================] - 5s 3ms/step - loss: 0.3269 - accuracy: 0.8834 - val_loss: 0.3463 - val_accuracy: 0.8770\n",
      "Epoch 12/30\n",
      "1719/1719 [==============================] - 5s 3ms/step - loss: 0.3173 - accuracy: 0.8869 - val_loss: 0.3372 - val_accuracy: 0.8782\n",
      "Epoch 13/30\n",
      "1719/1719 [==============================] - 5s 3ms/step - loss: 0.3105 - accuracy: 0.8889 - val_loss: 0.3371 - val_accuracy: 0.8816\n",
      "Epoch 14/30\n",
      "1719/1719 [==============================] - 5s 3ms/step - loss: 0.3043 - accuracy: 0.8919 - val_loss: 0.3560 - val_accuracy: 0.8720\n",
      "Epoch 15/30\n",
      "1719/1719 [==============================] - 5s 3ms/step - loss: 0.2968 - accuracy: 0.8927 - val_loss: 0.3287 - val_accuracy: 0.8802\n",
      "Epoch 16/30\n",
      "1719/1719 [==============================] - 5s 3ms/step - loss: 0.2918 - accuracy: 0.8956 - val_loss: 0.3158 - val_accuracy: 0.8862\n",
      "Epoch 17/30\n",
      "1719/1719 [==============================] - 5s 3ms/step - loss: 0.2857 - accuracy: 0.8982 - val_loss: 0.3551 - val_accuracy: 0.8688\n",
      "Epoch 18/30\n",
      "1719/1719 [==============================] - 5s 3ms/step - loss: 0.2796 - accuracy: 0.8994 - val_loss: 0.3181 - val_accuracy: 0.8852\n",
      "Epoch 19/30\n",
      "1719/1719 [==============================] - 5s 3ms/step - loss: 0.2746 - accuracy: 0.9015 - val_loss: 0.3128 - val_accuracy: 0.8866\n",
      "Epoch 20/30\n",
      "1719/1719 [==============================] - 5s 3ms/step - loss: 0.2691 - accuracy: 0.9038 - val_loss: 0.3392 - val_accuracy: 0.8782\n",
      "Epoch 21/30\n",
      "1719/1719 [==============================] - 5s 3ms/step - loss: 0.2639 - accuracy: 0.9054 - val_loss: 0.3091 - val_accuracy: 0.8894\n",
      "Epoch 22/30\n",
      "1719/1719 [==============================] - 5s 3ms/step - loss: 0.2590 - accuracy: 0.9066 - val_loss: 0.3017 - val_accuracy: 0.8894\n",
      "Epoch 23/30\n",
      "1719/1719 [==============================] - 5s 3ms/step - loss: 0.2550 - accuracy: 0.9079 - val_loss: 0.3058 - val_accuracy: 0.8888\n",
      "Epoch 24/30\n",
      "1719/1719 [==============================] - 5s 3ms/step - loss: 0.2501 - accuracy: 0.9097 - val_loss: 0.3092 - val_accuracy: 0.8888\n",
      "Epoch 25/30\n",
      "1719/1719 [==============================] - 6s 3ms/step - loss: 0.2456 - accuracy: 0.9118 - val_loss: 0.3121 - val_accuracy: 0.8880\n",
      "Epoch 26/30\n",
      "1719/1719 [==============================] - 5s 3ms/step - loss: 0.2414 - accuracy: 0.9132 - val_loss: 0.3093 - val_accuracy: 0.8904\n",
      "Epoch 27/30\n",
      "1719/1719 [==============================] - 5s 3ms/step - loss: 0.2378 - accuracy: 0.9151 - val_loss: 0.3032 - val_accuracy: 0.8900\n",
      "Epoch 28/30\n",
      "1719/1719 [==============================] - 5s 3ms/step - loss: 0.2343 - accuracy: 0.9162 - val_loss: 0.3046 - val_accuracy: 0.8898\n",
      "Epoch 29/30\n",
      "1719/1719 [==============================] - 5s 3ms/step - loss: 0.2294 - accuracy: 0.9183 - val_loss: 0.3107 - val_accuracy: 0.8876\n",
      "Epoch 30/30\n",
      "1719/1719 [==============================] - 5s 3ms/step - loss: 0.2260 - accuracy: 0.9185 - val_loss: 0.3180 - val_accuracy: 0.8858\n"
     ]
    }
   ],
   "source": [
    "history = model.fit(X_train, y_train, epochs=30,\n",
    "                    validation_data=(X_valid, y_valid))"
   ]
  },
  {
   "cell_type": "code",
   "execution_count": 21,
   "metadata": {
    "colab": {
     "base_uri": "https://localhost:8080/"
    },
    "executionInfo": {
     "elapsed": 139822,
     "status": "ok",
     "timestamp": 1607040557089,
     "user": {
      "displayName": "김용길",
      "photoUrl": "",
      "userId": "00028506768877938944"
     },
     "user_tz": -540
    },
    "id": "ngHlm7DWqMiX",
    "outputId": "6e45ca94-e5d8-43c3-9240-b220ba6a4a9c"
   },
   "outputs": [
    {
     "data": {
      "text/plain": [
       "{'epochs': 30, 'steps': 1719, 'verbose': 1}"
      ]
     },
     "execution_count": 21,
     "metadata": {
      "tags": []
     },
     "output_type": "execute_result"
    }
   ],
   "source": [
    "history.params"
   ]
  },
  {
   "cell_type": "code",
   "execution_count": 22,
   "metadata": {
    "colab": {
     "base_uri": "https://localhost:8080/",
     "height": 386
    },
    "executionInfo": {
     "elapsed": 141237,
     "status": "ok",
     "timestamp": 1607040558513,
     "user": {
      "displayName": "김용길",
      "photoUrl": "",
      "userId": "00028506768877938944"
     },
     "user_tz": -540
    },
    "id": "pbXmP2-mq_ER",
    "outputId": "98ed1295-3eaa-45d7-a9ec-7588524d7378"
   },
   "outputs": [
    {
     "name": "stdout",
     "output_type": "stream",
     "text": [
      "그림 저장: keras_learning_curves_plot\n"
     ]
    },
    {
     "data": {
      "image/png": "[encoded data removed]",
      "text/plain": [
       "<Figure size 576x360 with 1 Axes>"
      ]
     },
     "metadata": {
      "needs_background": "light",
      "tags": []
     },
     "output_type": "display_data"
    }
   ],
   "source": [
    "import pandas as pd\n",
    "pd.DataFrame(history.history).plot(figsize=(8,5))\n",
    "plt.grid(True)\n",
    "plt.gca().set_ylim(0,1)\n",
    "save_fig(\"keras_learning_curves_plot\")\n",
    "plt.show()"
   ]
  },
  {
   "cell_type": "markdown",
   "metadata": {
    "id": "q6nPvSeoK4Ye"
   },
   "source": [
    "### 테스트 셋으로 모델을 평가하여 일반화 오차를 추정"
   ]
  },
  {
   "cell_type": "code",
   "execution_count": 23,
   "metadata": {
    "colab": {
     "base_uri": "https://localhost:8080/"
    },
    "executionInfo": {
     "elapsed": 1408,
     "status": "ok",
     "timestamp": 1607042026381,
     "user": {
      "displayName": "김용길",
      "photoUrl": "",
      "userId": "00028506768877938944"
     },
     "user_tz": -540
    },
    "id": "DiN2DP3ir7ED",
    "outputId": "016bca77-2b89-4704-cfe2-5e56d4a748ec"
   },
   "outputs": [
    {
     "name": "stdout",
     "output_type": "stream",
     "text": [
      "313/313 [==============================] - 0s 2ms/step - loss: 0.3354 - accuracy: 0.8816\n"
     ]
    },
    {
     "data": {
      "text/plain": [
       "[0.3353757858276367, 0.881600022315979]"
      ]
     },
     "execution_count": 23,
     "metadata": {
      "tags": []
     },
     "output_type": "execute_result"
    }
   ],
   "source": [
    "model.evaluate(X_test, y_test\n",
    "               )"
   ]
  },
  {
   "cell_type": "markdown",
   "metadata": {
    "id": "iYFwctDhr5td"
   },
   "source": [
    "## 모델을 사용해 예측"
   ]
  },
  {
   "cell_type": "code",
   "execution_count": 25,
   "metadata": {
    "colab": {
     "base_uri": "https://localhost:8080/"
    },
    "executionInfo": {
     "elapsed": 989,
     "status": "ok",
     "timestamp": 1607042149216,
     "user": {
      "displayName": "김용길",
      "photoUrl": "",
      "userId": "00028506768877938944"
     },
     "user_tz": -540
    },
    "id": "87XA17I9LHrd",
    "outputId": "02936096-a96d-4b67-c479-638549172d03"
   },
   "outputs": [
    {
     "data": {
      "text/plain": [
       "array([[0.  , 0.  , 0.  , 0.  , 0.  , 0.01, 0.  , 0.03, 0.  , 0.97],\n",
       "       [0.  , 0.  , 0.99, 0.  , 0.01, 0.  , 0.  , 0.  , 0.  , 0.  ],\n",
       "       [0.  , 1.  , 0.  , 0.  , 0.  , 0.  , 0.  , 0.  , 0.  , 0.  ]],\n",
       "      dtype=float32)"
      ]
     },
     "execution_count": 25,
     "metadata": {
      "tags": []
     },
     "output_type": "execute_result"
    }
   ],
   "source": [
    "X_new = X_test[:3]\n",
    "y_proba = model.predict(X_new)\n",
    "y_proba.round(2)"
   ]
  },
  {
   "cell_type": "code",
   "execution_count": 34,
   "metadata": {
    "colab": {
     "base_uri": "https://localhost:8080/"
    },
    "executionInfo": {
     "elapsed": 1002,
     "status": "ok",
     "timestamp": 1607042364313,
     "user": {
      "displayName": "김용길",
      "photoUrl": "",
      "userId": "00028506768877938944"
     },
     "user_tz": -540
    },
    "id": "9CRzcm8tLPWc",
    "outputId": "32782cab-da68-4231-f272-07f33134b194"
   },
   "outputs": [
    {
     "data": {
      "text/plain": [
       "array([9, 2, 1])"
      ]
     },
     "execution_count": 34,
     "metadata": {
      "tags": []
     },
     "output_type": "execute_result"
    }
   ],
   "source": [
    "y_pred = model.predict_classes(X_new)\n",
    "y_pred"
   ]
  },
  {
   "cell_type": "code",
   "execution_count": 32,
   "metadata": {
    "colab": {
     "base_uri": "https://localhost:8080/"
    },
    "executionInfo": {
     "elapsed": 1029,
     "status": "ok",
     "timestamp": 1607042358194,
     "user": {
      "displayName": "김용길",
      "photoUrl": "",
      "userId": "00028506768877938944"
     },
     "user_tz": -540
    },
    "id": "20BWOvI9Lurh",
    "outputId": "48542af9-8074-4c1d-fb9b-0c29aff207a3"
   },
   "outputs": [
    {
     "data": {
      "text/plain": [
       "array(['Ankle boot', 'Pullover', 'Trouser'], dtype='<U11')"
      ]
     },
     "execution_count": 32,
     "metadata": {
      "tags": []
     },
     "output_type": "execute_result"
    }
   ],
   "source": [
    "np.array(class_names)[y_pred]"
   ]
  },
  {
   "cell_type": "code",
   "execution_count": 35,
   "metadata": {
    "colab": {
     "base_uri": "https://localhost:8080/"
    },
    "executionInfo": {
     "elapsed": 1268,
     "status": "ok",
     "timestamp": 1607042431805,
     "user": {
      "displayName": "김용길",
      "photoUrl": "",
      "userId": "00028506768877938944"
     },
     "user_tz": -540
    },
    "id": "kwS6NVdUL3lQ",
    "outputId": "53922948-16e5-4393-c972-e63a3f06fa60"
   },
   "outputs": [
    {
     "data": {
      "text/plain": [
       "<enumerate at 0x7fc7f3f075a0>"
      ]
     },
     "execution_count": 35,
     "metadata": {
      "tags": []
     },
     "output_type": "execute_result"
    }
   ],
   "source": [
    "enumerate(X_new)"
   ]
  },
  {
   "cell_type": "code",
   "execution_count": 40,
   "metadata": {
    "colab": {
     "base_uri": "https://localhost:8080/",
     "height": 166
    },
    "executionInfo": {
     "elapsed": 1541,
     "status": "ok",
     "timestamp": 1607042976472,
     "user": {
      "displayName": "김용길",
      "photoUrl": "",
      "userId": "00028506768877938944"
     },
     "user_tz": -540
    },
    "id": "feuRl21KMXYA",
    "outputId": "e67facd1-3f08-4203-ef06-c6e667c2306c"
   },
   "outputs": [
    {
     "name": "stdout",
     "output_type": "stream",
     "text": [
      "그림 저장: fashion_mnist_images_plot\n"
     ]
    },
    {
     "data": {
      "image/png": "[encoded data removed]",
      "text/plain": [
       "<Figure size 518.4x172.8 with 3 Axes>"
      ]
     },
     "metadata": {
      "needs_background": "light",
      "tags": []
     },
     "output_type": "display_data"
    }
   ],
   "source": [
    "plt.figure(figsize=(7.2,2.4))\n",
    "for index, image in enumerate(X_new):\n",
    "  plt.subplot(1,3,index+1)\n",
    "  plt.imshow(image, cmap=\"binary\", interpolation=\"nearest\")\n",
    "  plt.axis(\"off\")\n",
    "plt.subplots_adjust(wspace=0.2, hspace=0.5)\n",
    "save_fig(\"fashion_mnist_images_plot\", tight_layout = False)\n",
    "plt.show()"
   ]
  },
  {
   "cell_type": "markdown",
   "metadata": {
    "id": "IAjy_zvfOm2h"
   },
   "source": [
    "## 회귀 MLP"
   ]
  },
  {
   "cell_type": "code",
   "execution_count": 68,
   "metadata": {
    "executionInfo": {
     "elapsed": 1442,
     "status": "ok",
     "timestamp": 1607044601078,
     "user": {
      "displayName": "김용길",
      "photoUrl": "",
      "userId": "00028506768877938944"
     },
     "user_tz": -540
    },
    "id": "J89MoXTjN9AN"
   },
   "outputs": [],
   "source": [
    "from sklearn.datasets import fetch_california_housing\n",
    "from sklearn.model_selection import train_test_split\n",
    "from sklearn.preprocessing import StandardScaler\n",
    "\n",
    "housing = fetch_california_housing()\n",
    "\n",
    "X_train_full, X_test, y_train_full, y_test = train_test_split(\n",
    "    housing.data, housing.target, random_state=42\n",
    ")\n",
    "X_train, X_valid, y_train, y_vaild = train_test_split(X_train_full, y_train_full, random_state=42)\n",
    "\n",
    "scaler = StandardScaler()\n",
    "X_train = scaler.fit_transform(X_train)\n",
    "X_valid = scaler.fit_transform(X_valid)\n",
    "X_test = scaler.fit_transform(X_test)"
   ]
  },
  {
   "cell_type": "code",
   "execution_count": 69,
   "metadata": {
    "colab": {
     "base_uri": "https://localhost:8080/"
    },
    "executionInfo": {
     "elapsed": 1006,
     "status": "ok",
     "timestamp": 1607044603549,
     "user": {
      "displayName": "김용길",
      "photoUrl": "",
      "userId": "00028506768877938944"
     },
     "user_tz": -540
    },
    "id": "ecgX8zqvUXLU",
    "outputId": "2371d797-81b6-4075-d7b1-80565c218553"
   },
   "outputs": [
    {
     "data": {
      "text/plain": [
       "(5000,)"
      ]
     },
     "execution_count": 69,
     "metadata": {
      "tags": []
     },
     "output_type": "execute_result"
    }
   ],
   "source": [
    "y_valid.shape"
   ]
  },
  {
   "cell_type": "markdown",
   "metadata": {
    "id": "ya49g9IfN_yR"
   },
   "source": [
    "- 하나의 값을 예측하기 때문에 출력층이 활성화 함수가 없는 하나의 뉴런\n",
    "- 손실 함수로 평균 제곱 오차 사용"
   ]
  },
  {
   "cell_type": "code",
   "execution_count": 51,
   "metadata": {
    "executionInfo": {
     "elapsed": 1526,
     "status": "ok",
     "timestamp": 1607044100786,
     "user": {
      "displayName": "김용길",
      "photoUrl": "",
      "userId": "00028506768877938944"
     },
     "user_tz": -540
    },
    "id": "jijtqdEhQ7BK"
   },
   "outputs": [],
   "source": [
    "np.random.seed(42)\n",
    "tf.random.set_seed(42)"
   ]
  },
  {
   "cell_type": "code",
   "execution_count": 53,
   "metadata": {
    "colab": {
     "base_uri": "https://localhost:8080/",
     "height": 612
    },
    "executionInfo": {
     "elapsed": 2186,
     "status": "error",
     "timestamp": 1607044173597,
     "user": {
      "displayName": "김용길",
      "photoUrl": "",
      "userId": "00028506768877938944"
     },
     "user_tz": -540
    },
    "id": "0fhu7_7aQTAl",
    "outputId": "4c8df872-5a51-4ffe-8816-07eee24d1274"
   },
   "outputs": [
    {
     "name": "stdout",
     "output_type": "stream",
     "text": [
      "Epoch 1/20\n",
      "309/363 [========================>.....] - ETA: 0s - loss: 2.0799"
     ]
    },
    {
     "ename": "ValueError",
     "evalue": "ignored",
     "output_type": "error",
     "traceback": [
      "\u001b[0;31m---------------------------------------------------------------------------\u001b[0m",
      "\u001b[0;31mValueError\u001b[0m                                Traceback (most recent call last)",
      "\u001b[0;32m<ipython-input-53-28f1bc4987f2>\u001b[0m in \u001b[0;36m<module>\u001b[0;34m()\u001b[0m\n\u001b[1;32m      9\u001b[0m \u001b[0mmodel\u001b[0m\u001b[0;34m.\u001b[0m\u001b[0mcompile\u001b[0m\u001b[0;34m(\u001b[0m\u001b[0mloss\u001b[0m\u001b[0;34m=\u001b[0m\u001b[0;34m\"mean_squared_error\"\u001b[0m\u001b[0;34m,\u001b[0m \u001b[0moptimizer\u001b[0m\u001b[0;34m=\u001b[0m\u001b[0mkeras\u001b[0m\u001b[0;34m.\u001b[0m\u001b[0moptimizers\u001b[0m\u001b[0;34m.\u001b[0m\u001b[0mSGD\u001b[0m\u001b[0;34m(\u001b[0m\u001b[0mlr\u001b[0m\u001b[0;34m=\u001b[0m\u001b[0;36m1e-3\u001b[0m\u001b[0;34m)\u001b[0m\u001b[0;34m)\u001b[0m\u001b[0;34m\u001b[0m\u001b[0;34m\u001b[0m\u001b[0m\n\u001b[1;32m     10\u001b[0m \u001b[0;34m\u001b[0m\u001b[0m\n\u001b[0;32m---> 11\u001b[0;31m \u001b[0mhistory\u001b[0m \u001b[0;34m=\u001b[0m \u001b[0mmodel\u001b[0m\u001b[0;34m.\u001b[0m\u001b[0mfit\u001b[0m\u001b[0;34m(\u001b[0m\u001b[0mX_train\u001b[0m\u001b[0;34m,\u001b[0m \u001b[0my_train\u001b[0m\u001b[0;34m,\u001b[0m \u001b[0mepochs\u001b[0m\u001b[0;34m=\u001b[0m\u001b[0;36m20\u001b[0m\u001b[0;34m,\u001b[0m \u001b[0mvalidation_data\u001b[0m\u001b[0;34m=\u001b[0m\u001b[0;34m(\u001b[0m\u001b[0mX_valid\u001b[0m\u001b[0;34m,\u001b[0m \u001b[0my_valid\u001b[0m\u001b[0;34m)\u001b[0m\u001b[0;34m)\u001b[0m\u001b[0;34m\u001b[0m\u001b[0;34m\u001b[0m\u001b[0m\n\u001b[0m\u001b[1;32m     12\u001b[0m \u001b[0;34m\u001b[0m\u001b[0m\n\u001b[1;32m     13\u001b[0m \u001b[0mmse_test\u001b[0m \u001b[0;34m=\u001b[0m \u001b[0mmodel\u001b[0m\u001b[0;34m.\u001b[0m\u001b[0mevaluate\u001b[0m\u001b[0;34m(\u001b[0m\u001b[0mX_test\u001b[0m\u001b[0;34m,\u001b[0m \u001b[0my_test\u001b[0m\u001b[0;34m)\u001b[0m\u001b[0;34m\u001b[0m\u001b[0;34m\u001b[0m\u001b[0m\n",
      "\u001b[0;32m/usr/local/lib/python3.6/dist-packages/tensorflow/python/keras/engine/training.py\u001b[0m in \u001b[0;36m_method_wrapper\u001b[0;34m(self, *args, **kwargs)\u001b[0m\n\u001b[1;32m    106\u001b[0m   \u001b[0;32mdef\u001b[0m \u001b[0m_method_wrapper\u001b[0m\u001b[0;34m(\u001b[0m\u001b[0mself\u001b[0m\u001b[0;34m,\u001b[0m \u001b[0;34m*\u001b[0m\u001b[0margs\u001b[0m\u001b[0;34m,\u001b[0m \u001b[0;34m**\u001b[0m\u001b[0mkwargs\u001b[0m\u001b[0;34m)\u001b[0m\u001b[0;34m:\u001b[0m\u001b[0;34m\u001b[0m\u001b[0;34m\u001b[0m\u001b[0m\n\u001b[1;32m    107\u001b[0m     \u001b[0;32mif\u001b[0m \u001b[0;32mnot\u001b[0m \u001b[0mself\u001b[0m\u001b[0;34m.\u001b[0m\u001b[0m_in_multi_worker_mode\u001b[0m\u001b[0;34m(\u001b[0m\u001b[0;34m)\u001b[0m\u001b[0;34m:\u001b[0m  \u001b[0;31m# pylint: disable=protected-access\u001b[0m\u001b[0;34m\u001b[0m\u001b[0;34m\u001b[0m\u001b[0m\n\u001b[0;32m--> 108\u001b[0;31m       \u001b[0;32mreturn\u001b[0m \u001b[0mmethod\u001b[0m\u001b[0;34m(\u001b[0m\u001b[0mself\u001b[0m\u001b[0;34m,\u001b[0m \u001b[0;34m*\u001b[0m\u001b[0margs\u001b[0m\u001b[0;34m,\u001b[0m \u001b[0;34m**\u001b[0m\u001b[0mkwargs\u001b[0m\u001b[0;34m)\u001b[0m\u001b[0;34m\u001b[0m\u001b[0;34m\u001b[0m\u001b[0m\n\u001b[0m\u001b[1;32m    109\u001b[0m \u001b[0;34m\u001b[0m\u001b[0m\n\u001b[1;32m    110\u001b[0m     \u001b[0;31m# Running inside `run_distribute_coordinator` already.\u001b[0m\u001b[0;34m\u001b[0m\u001b[0;34m\u001b[0m\u001b[0;34m\u001b[0m\u001b[0m\n",
      "\u001b[0;32m/usr/local/lib/python3.6/dist-packages/tensorflow/python/keras/engine/training.py\u001b[0m in \u001b[0;36mfit\u001b[0;34m(self, x, y, batch_size, epochs, verbose, callbacks, validation_split, validation_data, shuffle, class_weight, sample_weight, initial_epoch, steps_per_epoch, validation_steps, validation_batch_size, validation_freq, max_queue_size, workers, use_multiprocessing)\u001b[0m\n\u001b[1;32m   1120\u001b[0m                 \u001b[0muse_multiprocessing\u001b[0m\u001b[0;34m=\u001b[0m\u001b[0muse_multiprocessing\u001b[0m\u001b[0;34m,\u001b[0m\u001b[0;34m\u001b[0m\u001b[0;34m\u001b[0m\u001b[0m\n\u001b[1;32m   1121\u001b[0m                 \u001b[0mmodel\u001b[0m\u001b[0;34m=\u001b[0m\u001b[0mself\u001b[0m\u001b[0;34m,\u001b[0m\u001b[0;34m\u001b[0m\u001b[0;34m\u001b[0m\u001b[0m\n\u001b[0;32m-> 1122\u001b[0;31m                 steps_per_execution=self._steps_per_execution)\n\u001b[0m\u001b[1;32m   1123\u001b[0m           val_logs = self.evaluate(\n\u001b[1;32m   1124\u001b[0m               \u001b[0mx\u001b[0m\u001b[0;34m=\u001b[0m\u001b[0mval_x\u001b[0m\u001b[0;34m,\u001b[0m\u001b[0;34m\u001b[0m\u001b[0;34m\u001b[0m\u001b[0m\n",
      "\u001b[0;32m/usr/local/lib/python3.6/dist-packages/tensorflow/python/keras/engine/data_adapter.py\u001b[0m in \u001b[0;36m__init__\u001b[0;34m(self, x, y, sample_weight, batch_size, steps_per_epoch, initial_epoch, epochs, shuffle, class_weight, max_queue_size, workers, use_multiprocessing, model, steps_per_execution)\u001b[0m\n\u001b[1;32m   1115\u001b[0m         \u001b[0muse_multiprocessing\u001b[0m\u001b[0;34m=\u001b[0m\u001b[0muse_multiprocessing\u001b[0m\u001b[0;34m,\u001b[0m\u001b[0;34m\u001b[0m\u001b[0;34m\u001b[0m\u001b[0m\n\u001b[1;32m   1116\u001b[0m         \u001b[0mdistribution_strategy\u001b[0m\u001b[0;34m=\u001b[0m\u001b[0mds_context\u001b[0m\u001b[0;34m.\u001b[0m\u001b[0mget_strategy\u001b[0m\u001b[0;34m(\u001b[0m\u001b[0;34m)\u001b[0m\u001b[0;34m,\u001b[0m\u001b[0;34m\u001b[0m\u001b[0;34m\u001b[0m\u001b[0m\n\u001b[0;32m-> 1117\u001b[0;31m         model=model)\n\u001b[0m\u001b[1;32m   1118\u001b[0m \u001b[0;34m\u001b[0m\u001b[0m\n\u001b[1;32m   1119\u001b[0m     \u001b[0mstrategy\u001b[0m \u001b[0;34m=\u001b[0m \u001b[0mds_context\u001b[0m\u001b[0;34m.\u001b[0m\u001b[0mget_strategy\u001b[0m\u001b[0;34m(\u001b[0m\u001b[0;34m)\u001b[0m\u001b[0;34m\u001b[0m\u001b[0;34m\u001b[0m\u001b[0m\n",
      "\u001b[0;32m/usr/local/lib/python3.6/dist-packages/tensorflow/python/keras/engine/data_adapter.py\u001b[0m in \u001b[0;36m__init__\u001b[0;34m(self, x, y, sample_weights, sample_weight_modes, batch_size, epochs, steps, shuffle, **kwargs)\u001b[0m\n\u001b[1;32m    280\u001b[0m             label, \", \".join(str(i.shape[0]) for i in nest.flatten(data)))\n\u001b[1;32m    281\u001b[0m       \u001b[0mmsg\u001b[0m \u001b[0;34m+=\u001b[0m \u001b[0;34m\"Please provide data which shares the same first dimension.\"\u001b[0m\u001b[0;34m\u001b[0m\u001b[0;34m\u001b[0m\u001b[0m\n\u001b[0;32m--> 282\u001b[0;31m       \u001b[0;32mraise\u001b[0m \u001b[0mValueError\u001b[0m\u001b[0;34m(\u001b[0m\u001b[0mmsg\u001b[0m\u001b[0;34m)\u001b[0m\u001b[0;34m\u001b[0m\u001b[0;34m\u001b[0m\u001b[0m\n\u001b[0m\u001b[1;32m    283\u001b[0m     \u001b[0mnum_samples\u001b[0m \u001b[0;34m=\u001b[0m \u001b[0mnum_samples\u001b[0m\u001b[0;34m.\u001b[0m\u001b[0mpop\u001b[0m\u001b[0;34m(\u001b[0m\u001b[0;34m)\u001b[0m\u001b[0;34m\u001b[0m\u001b[0;34m\u001b[0m\u001b[0m\n\u001b[1;32m    284\u001b[0m \u001b[0;34m\u001b[0m\u001b[0m\n",
      "\u001b[0;31mValueError\u001b[0m: Data cardinality is ambiguous:\n  x sizes: 3870\n  y sizes: 5000\nPlease provide data which shares the same first dimension."
     ]
    }
   ],
   "source": [
    "model = keras.models.Sequential([\n",
    "\n",
    "keras.layers.Dense(30, activation=\"relu\", input_shape=X_train.shape[1:]),\n",
    "\n",
    "keras.layers.Dense(1)\n",
    "\n",
    "])\n",
    "\n",
    "model.compile(loss=\"mean_squared_error\", optimizer=keras.optimizers.SGD(lr=1e-3))\n",
    "\n",
    "history = model.fit(X_train, y_train, epochs=20, validation_data=(X_valid, y_valid))\n",
    "\n",
    "mse_test = model.evaluate(X_test, y_test)\n",
    "\n",
    "X_new = X_test[:3]\n",
    "\n",
    "y_pred = model.predict(X_new)\n",
    "\n"
   ]
  },
  {
   "cell_type": "markdown",
   "metadata": {
    "id": "ccLBvqf-jBMT"
   },
   "source": [
    "## 모델 저장"
   ]
  },
  {
   "cell_type": "code",
   "execution_count": 85,
   "metadata": {
    "executionInfo": {
     "elapsed": 1025,
     "status": "ok",
     "timestamp": 1607048516990,
     "user": {
      "displayName": "김용길",
      "photoUrl": "",
      "userId": "00028506768877938944"
     },
     "user_tz": -540
    },
    "id": "ybcV-Wm4TRWd"
   },
   "outputs": [],
   "source": [
    "model.save(\"my_keras_model.h5\")"
   ]
  },
  {
   "cell_type": "code",
   "execution_count": 86,
   "metadata": {
    "executionInfo": {
     "elapsed": 894,
     "status": "ok",
     "timestamp": 1607048518632,
     "user": {
      "displayName": "김용길",
      "photoUrl": "",
      "userId": "00028506768877938944"
     },
     "user_tz": -540
    },
    "id": "JP3iaq0digZu"
   },
   "outputs": [],
   "source": [
    "model = keras.models.load_model(\"my_keras_model.h5\")"
   ]
  },
  {
   "cell_type": "markdown",
   "metadata": {
    "id": "gAm6p-wzilxV"
   },
   "source": [
    "## 콜백"
   ]
  },
  {
   "cell_type": "code",
   "execution_count": 88,
   "metadata": {
    "colab": {
     "base_uri": "https://localhost:8080/"
    },
    "executionInfo": {
     "elapsed": 51757,
     "status": "ok",
     "timestamp": 1607048639757,
     "user": {
      "displayName": "김용길",
      "photoUrl": "",
      "userId": "00028506768877938944"
     },
     "user_tz": -540
    },
    "id": "MlGGUBhXitSN",
    "outputId": "40c620d9-950d-4acc-a335-44cf5ac8786c"
   },
   "outputs": [
    {
     "name": "stdout",
     "output_type": "stream",
     "text": [
      "Epoch 1/10\n",
      "1719/1719 [==============================] - 5s 3ms/step - loss: 0.2216 - accuracy: 0.1034\n",
      "Epoch 2/10\n",
      "1719/1719 [==============================] - 4s 3ms/step - loss: 0.2185 - accuracy: 0.1030\n",
      "Epoch 3/10\n",
      "1719/1719 [==============================] - 5s 3ms/step - loss: 0.2143 - accuracy: 0.1026\n",
      "Epoch 4/10\n",
      "1719/1719 [==============================] - 5s 3ms/step - loss: 0.2112 - accuracy: 0.1031\n",
      "Epoch 5/10\n",
      "1719/1719 [==============================] - 5s 3ms/step - loss: 0.2093 - accuracy: 0.1029\n",
      "Epoch 6/10\n",
      "1719/1719 [==============================] - 5s 3ms/step - loss: 0.2036 - accuracy: 0.1025\n",
      "Epoch 7/10\n",
      "1719/1719 [==============================] - 6s 3ms/step - loss: 0.2013 - accuracy: 0.1028\n",
      "Epoch 8/10\n",
      "1719/1719 [==============================] - 5s 3ms/step - loss: 0.1987 - accuracy: 0.1028\n",
      "Epoch 9/10\n",
      "1719/1719 [==============================] - 5s 3ms/step - loss: 0.1946 - accuracy: 0.1028\n",
      "Epoch 10/10\n",
      "1719/1719 [==============================] - 6s 3ms/step - loss: 0.1921 - accuracy: 0.1026\n"
     ]
    }
   ],
   "source": [
    "checkpoint_cb = keras.callbacks.ModelCheckpoint(\"my_keras_model.h5\")\n",
    "history = model.fit(X_train, y_train, epochs=10, callbacks=[checkpoint_cb])"
   ]
  },
  {
   "cell_type": "code",
   "execution_count": 91,
   "metadata": {
    "colab": {
     "base_uri": "https://localhost:8080/"
    },
    "executionInfo": {
     "elapsed": 50262,
     "status": "ok",
     "timestamp": 1607055101039,
     "user": {
      "displayName": "김용길",
      "photoUrl": "",
      "userId": "00028506768877938944"
     },
     "user_tz": -540
    },
    "id": "KyS-QKBDj0vd",
    "outputId": "82b8357b-2ab3-4a99-86c0-68edf2ea193a"
   },
   "outputs": [
    {
     "name": "stdout",
     "output_type": "stream",
     "text": [
      "Epoch 1/10\n",
      "1719/1719 [==============================] - 5s 3ms/step - loss: 0.1724 - accuracy: 0.1023 - val_loss: 0.2988 - val_accuracy: 0.0910\n",
      "Epoch 2/10\n",
      "1719/1719 [==============================] - 5s 3ms/step - loss: 0.1707 - accuracy: 0.1021 - val_loss: 0.2973 - val_accuracy: 0.0912\n",
      "Epoch 3/10\n",
      "1719/1719 [==============================] - 5s 3ms/step - loss: 0.1672 - accuracy: 0.1020 - val_loss: 0.3563 - val_accuracy: 0.0846\n",
      "Epoch 4/10\n",
      "1719/1719 [==============================] - 5s 3ms/step - loss: 0.1653 - accuracy: 0.1027 - val_loss: 0.3168 - val_accuracy: 0.1080\n",
      "Epoch 5/10\n",
      "1719/1719 [==============================] - 5s 3ms/step - loss: 0.1638 - accuracy: 0.1024 - val_loss: 0.2926 - val_accuracy: 0.0846\n",
      "Epoch 6/10\n",
      "1719/1719 [==============================] - 5s 3ms/step - loss: 0.1602 - accuracy: 0.1019 - val_loss: 0.3219 - val_accuracy: 0.1246\n",
      "Epoch 7/10\n",
      "1719/1719 [==============================] - 5s 3ms/step - loss: 0.1578 - accuracy: 0.1023 - val_loss: 0.3048 - val_accuracy: 0.1068\n",
      "Epoch 8/10\n",
      "1719/1719 [==============================] - 5s 3ms/step - loss: 0.1561 - accuracy: 0.1027 - val_loss: 0.3178 - val_accuracy: 0.0994\n",
      "Epoch 9/10\n",
      "1719/1719 [==============================] - 5s 3ms/step - loss: 0.1522 - accuracy: 0.1026 - val_loss: 0.3037 - val_accuracy: 0.0836\n",
      "Epoch 10/10\n",
      "1719/1719 [==============================] - 5s 3ms/step - loss: 0.1514 - accuracy: 0.1021 - val_loss: 0.2998 - val_accuracy: 0.0914\n"
     ]
    }
   ],
   "source": [
    "checkpoint_cb = keras.callbacks.ModelCheckpoint(\"my_keras_model.h5\",\n",
    "                                                save_best_only=True)\n",
    "# save_best_only : 검증셋에서 최상의 점수를 낸 모델 저장\n",
    "history = model.fit(X_train, y_train, epochs=10,\n",
    "                    validation_data=(X_valid, y_valid),\n",
    "                    callbacks=[checkpoint_cb])\n",
    "model = keras.models.load_model(\"my_keras_model.h5\")"
   ]
  },
  {
   "cell_type": "markdown",
   "metadata": {
    "id": "1jcVjOgHlBXV"
   },
   "source": [
    "### 조기종료"
   ]
  },
  {
   "cell_type": "code",
   "execution_count": 93,
   "metadata": {
    "colab": {
     "base_uri": "https://localhost:8080/"
    },
    "executionInfo": {
     "elapsed": 76634,
     "status": "ok",
     "timestamp": 1607055646906,
     "user": {
      "displayName": "김용길",
      "photoUrl": "",
      "userId": "00028506768877938944"
     },
     "user_tz": -540
    },
    "id": "PkGpfYwZlJs9",
    "outputId": "dcbeb04d-72aa-4c89-b258-f883bb8fb677"
   },
   "outputs": [
    {
     "name": "stdout",
     "output_type": "stream",
     "text": [
      "Epoch 1/100\n",
      "1719/1719 [==============================] - 5s 3ms/step - loss: 0.1585 - accuracy: 0.1021 - val_loss: 0.2993 - val_accuracy: 0.0878\n",
      "Epoch 2/100\n",
      "1719/1719 [==============================] - 5s 3ms/step - loss: 0.1573 - accuracy: 0.1020 - val_loss: 0.3000 - val_accuracy: 0.0924\n",
      "Epoch 3/100\n",
      "1719/1719 [==============================] - 5s 3ms/step - loss: 0.1539 - accuracy: 0.1019 - val_loss: 0.3615 - val_accuracy: 0.0852\n",
      "Epoch 4/100\n",
      "1719/1719 [==============================] - 5s 3ms/step - loss: 0.1522 - accuracy: 0.1024 - val_loss: 0.3248 - val_accuracy: 0.1078\n",
      "Epoch 5/100\n",
      "1719/1719 [==============================] - 5s 3ms/step - loss: 0.1505 - accuracy: 0.1020 - val_loss: 0.2970 - val_accuracy: 0.0852\n",
      "Epoch 6/100\n",
      "1719/1719 [==============================] - 5s 3ms/step - loss: 0.1477 - accuracy: 0.1018 - val_loss: 0.3346 - val_accuracy: 0.1300\n",
      "Epoch 7/100\n",
      "1719/1719 [==============================] - 5s 3ms/step - loss: 0.1458 - accuracy: 0.1021 - val_loss: 0.3103 - val_accuracy: 0.1056\n",
      "Epoch 8/100\n",
      "1719/1719 [==============================] - 5s 3ms/step - loss: 0.1441 - accuracy: 0.1022 - val_loss: 0.3216 - val_accuracy: 0.0976\n",
      "Epoch 9/100\n",
      "1719/1719 [==============================] - 5s 3ms/step - loss: 0.1407 - accuracy: 0.1021 - val_loss: 0.3066 - val_accuracy: 0.0806\n",
      "Epoch 10/100\n",
      "1719/1719 [==============================] - 6s 3ms/step - loss: 0.1398 - accuracy: 0.1017 - val_loss: 0.3019 - val_accuracy: 0.0920\n",
      "Epoch 11/100\n",
      "1719/1719 [==============================] - 6s 3ms/step - loss: 0.1374 - accuracy: 0.1020 - val_loss: 0.3034 - val_accuracy: 0.0968\n",
      "Epoch 12/100\n",
      "1719/1719 [==============================] - 5s 3ms/step - loss: 0.1331 - accuracy: 0.1017 - val_loss: 0.3126 - val_accuracy: 0.1090\n",
      "Epoch 13/100\n",
      "1719/1719 [==============================] - 5s 3ms/step - loss: 0.1325 - accuracy: 0.1023 - val_loss: 0.3126 - val_accuracy: 0.0996\n",
      "Epoch 14/100\n",
      "1719/1719 [==============================] - 5s 3ms/step - loss: 0.1303 - accuracy: 0.1017 - val_loss: 0.3486 - val_accuracy: 0.1036\n",
      "Epoch 15/100\n",
      "1719/1719 [==============================] - 5s 3ms/step - loss: 0.1285 - accuracy: 0.1017 - val_loss: 0.3088 - val_accuracy: 0.0966\n"
     ]
    }
   ],
   "source": [
    "early_stopping_cb = keras.callbacks.EarlyStopping(patience = 10,\n",
    "                                                  restore_best_weights = True)\n",
    "history = model.fit(X_train, y_train, epochs=100,\n",
    "                    validation_data=(X_valid, y_valid),\n",
    "                    callbacks=[checkpoint_cb, early_stopping_cb])"
   ]
  },
  {
   "cell_type": "markdown",
   "metadata": {
    "id": "-msahmVN8eLs"
   },
   "source": [
    "## 텐서보드 : 인터렉티브 시각화 도구"
   ]
  },
  {
   "cell_type": "code",
   "execution_count": null,
   "metadata": {
    "id": "BNAxWc4p_6M4"
   },
   "outputs": [],
   "source": []
  }
 ],
 "metadata": {
  "colab": {
   "authorship_tag": "ABX9TyPUD8IXMZ/0JeoD4VnsiFeM",
   "collapsed_sections": [],
   "name": "김용길_10_neural_nets_with_keras.ipynb",
   "provenance": []
  },
  "kernelspec": {
   "display_name": "Python 3",
   "language": "python",
   "name": "python3"
  },
  "language_info": {
   "codemirror_mode": {
    "name": "ipython",
    "version": 3
   },
   "file_extension": ".py",
   "mimetype": "text/x-python",
   "name": "python",
   "nbconvert_exporter": "python",
   "pygments_lexer": "ipython3",
   "version": "3.8.5"
  }
 },
 "nbformat": 4,
 "nbformat_minor": 1
}
