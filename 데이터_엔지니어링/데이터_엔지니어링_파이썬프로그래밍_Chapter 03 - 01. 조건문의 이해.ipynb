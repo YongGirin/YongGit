{
 "cells": [
  {
   "cell_type": "markdown",
   "metadata": {
    "id": "i0tiGzn5YwCf"
   },
   "source": [
    "### 학습목표\n",
    " * 조건문의 이해 및 활용 (if)"
   ]
  },
  {
   "cell_type": "markdown",
   "metadata": {
    "id": "EsTcQ0QgYwCf"
   },
   "source": [
    "#### condition (조건문)\n",
    " + 특정 조건을 만족하는 경우에만 수행할 작업이 있는 경우 사용\n",
    " + 모든 조건은 boolean으로 표현 됨 (예외 사항은 아래 배울 예정)\n",
    " + if, elif, else 키워드가 사용\n",
    " + 조건문의 경우 if, elif, else 블록에 종속된 코드는 들여쓰기로 표현 가능\n",
    " + 즉 아래코드에서와 같이, 조건문 아래에 들여쓰기된 2줄의 코드만이 조건문의 조건에 따라 수행될 수도, 수행되지 않을 수도 있는 코드라고 할 수 있음\n",
    " + 들여쓰기 된 코드를 블록(block), 또는 코드블록이라고 함\n",
    " + python에서 모든 블록의 시작점의 마지막에는 :(콜론, colon) 추가가 필요\n",
    "\n",
    "```python\n",
    "if 6 >= 5:\n",
    "    print ('6 is greater than 5')\n",
    "    print ('Yeah, it is true')\n",
    "print ('This code is not belongs to if statements')\n",
    "```"
   ]
  },
  {
   "cell_type": "code",
   "execution_count": 2,
   "metadata": {
    "colab": {
     "base_uri": "https://localhost:8080/"
    },
    "executionInfo": {
     "elapsed": 1092,
     "status": "ok",
     "timestamp": 1607062608333,
     "user": {
      "displayName": "김용길",
      "photoUrl": "",
      "userId": "00028506768877938944"
     },
     "user_tz": -540
    },
    "id": "HVG5ymX2YwCg",
    "outputId": "5d2aec60-eb04-42ac-ebea-da0b2c0c8333"
   },
   "outputs": [
    {
     "name": "stdout",
     "output_type": "stream",
     "text": [
      "6 is greater than 5\n",
      "Yeah, it is true\n",
      "it is really true\n",
      "This code is not belongs to if statements\n"
     ]
    }
   ],
   "source": [
    "if 6 >= 5:\n",
    "    print ('6 is greater than 5')\n",
    "    print ('Yeah, it is true')\n",
    "    print('it is really true')\n",
    "print ('This code is not belongs to if statements')\n",
    "# if랑 관계없음 (들여쓰기가 되지 않아있음)"
   ]
  },
  {
   "cell_type": "code",
   "execution_count": 4,
   "metadata": {
    "colab": {
     "base_uri": "https://localhost:8080/"
    },
    "executionInfo": {
     "elapsed": 1253,
     "status": "ok",
     "timestamp": 1607062654371,
     "user": {
      "displayName": "김용길",
      "photoUrl": "",
      "userId": "00028506768877938944"
     },
     "user_tz": -540
    },
    "id": "mUawOrAXZZfi",
    "outputId": "28e4b71b-33ea-4d86-94cf-32abafc9a5db"
   },
   "outputs": [
    {
     "name": "stdout",
     "output_type": "stream",
     "text": [
      "This code is not belongs to if statements\n"
     ]
    }
   ],
   "source": [
    "if 6 == 5:\n",
    "    print ('6 is greater than 5')\n",
    "    print ('Yeah, it is true')\n",
    "    print('it is really true')\n",
    "print ('This code is not belongs to if statements')\n",
    "\n",
    "# False 이기 때문의 if의 코드블럭을 무시\n",
    "# 마지막 코드만 수행"
   ]
  },
  {
   "cell_type": "markdown",
   "metadata": {
    "id": "C7l3SKn0YwCg"
   },
   "source": [
    "* Logical AND, OR, NOT \n",
    "  - 조건문에 사용되는 조건의 경우, boolean이기 때문에, 논리식 AND, OR, NOT 이 사용가능\n",
    "  - AND : and\n",
    "  - OR : or\n",
    "  - NOT : not\n",
    "  \n",
    "* 논리표 \n",
    "  - AND \n",
    "      - T AND T : T\n",
    "      - T AND F : F\n",
    "      - F AND T : F\n",
    "      - F AND F : F\n",
    "  - OR \n",
    "      - T OR T : T\n",
    "      - T OR F : T\n",
    "      - F OR T : T\n",
    "      - F OR F : F\n",
    "      \n",
    "  - NOT \n",
    "      - NOT T : F\n",
    "      - NOT F : T\n",
    "* 우선순위\n",
    "  - NOT > AND > OR"
   ]
  },
  {
   "cell_type": "code",
   "execution_count": 6,
   "metadata": {
    "executionInfo": {
     "elapsed": 1037,
     "status": "ok",
     "timestamp": 1607062771061,
     "user": {
      "displayName": "김용길",
      "photoUrl": "",
      "userId": "00028506768877938944"
     },
     "user_tz": -540
    },
    "id": "j6t1JfFWYwCg"
   },
   "outputs": [],
   "source": [
    "a = 10\n",
    "b = 8\n",
    "c = 9\n",
    "\n",
    "if a==10 and b==9:\n",
    "  print(\"that is true\") # 수행안됨"
   ]
  },
  {
   "cell_type": "code",
   "execution_count": 7,
   "metadata": {
    "colab": {
     "base_uri": "https://localhost:8080/"
    },
    "executionInfo": {
     "elapsed": 1021,
     "status": "ok",
     "timestamp": 1607062805923,
     "user": {
      "displayName": "김용길",
      "photoUrl": "",
      "userId": "00028506768877938944"
     },
     "user_tz": -540
    },
    "id": "nHsef7o7aB2v",
    "outputId": "becd657b-fb22-4280-ba6f-58e0d4b3956d"
   },
   "outputs": [
    {
     "name": "stdout",
     "output_type": "stream",
     "text": [
      "That is True\n"
     ]
    }
   ],
   "source": [
    "a = 10\n",
    "b = 8\n",
    "c = 9\n",
    "\n",
    "if a==10 and b==8:\n",
    "  print(\"That is True\")"
   ]
  },
  {
   "cell_type": "code",
   "execution_count": 9,
   "metadata": {
    "colab": {
     "base_uri": "https://localhost:8080/"
    },
    "executionInfo": {
     "elapsed": 1064,
     "status": "ok",
     "timestamp": 1607062898405,
     "user": {
      "displayName": "김용길",
      "photoUrl": "",
      "userId": "00028506768877938944"
     },
     "user_tz": -540
    },
    "id": "Q4ptSdmlaGHL",
    "outputId": "eab380c2-aa4c-4c17-d71a-301cedde3af1"
   },
   "outputs": [
    {
     "name": "stdout",
     "output_type": "stream",
     "text": [
      "That is True\n"
     ]
    }
   ],
   "source": [
    "a = 10\n",
    "b = 8\n",
    "c = 9\n",
    "\n",
    "if a==10 or b== 9 and c==12: # and 가 먼저 수행되기 때문에 True\n",
    "  print(\"That is True\")\n"
   ]
  },
  {
   "cell_type": "code",
   "execution_count": 10,
   "metadata": {
    "executionInfo": {
     "elapsed": 1101,
     "status": "ok",
     "timestamp": 1607062957883,
     "user": {
      "displayName": "김용길",
      "photoUrl": "",
      "userId": "00028506768877938944"
     },
     "user_tz": -540
    },
    "id": "o-QfM4k3amrD"
   },
   "outputs": [],
   "source": [
    "a = 10\n",
    "b = 8\n",
    "c = 9\n",
    "\n",
    "if not a ==10 :\n",
    "  print(\"That is True\")"
   ]
  },
  {
   "cell_type": "markdown",
   "metadata": {
    "id": "Sv8-bj7uYwCg"
   },
   "source": [
    "#### if의 조건이 bool이 아닌 경우\n",
    " * 일반적으로는 조건문에는 bool이 주로 위치 함\n",
    " * 하지만, 정수, 실수, 문자열 리스트 등 기본 타입도 조건에 사용 가능\n",
    " * False로 간주되는 값 (각 타입의 기본값)\n",
    "     * None\n",
    "     * 0\n",
    "     * 0.0\n",
    "     * ''\n",
    "     * [] -> 빈 리스트\n",
    "     * () -> 빈 튜플\n",
    "     * {} -> 빈 딕셔너리\n",
    "     * set() -> 빈 집합\n",
    " * 그밖에는 모두 True로 간주"
   ]
  },
  {
   "cell_type": "code",
   "execution_count": 12,
   "metadata": {
    "colab": {
     "base_uri": "https://localhost:8080/"
    },
    "executionInfo": {
     "elapsed": 1034,
     "status": "ok",
     "timestamp": 1607063003151,
     "user": {
      "displayName": "김용길",
      "photoUrl": "",
      "userId": "00028506768877938944"
     },
     "user_tz": -540
    },
    "id": "hsZIDqPmawLQ",
    "outputId": "5aae0b54-26d0-4f4e-d208-9115a52473d6"
   },
   "outputs": [
    {
     "name": "stdout",
     "output_type": "stream",
     "text": [
      "3 3333\n"
     ]
    }
   ],
   "source": [
    "if 3: # 3만 썼음에도 불구하고 수행됨\n",
    "  print('3 3333')"
   ]
  },
  {
   "cell_type": "code",
   "execution_count": 13,
   "metadata": {
    "executionInfo": {
     "elapsed": 1053,
     "status": "ok",
     "timestamp": 1607063020763,
     "user": {
      "displayName": "김용길",
      "photoUrl": "",
      "userId": "00028506768877938944"
     },
     "user_tz": -540
    },
    "id": "KDvpgTe0YwCg"
   },
   "outputs": [],
   "source": [
    "if 0: # False로 판단되서 수행 안됨\n",
    "  print('0 0000')"
   ]
  },
  {
   "cell_type": "code",
   "execution_count": 14,
   "metadata": {
    "executionInfo": {
     "elapsed": 1481,
     "status": "ok",
     "timestamp": 1607063077461,
     "user": {
      "displayName": "김용길",
      "photoUrl": "",
      "userId": "00028506768877938944"
     },
     "user_tz": -540
    },
    "id": "o7qUP4E4bFFH"
   },
   "outputs": [],
   "source": [
    "a = []\n",
    "if a:\n",
    "  print('00')"
   ]
  },
  {
   "cell_type": "markdown",
   "metadata": {
    "id": "SaXhsFa-YwCg"
   },
   "source": [
    "#### if, else\n",
    "  - if가 아닌 경우, 나머지 조건을 표현하고 싶다면 바로 아래 else 블락 사용\n",
    "  - 이 경우, if조건이 True인 경우, if 블락의 코드가 수행, 거짓인 경우 else 블락의 코드가 수행\n",
    "  - 주의 할 점 : if와 else사이에 다른 코드 삽입 불가"
   ]
  },
  {
   "cell_type": "code",
   "execution_count": 15,
   "metadata": {
    "colab": {
     "base_uri": "https://localhost:8080/"
    },
    "executionInfo": {
     "elapsed": 1062,
     "status": "ok",
     "timestamp": 1607063153693,
     "user": {
      "displayName": "김용길",
      "photoUrl": "",
      "userId": "00028506768877938944"
     },
     "user_tz": -540
    },
    "id": "ZQ2-oHeSYwCg",
    "outputId": "929c483c-7595-4504-9e3e-90e636e9fd1b"
   },
   "outputs": [
    {
     "name": "stdout",
     "output_type": "stream",
     "text": [
      "5.0\n",
      "11\n"
     ]
    }
   ],
   "source": [
    "# 짝수인 경우에는 어떤 처리를하고\n",
    "# 홀수인 경우에는 다른 처리를 해라\n",
    "\n",
    "a = 10\n",
    "\n",
    "if a % 2 == 0:\n",
    "  print(a / 2)\n",
    "print(a + 1) # a에 관계없이 항상 수행됨"
   ]
  },
  {
   "cell_type": "code",
   "execution_count": 17,
   "metadata": {
    "colab": {
     "base_uri": "https://localhost:8080/"
    },
    "executionInfo": {
     "elapsed": 1240,
     "status": "ok",
     "timestamp": 1607063251604,
     "user": {
      "displayName": "김용길",
      "photoUrl": "",
      "userId": "00028506768877938944"
     },
     "user_tz": -540
    },
    "id": "YuvdX-f2bfMb",
    "outputId": "7cdc732c-03aa-4e36-ad1d-3f6dbdb5fcb0"
   },
   "outputs": [
    {
     "name": "stdout",
     "output_type": "stream",
     "text": [
      "5.0\n"
     ]
    }
   ],
   "source": [
    "# 짝수인 경우에는 어떤 처리를하고\n",
    "# 홀수인 경우에는 다른 처리를 해라\n",
    "\n",
    "a = 10\n",
    "\n",
    "if a % 2 == 0:\n",
    "  print(a / 2)\n",
    "# if 와 else 사이에는 어떠한 코드도 올수가 없음\n",
    "else:\n",
    "  print(a + 1) # else의 코드블럭이 됨"
   ]
  },
  {
   "cell_type": "markdown",
   "metadata": {
    "id": "h0Pw4dczYwCh"
   },
   "source": [
    "#### if, elif, else\n",
    "  - 조건이 여러개인 경우, 다음 조건을 elif 블록에 명시 가능\n",
    "  - 이 경우, 각 조건을 확인 후, True인 조건의 코드 블락을 실행 한 후, 전체 if, elif, else 구문을 종료\n",
    "  - 조건문을 사용할 때는, if 이후, 0개 이상의 elif를 사용 가능하며 0개 또는 1개의 else를 사용 가능함\n",
    "\n",
    "```python\n",
    "a = 17\n",
    "if a % 4 == 0:\n",
    "    print 'a is divisible by 4'\n",
    "elif a % 4 == 1:\n",
    "    print 'a % 4 is 1'\n",
    "elif a % 4 == 2:\n",
    "    print 'a % 4 is 2'\n",
    "else:\n",
    "    print 'a % 4 is 3'\n",
    "```"
   ]
  },
  {
   "cell_type": "code",
   "execution_count": 22,
   "metadata": {
    "colab": {
     "base_uri": "https://localhost:8080/"
    },
    "executionInfo": {
     "elapsed": 1342,
     "status": "ok",
     "timestamp": 1607063345116,
     "user": {
      "displayName": "김용길",
      "photoUrl": "",
      "userId": "00028506768877938944"
     },
     "user_tz": -540
    },
    "id": "6C4ryO0uYwCh",
    "outputId": "d7f13598-28b0-4248-bbfb-d688f28fe398"
   },
   "outputs": [
    {
     "name": "stdout",
     "output_type": "stream",
     "text": [
      "a % 4 is 2\n"
     ]
    }
   ],
   "source": [
    "a = 18\n",
    "if a % 4 == 0:\n",
    "    print ('a is divisible by 4')\n",
    "elif a % 4 == 1:\n",
    "    print ('a % 4 is 1')\n",
    "elif a % 4 == 2:\n",
    "    print ('a % 4 is 2')\n",
    "else: # else에서 조건을 명시할 수 없음\n",
    "    print ('a % 4 is 3')"
   ]
  },
  {
   "cell_type": "code",
   "execution_count": 24,
   "metadata": {
    "colab": {
     "base_uri": "https://localhost:8080/"
    },
    "executionInfo": {
     "elapsed": 1086,
     "status": "ok",
     "timestamp": 1607063458393,
     "user": {
      "displayName": "김용길",
      "photoUrl": "",
      "userId": "00028506768877938944"
     },
     "user_tz": -540
    },
    "id": "4RbMZzVmcWOU",
    "outputId": "d6d57638-88cd-4c6b-ce2d-f70c5d43ad07"
   },
   "outputs": [
    {
     "name": "stdout",
     "output_type": "stream",
     "text": [
      "a is divisible by 4\n",
      "a % 4 is 3\n"
     ]
    }
   ],
   "source": [
    "a = 16\n",
    "if a % 4 == 0:\n",
    "    print ('a is divisible by 4')\n",
    "if a % 4 == 1:\n",
    "    print ('a % 4 is 1')\n",
    "if a % 4 == 2:\n",
    "    print ('a % 4 is 2')\n",
    "else: \n",
    "    print ('a % 4 is 3')"
   ]
  },
  {
   "cell_type": "markdown",
   "metadata": {
    "id": "HilqDZrgcdkN"
   },
   "source": [
    "if .. elif .. else 는 한쌍으로 작용\n",
    "\n",
    "if .. if .. else는 if 마다 비교\n",
    "\n",
    "위 코드에서 두가지 답이 모두 나온 이유"
   ]
  },
  {
   "cell_type": "markdown",
   "metadata": {
    "id": "rah9F6NbYwCh"
   },
   "source": [
    "#### 중첩 조건문(nested condition)\n",
    "  - 조건문의 경우 중첩하여 작성 가능\n",
    "  - 중첩의 의미는 depth(깊이)로 생각할 수 있으며, depth의 제한은 없음"
   ]
  },
  {
   "cell_type": "code",
   "execution_count": 25,
   "metadata": {
    "colab": {
     "base_uri": "https://localhost:8080/"
    },
    "executionInfo": {
     "elapsed": 978,
     "status": "ok",
     "timestamp": 1607063548555,
     "user": {
      "displayName": "김용길",
      "photoUrl": "",
      "userId": "00028506768877938944"
     },
     "user_tz": -540
    },
    "id": "9OP49YZcYwCh",
    "outputId": "f762249e-ccdc-48d3-b404-4f4b2095b98c"
   },
   "outputs": [
    {
     "name": "stdout",
     "output_type": "stream",
     "text": [
      "a is ten and b is not 8\n"
     ]
    }
   ],
   "source": [
    "a = 10\n",
    "b = 9\n",
    "c = 8\n",
    "\n",
    "if a == 10:\n",
    "  if b == 8:\n",
    "    print('a is tn and b is 8')\n",
    "  else:\n",
    "    print('a is ten and b is not 8')"
   ]
  },
  {
   "cell_type": "code",
   "execution_count": null,
   "metadata": {
    "id": "GtLytWXAc654"
   },
   "outputs": [],
   "source": []
  }
 ],
 "metadata": {
  "colab": {
   "collapsed_sections": [],
   "name": "데이터엔지니어링_파이썬프로그래밍_Chapter 03 - 01. 조건문의 이해.ipynb",
   "provenance": []
  },
  "kernelspec": {
   "display_name": "Python 3",
   "language": "python",
   "name": "python3"
  },
  "language_info": {
   "codemirror_mode": {
    "name": "ipython",
    "version": 3
   },
   "file_extension": ".py",
   "mimetype": "text/x-python",
   "name": "python",
   "nbconvert_exporter": "python",
   "pygments_lexer": "ipython3",
   "version": "3.8.5"
  }
 },
 "nbformat": 4,
 "nbformat_minor": 1
}
