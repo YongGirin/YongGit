{
 "cells": [
  {
   "cell_type": "markdown",
   "metadata": {
    "id": "ET4OWV4TXVUX"
   },
   "source": [
    "\n",
    "\n",
    "### 학습목표\n",
    " 2. Lambda 함수 이해 및 사용"
   ]
  },
  {
   "cell_type": "markdown",
   "metadata": {
    "id": "_UEkI-wWXVUg"
   },
   "source": [
    "* **Lambda 함수**\n",
    " + 단일문으로 표현되는 익명함수\n",
    " + 익명함수란 이름이 없는 구현체만 존재하는 간단한 함수를 의미\n",
    " + 코드 상에서 한번만 사용되는 기능이 있을 때, 굳이 함수로 만들지 않고 1회성으로 만들어서 쓸 때 사용."
   ]
  },
  {
   "cell_type": "code",
   "execution_count": 1,
   "metadata": {
    "colab": {
     "base_uri": "https://localhost:8080/"
    },
    "executionInfo": {
     "elapsed": 782,
     "status": "ok",
     "timestamp": 1607582265397,
     "user": {
      "displayName": "김용길",
      "photoUrl": "",
      "userId": "00028506768877938944"
     },
     "user_tz": -540
    },
    "id": "ECAyPfi6XVUi",
    "outputId": "410058d7-d894-44c5-e84f-e49c6b1bb486"
   },
   "outputs": [
    {
     "data": {
      "text/plain": [
       "function"
      ]
     },
     "execution_count": 1,
     "metadata": {
      "tags": []
     },
     "output_type": "execute_result"
    }
   ],
   "source": [
    "square = lambda a:a**2\n",
    "type(square)"
   ]
  },
  {
   "cell_type": "code",
   "execution_count": 2,
   "metadata": {
    "colab": {
     "base_uri": "https://localhost:8080/"
    },
    "executionInfo": {
     "elapsed": 718,
     "status": "ok",
     "timestamp": 1607582271351,
     "user": {
      "displayName": "김용길",
      "photoUrl": "",
      "userId": "00028506768877938944"
     },
     "user_tz": -540
    },
    "id": "kl6Io4dXXp_P",
    "outputId": "0971fa49-32d6-45da-e858-cfea3c6c85c9"
   },
   "outputs": [
    {
     "data": {
      "text/plain": [
       "25"
      ]
     },
     "execution_count": 2,
     "metadata": {
      "tags": []
     },
     "output_type": "execute_result"
    }
   ],
   "source": [
    "square(5)"
   ]
  },
  {
   "cell_type": "code",
   "execution_count": 3,
   "metadata": {
    "colab": {
     "base_uri": "https://localhost:8080/"
    },
    "executionInfo": {
     "elapsed": 714,
     "status": "ok",
     "timestamp": 1607582293216,
     "user": {
      "displayName": "김용길",
      "photoUrl": "",
      "userId": "00028506768877938944"
     },
     "user_tz": -540
    },
    "id": "3LgkItH2XsuD",
    "outputId": "49820c1b-c2b5-4a27-bc12-15b02f214101"
   },
   "outputs": [
    {
     "data": {
      "text/plain": [
       "25"
      ]
     },
     "execution_count": 3,
     "metadata": {
      "tags": []
     },
     "output_type": "execute_result"
    }
   ],
   "source": [
    "def square2(x):\n",
    "  return x**2\n",
    "\n",
    "square2(5)"
   ]
  },
  {
   "cell_type": "code",
   "execution_count": 4,
   "metadata": {
    "colab": {
     "base_uri": "https://localhost:8080/"
    },
    "executionInfo": {
     "elapsed": 716,
     "status": "ok",
     "timestamp": 1607582337034,
     "user": {
      "displayName": "김용길",
      "photoUrl": "",
      "userId": "00028506768877938944"
     },
     "user_tz": -540
    },
    "id": "dDkQ8EJaXylK",
    "outputId": "029b38a8-0f47-4619-b13c-4608caa6e4ce"
   },
   "outputs": [
    {
     "data": {
      "text/plain": [
       "40"
      ]
     },
     "execution_count": 4,
     "metadata": {
      "tags": []
     },
     "output_type": "execute_result"
    }
   ],
   "source": [
    "def add(x,y):\n",
    "  return x+y\n",
    "\n",
    "add2 = lambda x,y:x+y # 그냥 간단한 함수\n",
    "add2(10,30)"
   ]
  },
  {
   "cell_type": "markdown",
   "metadata": {
    "id": "dco-j6YxYCJp"
   },
   "source": [
    "lambda는 굳이 필요는 없지만 코드를 간결하게 하기 위한 방법"
   ]
  },
  {
   "cell_type": "markdown",
   "metadata": {
    "id": "aDkgG30BXVUi"
   },
   "source": [
    "#### **filter, map, reduce**\n",
    " + lambda가 유용하게 사용되는 3가지 대표적 함수\n",
    " + 함수형 프로그래밍의 기본 요소이기도 함\n",
    " + filter : 특정 조건을 만족하는 요소만 남기고 필터링\n",
    " + map    : 각 원소를 주어진 수식에 따라 변형하여 새로운 리스트를 반환\n",
    " + reduce : 차례대로 앞 2개의 원소를 가지고 연산. 연산의 결과가 또 다음 연산의 입력으로 진행됨. 따라서 마지막까지 진행되면 최종 출력은 한개의 값만 남게 됨"
   ]
  },
  {
   "cell_type": "code",
   "execution_count": 6,
   "metadata": {
    "colab": {
     "base_uri": "https://localhost:8080/"
    },
    "executionInfo": {
     "elapsed": 707,
     "status": "ok",
     "timestamp": 1607582415463,
     "user": {
      "displayName": "김용길",
      "photoUrl": "",
      "userId": "00028506768877938944"
     },
     "user_tz": -540
    },
    "id": "xBqtPMfVXVUj",
    "outputId": "387f7111-62fb-4c70-c8a3-199b12aec028"
   },
   "outputs": [
    {
     "name": "stdout",
     "output_type": "stream",
     "text": [
      "[' alexander3', 'bob', 'charles', 'teddy']\n"
     ]
    }
   ],
   "source": [
    "strings = ['bob', 'charles', ' alexander3', 'teddy']\n",
    "strings.sort()\n",
    "\n",
    "print(strings)"
   ]
  },
  {
   "cell_type": "code",
   "execution_count": 7,
   "metadata": {
    "colab": {
     "base_uri": "https://localhost:8080/"
    },
    "executionInfo": {
     "elapsed": 732,
     "status": "ok",
     "timestamp": 1607582481215,
     "user": {
      "displayName": "김용길",
      "photoUrl": "",
      "userId": "00028506768877938944"
     },
     "user_tz": -540
    },
    "id": "0wAUNxZzYTP4",
    "outputId": "e05dfc57-bf74-413e-f3bd-77bedada3cf5"
   },
   "outputs": [
    {
     "data": {
      "text/plain": [
       "4"
      ]
     },
     "execution_count": 7,
     "metadata": {
      "tags": []
     },
     "output_type": "execute_result"
    }
   ],
   "source": [
    "# 정렬을 나만의 기준으로(예를들어 문자열의 길이) 하고 싶을때 lambda 사용\n",
    "\n",
    "def str_len(s):\n",
    "  return len(s)\n",
    "\n",
    "str_len(\"test\")"
   ]
  },
  {
   "cell_type": "code",
   "execution_count": 8,
   "metadata": {
    "colab": {
     "base_uri": "https://localhost:8080/"
    },
    "executionInfo": {
     "elapsed": 675,
     "status": "ok",
     "timestamp": 1607582518899,
     "user": {
      "displayName": "김용길",
      "photoUrl": "",
      "userId": "00028506768877938944"
     },
     "user_tz": -540
    },
    "id": "dhccJ-3IYidn",
    "outputId": "1d17ace1-f624-414d-e14c-452a6ed03354"
   },
   "outputs": [
    {
     "name": "stdout",
     "output_type": "stream",
     "text": [
      "['bob', 'teddy', 'charles', ' alexander3']\n"
     ]
    }
   ],
   "source": [
    "# sort의 key 파라미터로 str_len 함수를 사용\n",
    "\n",
    "strings = ['bob', 'charles', ' alexander3', 'teddy']\n",
    "strings.sort(key=str_len)\n",
    "\n",
    "print(strings)\n",
    "\n",
    "# str_len은 공간낭비가 됨"
   ]
  },
  {
   "cell_type": "code",
   "execution_count": 9,
   "metadata": {
    "colab": {
     "base_uri": "https://localhost:8080/"
    },
    "executionInfo": {
     "elapsed": 950,
     "status": "ok",
     "timestamp": 1607582576945,
     "user": {
      "displayName": "김용길",
      "photoUrl": "",
      "userId": "00028506768877938944"
     },
     "user_tz": -540
    },
    "id": "__LC7NEFYybN",
    "outputId": "469c434f-d547-47e8-d10d-dab79195f377"
   },
   "outputs": [
    {
     "name": "stdout",
     "output_type": "stream",
     "text": [
      "['bob', 'teddy', 'charles', ' alexander3']\n"
     ]
    }
   ],
   "source": [
    "# 공간낭비 없이 간단하게 함수 사용\n",
    "\n",
    "strings = ['bob', 'charles', ' alexander3', 'teddy']\n",
    "strings.sort(key=lambda s:len(s))\n",
    "\n",
    "print(strings)\n"
   ]
  },
  {
   "cell_type": "code",
   "execution_count": 10,
   "metadata": {
    "colab": {
     "base_uri": "https://localhost:8080/"
    },
    "executionInfo": {
     "elapsed": 758,
     "status": "ok",
     "timestamp": 1607582706052,
     "user": {
      "displayName": "김용길",
      "photoUrl": "",
      "userId": "00028506768877938944"
     },
     "user_tz": -540
    },
    "id": "0nMENJQNZPyn",
    "outputId": "44b8c158-885e-40da-daff-41c5225e9471"
   },
   "outputs": [
    {
     "data": {
      "text/plain": [
       "True"
      ]
     },
     "execution_count": 10,
     "metadata": {
      "tags": []
     },
     "output_type": "execute_result"
    }
   ],
   "source": [
    "def even(n):\n",
    "  return n % 2 == 0\n",
    "\n",
    "even(2) "
   ]
  },
  {
   "cell_type": "code",
   "execution_count": 15,
   "metadata": {
    "colab": {
     "base_uri": "https://localhost:8080/"
    },
    "executionInfo": {
     "elapsed": 709,
     "status": "ok",
     "timestamp": 1607582793851,
     "user": {
      "displayName": "김용길",
      "photoUrl": "",
      "userId": "00028506768877938944"
     },
     "user_tz": -540
    },
    "id": "mRliQHB6Y9R7",
    "outputId": "4dab4d9b-7207-4d8f-d259-0988df745fed"
   },
   "outputs": [
    {
     "name": "stdout",
     "output_type": "stream",
     "text": [
      "def [2, 6, 8]\n",
      "lambda [2, 6, 8]\n"
     ]
    }
   ],
   "source": [
    "# filter(함수, 리스트) \n",
    "\n",
    "nums = [1,2,3,6,8,9]\n",
    "\n",
    "# 짝수만 반환하고 싶음\n",
    "\n",
    "print(\"def\",list(filter(even, nums)))\n",
    "print(\"lambda\", list(filter(lambda n:n%2==0, nums)))\n",
    "\n"
   ]
  },
  {
   "cell_type": "code",
   "execution_count": 16,
   "metadata": {
    "colab": {
     "base_uri": "https://localhost:8080/"
    },
    "executionInfo": {
     "elapsed": 697,
     "status": "ok",
     "timestamp": 1607582880171,
     "user": {
      "displayName": "김용길",
      "photoUrl": "",
      "userId": "00028506768877938944"
     },
     "user_tz": -540
    },
    "id": "VUBUrAJFZs7Q",
    "outputId": "c718b997-b84b-405d-d1c4-87a880f51c51"
   },
   "outputs": [
    {
     "data": {
      "text/plain": [
       "[1, 4, 9, 36, 64, 81]"
      ]
     },
     "execution_count": 16,
     "metadata": {
      "tags": []
     },
     "output_type": "execute_result"
    }
   ],
   "source": [
    "# map\n",
    "# 주어진 리스트, 리스트의 제곱을 한 숫자로 이루어진 새로운 리스트 생성\n",
    "# map(함수, 리스트)\n",
    "\n",
    "nums = [1,2,3,6,8,9]\n",
    "\n",
    "list(map(lambda n:n**2, nums))"
   ]
  },
  {
   "cell_type": "code",
   "execution_count": 18,
   "metadata": {
    "colab": {
     "base_uri": "https://localhost:8080/"
    },
    "executionInfo": {
     "elapsed": 702,
     "status": "ok",
     "timestamp": 1607582932999,
     "user": {
      "displayName": "김용길",
      "photoUrl": "",
      "userId": "00028506768877938944"
     },
     "user_tz": -540
    },
    "id": "c0QkbJVWaEPj",
    "outputId": "7eb76a06-4904-41cf-c370-6a7b7f0263cf"
   },
   "outputs": [
    {
     "data": {
      "text/plain": [
       "[False, True, False, True, True, False]"
      ]
     },
     "execution_count": 18,
     "metadata": {
      "tags": []
     },
     "output_type": "execute_result"
    }
   ],
   "source": [
    "list(map(even, nums))\n",
    "list(map(lambda n:n%2==0, nums))"
   ]
  },
  {
   "cell_type": "code",
   "execution_count": 20,
   "metadata": {
    "colab": {
     "base_uri": "https://localhost:8080/"
    },
    "executionInfo": {
     "elapsed": 748,
     "status": "ok",
     "timestamp": 1607583074572,
     "user": {
      "displayName": "김용길",
      "photoUrl": "",
      "userId": "00028506768877938944"
     },
     "user_tz": -540
    },
    "id": "Kz1frJ91aO1j",
    "outputId": "b2135a61-3734-41cc-d5a7-26d869842b99"
   },
   "outputs": [
    {
     "data": {
      "text/plain": [
       "17"
      ]
     },
     "execution_count": 20,
     "metadata": {
      "tags": []
     },
     "output_type": "execute_result"
    }
   ],
   "source": [
    "import functools\n",
    "\n",
    "a = [1,3,5,8]\n",
    "\n",
    "# 리듀스로 리스트 합 구하기\n",
    "\n",
    "functools.reduce(lambda x,y:x+y,a)"
   ]
  },
  {
   "cell_type": "markdown",
   "metadata": {
    "id": "09TcPLWSXVUj"
   },
   "source": [
    "\n",
    "#### 함수 연습문제\n",
    " 1. 주어진 숫자 리스트의 평균을 구하는 함수를 출력하시오\n",
    " 1. 해당 숫자가 소수인지 아닌지 판별하시오.\n",
    " 2. 2부터 해당 숫자사이에 소수가 몇개인지 출력하는 함수를 구하시오 "
   ]
  },
  {
   "cell_type": "code",
   "execution_count": 24,
   "metadata": {
    "colab": {
     "base_uri": "https://localhost:8080/"
    },
    "executionInfo": {
     "elapsed": 837,
     "status": "ok",
     "timestamp": 1607583583449,
     "user": {
      "displayName": "김용길",
      "photoUrl": "",
      "userId": "00028506768877938944"
     },
     "user_tz": -540
    },
    "id": "6t-Ch5KDXVUk",
    "outputId": "ab6df8a7-0586-4753-e7ec-0daf55a77363"
   },
   "outputs": [
    {
     "data": {
      "text/plain": [
       "3.0"
      ]
     },
     "execution_count": 24,
     "metadata": {
      "tags": []
     },
     "output_type": "execute_result"
    }
   ],
   "source": [
    "# 1\n",
    "# 입력과 출력 생각\n",
    "# 입력 : 숫자 리스트\n",
    "# 출력 : 숫자 리스트의 평균값\n",
    "\n",
    "nums = [2,4]\n",
    "\n",
    "def _mean(nums):\n",
    "  _sum = 0\n",
    "  for i in nums:\n",
    "    _sum += i\n",
    "  return _sum / len(nums)\n",
    "\n",
    "_mean(nums)"
   ]
  },
  {
   "cell_type": "code",
   "execution_count": 49,
   "metadata": {
    "colab": {
     "base_uri": "https://localhost:8080/"
    },
    "executionInfo": {
     "elapsed": 1181,
     "status": "ok",
     "timestamp": 1607587510409,
     "user": {
      "displayName": "김용길",
      "photoUrl": "",
      "userId": "00028506768877938944"
     },
     "user_tz": -540
    },
    "id": "Ybv1pjpAbaWX",
    "outputId": "f0514f0d-38d5-4d51-efed-33c05614704d"
   },
   "outputs": [
    {
     "data": {
      "text/plain": [
       "True"
      ]
     },
     "execution_count": 49,
     "metadata": {
      "tags": []
     },
     "output_type": "execute_result"
    }
   ],
   "source": [
    "# 2\n",
    "# 입력 : 양의 정수 1개\n",
    "# 출력 : boolean\n",
    "\n",
    "def is_prime(num):\n",
    "  for i in range(2,num):\n",
    "    if num % i == 0:\n",
    "      return False\n",
    "  return True\n",
    "\n",
    "is_prime(2)"
   ]
  },
  {
   "cell_type": "code",
   "execution_count": 87,
   "metadata": {
    "colab": {
     "base_uri": "https://localhost:8080/"
    },
    "executionInfo": {
     "elapsed": 703,
     "status": "ok",
     "timestamp": 1607588501903,
     "user": {
      "displayName": "김용길",
      "photoUrl": "",
      "userId": "00028506768877938944"
     },
     "user_tz": -540
    },
    "id": "imVzPafQl1f9",
    "outputId": "81fa1c0d-bdb7-4728-cb35-235f4bba623e"
   },
   "outputs": [
    {
     "data": {
      "text/plain": [
       "4"
      ]
     },
     "execution_count": 87,
     "metadata": {
      "tags": []
     },
     "output_type": "execute_result"
    }
   ],
   "source": [
    "# 3\n",
    "# 입력 : 양의 정수 1개\n",
    "# 출력 : 2부터 양의 정수 사이의 소수 개수 1개\n",
    "\n",
    "def num_prime(num):\n",
    "  count = 0\n",
    "  for i in range(2, num+1):\n",
    "    if is_prime(num):\n",
    "      count +=1\n",
    "  return count\n",
    "\n",
    "num_prime(5)"
   ]
  },
  {
   "cell_type": "code",
   "execution_count": 69,
   "metadata": {
    "colab": {
     "base_uri": "https://localhost:8080/"
    },
    "executionInfo": {
     "elapsed": 685,
     "status": "ok",
     "timestamp": 1607588243694,
     "user": {
      "displayName": "김용길",
      "photoUrl": "",
      "userId": "00028506768877938944"
     },
     "user_tz": -540
    },
    "id": "5GrYGznZl_3_",
    "outputId": "6ab4e850-3ee3-4835-cda9-9bd9d20efba0"
   },
   "outputs": [
    {
     "name": "stdout",
     "output_type": "stream",
     "text": [
      "2\n",
      "3\n",
      "4\n",
      "5\n",
      "6\n",
      "7\n"
     ]
    }
   ],
   "source": [
    "for i in range(2,8):\n",
    "  print(i)\n"
   ]
  },
  {
   "cell_type": "code",
   "execution_count": 62,
   "metadata": {
    "colab": {
     "base_uri": "https://localhost:8080/"
    },
    "executionInfo": {
     "elapsed": 680,
     "status": "ok",
     "timestamp": 1607588063296,
     "user": {
      "displayName": "김용길",
      "photoUrl": "",
      "userId": "00028506768877938944"
     },
     "user_tz": -540
    },
    "id": "jyKkHE8itZeB",
    "outputId": "3d65fe7c-a3b5-47ef-fcd4-3c11c0a8fd8d"
   },
   "outputs": [
    {
     "data": {
      "text/plain": [
       "range(2, 3)"
      ]
     },
     "execution_count": 62,
     "metadata": {
      "tags": []
     },
     "output_type": "execute_result"
    }
   ],
   "source": [
    "a = range(2,3)\n",
    "a"
   ]
  },
  {
   "cell_type": "code",
   "execution_count": null,
   "metadata": {
    "id": "A4PyazHitxq5"
   },
   "outputs": [],
   "source": []
  }
 ],
 "metadata": {
  "colab": {
   "collapsed_sections": [],
   "name": "데이터_엔지니어링_파이썬_프로그래밍_Chapter 04 - 02. lambda 함수의 이해.ipynb",
   "provenance": []
  },
  "kernelspec": {
   "display_name": "Python 3",
   "language": "python",
   "name": "python3"
  },
  "language_info": {
   "codemirror_mode": {
    "name": "ipython",
    "version": 3
   },
   "file_extension": ".py",
   "mimetype": "text/x-python",
   "name": "python",
   "nbconvert_exporter": "python",
   "pygments_lexer": "ipython3",
   "version": "3.8.5"
  }
 },
 "nbformat": 4,
 "nbformat_minor": 1
}
