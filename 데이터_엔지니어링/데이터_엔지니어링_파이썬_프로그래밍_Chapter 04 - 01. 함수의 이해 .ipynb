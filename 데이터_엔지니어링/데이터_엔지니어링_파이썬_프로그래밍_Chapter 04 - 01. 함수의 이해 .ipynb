{
 "cells": [
  {
   "cell_type": "markdown",
   "metadata": {
    "id": "3ooVWzqmrVpO"
   },
   "source": [
    "### 학습목표\n",
    " 1. 함수의 이해\n",
    " 2. 함수 구현 및 사용 숙지"
   ]
  },
  {
   "cell_type": "markdown",
   "metadata": {
    "id": "HpxOaFuQrVpP"
   },
   "source": [
    "### 함수?\n",
    "* 지금까지 무심코 코드에서 사용된 많은 함수들이 존재 합니다.\n",
    "* 예를들면, sum, len, range 같은 함수 등이 있죠.\n",
    "* 함수란 우리가 알고있는 개념처럼 주어진 입력(input)에 대해서 의도된 출력(output)를 전달하는 역할을 합니다.\n",
    "\n",
    "* 그렇다면, 하나씩 살펴보겠습니다.\n",
    "  > range 함수는 정수를 입력으로 전달하면 [0, 정수) 로 이루어진 리스트를 생성하는 역할을 합니다.\n",
    "  \n",
    "  > sum 함수는 리스트, 튜플등을 입력으로 전달하면 전체 아이템의 합을 출력으로 전달하는 역할을 합니다.\n",
    "  \n",
    "  > len 함수는 리스트, 튜플등을 입력으로 전달하면 아이템의 개수를 출력으로 전달하는 역할을 합니다.\n",
    "  \n",
    "* 그리고, 위의 함수들은 모두 python 내부에 이미 정의(구현)이 되어 있습니다.\n",
    "* 위와 같은 함수를 내장함수(built-in function)이라고 합니다."
   ]
  },
  {
   "cell_type": "code",
   "execution_count": null,
   "metadata": {
    "id": "sN6-_XwFrVpP"
   },
   "outputs": [],
   "source": [
    "# 내장 함수의 예"
   ]
  },
  {
   "cell_type": "code",
   "execution_count": null,
   "metadata": {
    "colab": {
     "base_uri": "https://localhost:8080/"
    },
    "executionInfo": {
     "elapsed": 1463,
     "status": "ok",
     "timestamp": 1607067470215,
     "user": {
      "displayName": "김용길",
      "photoUrl": "",
      "userId": "00028506768877938944"
     },
     "user_tz": -540
    },
    "id": "jQKuoDdErtss",
    "outputId": "1b3c8eac-3bd8-4b47-ae52-e6f20b0839d1"
   },
   "outputs": [
    {
     "name": "stdout",
     "output_type": "stream",
     "text": [
      "4\n"
     ]
    }
   ],
   "source": [
    "a = [1,2,3,4]\n",
    "len(a)\n",
    "length = len(a)\n",
    "print(length)"
   ]
  },
  {
   "cell_type": "code",
   "execution_count": null,
   "metadata": {
    "colab": {
     "base_uri": "https://localhost:8080/"
    },
    "executionInfo": {
     "elapsed": 1458,
     "status": "ok",
     "timestamp": 1607067495690,
     "user": {
      "displayName": "김용길",
      "photoUrl": "",
      "userId": "00028506768877938944"
     },
     "user_tz": -540
    },
    "id": "4nZzlsLur7u-",
    "outputId": "aa1c7b92-2712-4ac7-b19e-9f266cd7345e"
   },
   "outputs": [
    {
     "name": "stdout",
     "output_type": "stream",
     "text": [
      "10\n"
     ]
    }
   ],
   "source": [
    "summation = sum(a)\n",
    "print(summation)"
   ]
  },
  {
   "cell_type": "markdown",
   "metadata": {
    "id": "Hgk2TqQqrVpQ"
   },
   "source": [
    "#### **함수의 정의**\n",
    "  + 정의 시 최초에 def 키워드 사용\n",
    "  + argument 정의 (함수에 입력으로 전달하는 값을 의미, argument 또는 parameter라고 함) \n",
    "  + : (콜론) -> 함수 역시 코드 블록이기 때문에 콜론(:) 필요\n",
    "  + body (함수의 구현 부분, 함수 역시 코드 블록이기 때문에 들여쓰기 된 부분까지 함수의 코드블록으로 인지 함)\n",
    "    - 함수를 호출한 코드 (caller)로 함수가 해당 기능을 수행하고 완료된 값(output)을 전달하기 위해 return 키워드 사용\n",
    "    - 즉, return 이후에 오는 값을 caller로 전달\n",
    "  + 함수의 네이밍 역시 중요\n",
    "    - 즉, 어떤 기능을 하는 함수인지 이름으로 최대한 나타날 수 있게 해야함\n",
    "    - e.g) get_a (x) get_student_name (o)"
   ]
  },
  {
   "cell_type": "code",
   "execution_count": null,
   "metadata": {
    "colab": {
     "base_uri": "https://localhost:8080/",
     "height": 35
    },
    "executionInfo": {
     "elapsed": 970,
     "status": "ok",
     "timestamp": 1607067790120,
     "user": {
      "displayName": "김용길",
      "photoUrl": "",
      "userId": "00028506768877938944"
     },
     "user_tz": -540
    },
    "id": "RBSH3RxurVpQ",
    "outputId": "e574a613-189c-4e0c-e907-235cc9bcfe30"
   },
   "outputs": [
    {
     "data": {
      "application/vnd.google.colaboratory.intrinsic+json": {
       "type": "string"
      },
      "text/plain": [
       "'ab'"
      ]
     },
     "execution_count": 5,
     "metadata": {
      "tags": []
     },
     "output_type": "execute_result"
    }
   ],
   "source": [
    "def add(x, y):\n",
    "  n = x + y\n",
    "  return n\n",
    "\n",
    "add('a','b')\n"
   ]
  },
  {
   "cell_type": "markdown",
   "metadata": {
    "id": "uxJ98No2rVpQ"
   },
   "source": [
    "#### **함수의 사용(호출)**\n",
    " + 함수명(파라미터1, 파라미터2, ... 파라미터n)\n",
    " + 위와 같이 정의 된 함수의 이름과 전달되는 parameter(인자)를 괄호안에 전달하여 함수를 호출\n",
    " + 함수가 호출되면 실행의 흐름이 호출자(caller)에서 함수(callee)로 변경 됨\n",
    " \n",
    " + 함수의 입력(인풋) 파라미터(parameter), 아규먼트(argument)라고도 함"
   ]
  },
  {
   "cell_type": "code",
   "execution_count": null,
   "metadata": {
    "colab": {
     "base_uri": "https://localhost:8080/",
     "height": 228
    },
    "executionInfo": {
     "elapsed": 929,
     "status": "error",
     "timestamp": 1607068073849,
     "user": {
      "displayName": "김용길",
      "photoUrl": "",
      "userId": "00028506768877938944"
     },
     "user_tz": -540
    },
    "id": "0L7dy-iZrVpQ",
    "outputId": "3a006831-72f5-4cb6-d92a-2c467d05e17a"
   },
   "outputs": [
    {
     "ename": "TypeError",
     "evalue": "ignored",
     "output_type": "error",
     "traceback": [
      "\u001b[0;31m---------------------------------------------------------------------------\u001b[0m",
      "\u001b[0;31mTypeError\u001b[0m                                 Traceback (most recent call last)",
      "\u001b[0;32m<ipython-input-6-504b94f6476b>\u001b[0m in \u001b[0;36m<module>\u001b[0;34m()\u001b[0m\n\u001b[0;32m----> 1\u001b[0;31m \u001b[0mc\u001b[0m \u001b[0;34m=\u001b[0m \u001b[0madd\u001b[0m\u001b[0;34m(\u001b[0m\u001b[0;34m)\u001b[0m\u001b[0;34m\u001b[0m\u001b[0;34m\u001b[0m\u001b[0m\n\u001b[0m",
      "\u001b[0;31mTypeError\u001b[0m: add() missing 2 required positional arguments: 'x' and 'y'"
     ]
    }
   ],
   "source": [
    "c = add() # argument가 없다고 하는 오류 발생"
   ]
  },
  {
   "cell_type": "markdown",
   "metadata": {
    "id": "Nibm_Uc6rVpQ"
   },
   "source": [
    "#### **함수 네이밍(naming)**\n",
    "  * 함수 이름으로부터 기능이 명시 \n",
    "  * 의미와 반대되거나 맞지 않는 이름은 사용금지"
   ]
  },
  {
   "cell_type": "code",
   "execution_count": null,
   "metadata": {
    "id": "wXgPTYpmrVpQ"
   },
   "outputs": [],
   "source": [
    "de"
   ]
  },
  {
   "cell_type": "markdown",
   "metadata": {
    "id": "k4ypAmsjrVpQ"
   },
   "source": [
    "#### **parameter(argument) (인자)**\n",
    " + 함수에 전달되는 입력(input)\n",
    " + 입력이 필요하지 않을 수도, 1개의 입력만 있을 수도, 여러개의 입력이 존재할 수 도 있음\n",
    " + 파라미터로 int, string, float, boolm, list, dict 등등 어떤 파이썬 객체도 전달 가능\n",
    " + 심지어, 함수도 함수의 파라미터로 전달 가능\n",
    " \n",
    " + python의 경우, 타입 명시가 없기 때문에, 함수 생성 시, 의도된 파라미터의 타입에 맞게 입력을 전달하는 것이 중요\n",
    " + 또한 파라미터를 전달 할 때, 정의된 순서에 따라 값을 전달하는 것이 중요\n"
   ]
  },
  {
   "cell_type": "code",
   "execution_count": null,
   "metadata": {
    "colab": {
     "base_uri": "https://localhost:8080/"
    },
    "executionInfo": {
     "elapsed": 1076,
     "status": "ok",
     "timestamp": 1607068213078,
     "user": {
      "displayName": "김용길",
      "photoUrl": "",
      "userId": "00028506768877938944"
     },
     "user_tz": -540
    },
    "id": "B3GsKkOQrVpQ",
    "outputId": "65850353-26ac-43ff-e09a-c9bab97acd89"
   },
   "outputs": [
    {
     "name": "stdout",
     "output_type": "stream",
     "text": [
      "haha\n",
      "good\n"
     ]
    },
    {
     "data": {
      "text/plain": [
       "100"
      ]
     },
     "execution_count": 7,
     "metadata": {
      "tags": []
     },
     "output_type": "execute_result"
    }
   ],
   "source": [
    "def test():\n",
    "  print('haha')\n",
    "  print('good')\n",
    "\n",
    "  return(100)\n",
    "\n",
    "test()"
   ]
  },
  {
   "cell_type": "code",
   "execution_count": null,
   "metadata": {
    "colab": {
     "base_uri": "https://localhost:8080/",
     "height": 283
    },
    "executionInfo": {
     "elapsed": 1015,
     "status": "error",
     "timestamp": 1607068251748,
     "user": {
      "displayName": "김용길",
      "photoUrl": "",
      "userId": "00028506768877938944"
     },
     "user_tz": -540
    },
    "id": "6Fr3TQgmuzGp",
    "outputId": "d305624c-95e8-4fe4-d04b-12984818b06d"
   },
   "outputs": [
    {
     "ename": "TypeError",
     "evalue": "ignored",
     "output_type": "error",
     "traceback": [
      "\u001b[0;31m---------------------------------------------------------------------------\u001b[0m",
      "\u001b[0;31mTypeError\u001b[0m                                 Traceback (most recent call last)",
      "\u001b[0;32m<ipython-input-8-fd2e0b3a75fb>\u001b[0m in \u001b[0;36m<module>\u001b[0;34m()\u001b[0m\n\u001b[1;32m      5\u001b[0m   \u001b[0;32mreturn\u001b[0m\u001b[0;34m(\u001b[0m\u001b[0;36m100\u001b[0m\u001b[0;34m)\u001b[0m\u001b[0;34m\u001b[0m\u001b[0;34m\u001b[0m\u001b[0m\n\u001b[1;32m      6\u001b[0m \u001b[0;34m\u001b[0m\u001b[0m\n\u001b[0;32m----> 7\u001b[0;31m \u001b[0ma\u001b[0m \u001b[0;34m=\u001b[0m \u001b[0mtest\u001b[0m\u001b[0;34m(\u001b[0m\u001b[0;34m)\u001b[0m\u001b[0;34m\u001b[0m\u001b[0;34m\u001b[0m\u001b[0m\n\u001b[0m\u001b[1;32m      8\u001b[0m \u001b[0mprint\u001b[0m\u001b[0;34m(\u001b[0m\u001b[0ma\u001b[0m\u001b[0;34m)\u001b[0m\u001b[0;34m\u001b[0m\u001b[0;34m\u001b[0m\u001b[0m\n",
      "\u001b[0;31mTypeError\u001b[0m: test() missing 2 required positional arguments: 'x' and 'y'"
     ]
    }
   ],
   "source": [
    "def test(x,y):\n",
    "  print('haha')\n",
    "  print('good')\n",
    "\n",
    "  return(100)\n",
    "\n",
    "a = test()\n",
    "print(a)"
   ]
  },
  {
   "cell_type": "markdown",
   "metadata": {
    "id": "kKHxol9OrVpQ"
   },
   "source": [
    "####  Default parameter (기본 인자) \n",
    " + 함수의 파라미터에 기본값 지정 가능\n",
    " + 파라미터를 명시하지 않을 경우, 지정된 기본값으로 대체"
   ]
  },
  {
   "cell_type": "code",
   "execution_count": null,
   "metadata": {
    "colab": {
     "base_uri": "https://localhost:8080/"
    },
    "executionInfo": {
     "elapsed": 793,
     "status": "ok",
     "timestamp": 1607068393834,
     "user": {
      "displayName": "김용길",
      "photoUrl": "",
      "userId": "00028506768877938944"
     },
     "user_tz": -540
    },
    "id": "s67TfmWwrVpQ",
    "outputId": "ad9ed6ff-e4bb-4518-b16e-2bd911d65f2f"
   },
   "outputs": [
    {
     "data": {
      "text/plain": [
       "35"
      ]
     },
     "execution_count": 10,
     "metadata": {
      "tags": []
     },
     "output_type": "execute_result"
    }
   ],
   "source": [
    "def add(x,y,r=5):\n",
    "  a = x + y + r\n",
    "  return a\n",
    "add(10,20)"
   ]
  },
  {
   "cell_type": "markdown",
   "metadata": {
    "id": "8dLjut0HrVpQ"
   },
   "source": [
    "* **기본 파라미터의 다른 예**\n",
    " - print 함수\n",
    "   - sep, end, file등 여러 기본 파라미터를 가짐 "
   ]
  },
  {
   "cell_type": "code",
   "execution_count": 1,
   "metadata": {
    "colab": {
     "base_uri": "https://localhost:8080/"
    },
    "executionInfo": {
     "elapsed": 1773,
     "status": "ok",
     "timestamp": 1607411099719,
     "user": {
      "displayName": "김용길",
      "photoUrl": "",
      "userId": "00028506768877938944"
     },
     "user_tz": -540
    },
    "id": "MGk0_-aDrVpQ",
    "outputId": "ec6d65c7-4b3d-4f8c-b603-a46114cf7d88"
   },
   "outputs": [
    {
     "name": "stdout",
     "output_type": "stream",
     "text": [
      "1!2!3###"
     ]
    }
   ],
   "source": [
    "print(1,2,3, sep='!', end=\"###\")"
   ]
  },
  {
   "cell_type": "markdown",
   "metadata": {
    "id": "CMx1rGzJrVpQ"
   },
   "source": [
    "####  Default parameter 사용 시 주의 점\n",
    "  * 디폴트 파라미터 뒤에 일반 파라미터가 위치할 수 없음\n",
    "  \n",
    "  * e.g) 올바른 예\n",
    "    > def test(a, b, c = 1)\n",
    "    \n",
    "    > def test(a, b = 1, c = 2)\n",
    "    \n",
    "    > def test(a = 1, b = 1, c = 3)\n",
    "    \n",
    "  * e.g) 올바르지 않은 예\n",
    "    > def test(a, b = 1, c)\n",
    "    \n",
    "    > def test(a = 1, b, c)\n",
    "    \n",
    "    > def test(a = 1, b = 1, c)"
   ]
  },
  {
   "cell_type": "code",
   "execution_count": 3,
   "metadata": {
    "colab": {
     "base_uri": "https://localhost:8080/",
     "height": 129
    },
    "executionInfo": {
     "elapsed": 926,
     "status": "error",
     "timestamp": 1607411178083,
     "user": {
      "displayName": "김용길",
      "photoUrl": "",
      "userId": "00028506768877938944"
     },
     "user_tz": -540
    },
    "id": "XILG3MqZrVpQ",
    "outputId": "5509dda8-ce32-401e-db38-1600f627a19b"
   },
   "outputs": [
    {
     "ename": "SyntaxError",
     "evalue": "ignored",
     "output_type": "error",
     "traceback": [
      "\u001b[0;36m  File \u001b[0;32m\"<ipython-input-3-582abd1aa45c>\"\u001b[0;36m, line \u001b[0;32m1\u001b[0m\n\u001b[0;31m    def test(a, b=3, c):\u001b[0m\n\u001b[0m            ^\u001b[0m\n\u001b[0;31mSyntaxError\u001b[0m\u001b[0;31m:\u001b[0m non-default argument follows default argument\n"
     ]
    }
   ],
   "source": [
    "def test(a, b=3, c):\n",
    "  # 기본 파라미터 순서가 맞지 않아 오류 발생\n",
    "  print(a,b,c)\n",
    "\n",
    "test(10,20)"
   ]
  },
  {
   "cell_type": "markdown",
   "metadata": {
    "id": "nD8DlC9CrVpQ"
   },
   "source": [
    "#### **keyword parameter (키워드 파라미터)**\n",
    "  * 파이썬의 경우, 파라미터에 값을 전달 할 때, 파라미터의 이름을 명시하여 전달 가능\n",
    "  * 파라미터 이름을 사용하지 않을 경우, 기본적으로 순서에 맞게 전달"
   ]
  },
  {
   "cell_type": "code",
   "execution_count": 5,
   "metadata": {
    "colab": {
     "base_uri": "https://localhost:8080/"
    },
    "executionInfo": {
     "elapsed": 730,
     "status": "ok",
     "timestamp": 1607411250519,
     "user": {
      "displayName": "김용길",
      "photoUrl": "",
      "userId": "00028506768877938944"
     },
     "user_tz": -540
    },
    "id": "CrCVR47orVpQ",
    "outputId": "e0fa3777-676f-464c-c49c-cd4b0f0efbea"
   },
   "outputs": [
    {
     "name": "stdout",
     "output_type": "stream",
     "text": [
      "33\n",
      "33\n"
     ]
    }
   ],
   "source": [
    "def test(x,y,z):\n",
    "  a = x+ y+ z\n",
    "  return(a)\n",
    "\n",
    "print(test(10,20,3))\n",
    "print(test(x=10, z=3, y=20)) # 키워드 파라미터 이용할때는 순서를 바꿔도 됨\n",
    "                             # 권장하지 않음"
   ]
  },
  {
   "cell_type": "markdown",
   "metadata": {
    "id": "KeZTh5njrVpQ"
   },
   "source": [
    "#### **return (리턴)**\n",
    " + 기본적으로 함수의 종료를 명시\n",
    "   + return 옆에 값이나 수식이 있다면 해당 값을 호출자(caller)에게 반환(전달)\n",
    "   + return 만 존재하면 None 반환\n",
    "   + return이 없는 경우, 기본적으로 함수 코드 블록이 종료되면 종료로 간주. 이때도 None 반환"
   ]
  },
  {
   "cell_type": "code",
   "execution_count": 10,
   "metadata": {
    "colab": {
     "base_uri": "https://localhost:8080/"
    },
    "executionInfo": {
     "elapsed": 829,
     "status": "ok",
     "timestamp": 1607411465791,
     "user": {
      "displayName": "김용길",
      "photoUrl": "",
      "userId": "00028506768877938944"
     },
     "user_tz": -540
    },
    "id": "SgbWGZOtrVpR",
    "outputId": "3823465e-ba8a-4bad-893f-79bc75d2d757"
   },
   "outputs": [
    {
     "name": "stdout",
     "output_type": "stream",
     "text": [
      "6\n",
      "15\n",
      "60\n"
     ]
    }
   ],
   "source": [
    "def weird_multiply(x, y):\n",
    "  if x > 10:\n",
    "    return x * y\n",
    "  \n",
    "  print(x + y) # return이 앞에 있기 때문에 수행이 안됨\n",
    "  return ((x + 2)) * y\n",
    "  print(x + y) # return이 뒤에 있기 때문에 수행이 안됨\n",
    "\n",
    "print(weird_multiply(1,5) )\n",
    "print(weird_multiply(12,5))"
   ]
  },
  {
   "cell_type": "code",
   "execution_count": 12,
   "metadata": {
    "colab": {
     "base_uri": "https://localhost:8080/"
    },
    "executionInfo": {
     "elapsed": 874,
     "status": "ok",
     "timestamp": 1607411511020,
     "user": {
      "displayName": "김용길",
      "photoUrl": "",
      "userId": "00028506768877938944"
     },
     "user_tz": -540
    },
    "id": "3sKp5dLdMNM1",
    "outputId": "34cf5974-a72b-4d78-c6fd-5b6d24413259"
   },
   "outputs": [
    {
     "name": "stdout",
     "output_type": "stream",
     "text": [
      "None\n"
     ]
    }
   ],
   "source": [
    "def weird_multiply(x, y):\n",
    "  if x > 10:\n",
    "    return \n",
    "  \n",
    "  print(x + y) # return이 앞에 있기 때문에 수행이 안됨\n",
    "  return ((x + 2)) * y\n",
    "  print(x + y) # return이 뒤에 있기 때문에 수행이 안됨\n",
    "\n",
    "print(weird_multiply(12,5)) # x가 12가 넘어 return None 반환"
   ]
  },
  {
   "cell_type": "markdown",
   "metadata": {
    "id": "yIxzu9rdrVpR"
   },
   "source": [
    "#### **multiple return (복수 값 반환)**\n",
    " + tuple반환을 하여 복수개의 값 리턴 가능"
   ]
  },
  {
   "cell_type": "code",
   "execution_count": 13,
   "metadata": {
    "colab": {
     "base_uri": "https://localhost:8080/"
    },
    "executionInfo": {
     "elapsed": 759,
     "status": "ok",
     "timestamp": 1607411672350,
     "user": {
      "displayName": "김용길",
      "photoUrl": "",
      "userId": "00028506768877938944"
     },
     "user_tz": -540
    },
    "id": "JYYFKhEurVpR",
    "outputId": "3a4370dd-26bf-4155-c047-2cbb81684dc6"
   },
   "outputs": [
    {
     "name": "stdout",
     "output_type": "stream",
     "text": [
      "<class 'tuple'>\n",
      "(3, 2)\n"
     ]
    }
   ],
   "source": [
    "def add_mul(x,y):\n",
    "  s = x + y\n",
    "  m = x * y\n",
    "\n",
    "  return s, m\n",
    "\n",
    "c = add_mul(1,2) # tuple 반환 \n",
    "print(type(c))\n",
    "print(c)"
   ]
  },
  {
   "cell_type": "markdown",
   "metadata": {
    "id": "wH5dgcdOrVpR"
   },
   "source": [
    "#### **variable scope (변수의 범위)** \n",
    " + 변수가 참조 가능한 코드상의 범위를 명시\n",
    " + 함수내의 변수는 자신이 속한 코드 블록이 종료되면 소멸됨\n",
    " + 이렇게 특정 코드 블록에서 선언된 변수를 **지역변수(local variable)** 이라고 함\n",
    " + 반대로 가장 상단에서 정의되어 프로그램 종료 전까지 유지되는 변수를 **전역변수(global variable)**이라고 함\n",
    " + 같은 이름의 지역변수와 전역변수가 존재할 경우, 지역변수의 우선순위가 더 높음"
   ]
  },
  {
   "cell_type": "code",
   "execution_count": 16,
   "metadata": {
    "colab": {
     "base_uri": "https://localhost:8080/"
    },
    "executionInfo": {
     "elapsed": 864,
     "status": "ok",
     "timestamp": 1607411808252,
     "user": {
      "displayName": "김용길",
      "photoUrl": "",
      "userId": "00028506768877938944"
     },
     "user_tz": -540
    },
    "id": "Bm__pT-JrVpR",
    "outputId": "3044ca25-97df-49a9-95dd-fa15b2b19ed7"
   },
   "outputs": [
    {
     "name": "stdout",
     "output_type": "stream",
     "text": [
      "30 40\n",
      "70\n",
      "10 30\n"
     ]
    }
   ],
   "source": [
    "num1 = 10\n",
    "num2 = 30\n",
    "\n",
    "def test(num1, num2): # 생명주기가 코드블럭인 변수들을 지역변수(local variable)\n",
    "  print(num1, num2)\n",
    "  return num1 + num2\n",
    "\n",
    "print(test(30, 40))\n",
    "\n",
    "print(num1, num2) # num1과 num2는 그대로 10, 30 -> 전역변수"
   ]
  },
  {
   "cell_type": "markdown",
   "metadata": {
    "id": "0TQurFQQrVpR"
   },
   "source": [
    "#### **variable length argument (가변길이 인자)**\n",
    " - 전달되는 파라미터의 개수가 고정적이지 않은 경우 사용\n",
    " - e.g)\n",
    "   - print 함수\n",
    "   - format 함수\n",
    "  \n",
    "> ***args**,  ****kwargs**\n",
    "\n",
    "> ***args**    : 파라미터를 튜플의 형태로 전달\n",
    "\n",
    "> ****kwargs** : 파리미터를 딕셔너리 형태로 전달(네임드 파라미터)"
   ]
  },
  {
   "cell_type": "code",
   "execution_count": 17,
   "metadata": {
    "colab": {
     "base_uri": "https://localhost:8080/"
    },
    "executionInfo": {
     "elapsed": 853,
     "status": "ok",
     "timestamp": 1607411985056,
     "user": {
      "displayName": "김용길",
      "photoUrl": "",
      "userId": "00028506768877938944"
     },
     "user_tz": -540
    },
    "id": "SixTWPhLrVpR",
    "outputId": "b534451b-f84a-44b2-ee82-4c2b4e4c8411"
   },
   "outputs": [
    {
     "name": "stdout",
     "output_type": "stream",
     "text": [
      "\n",
      "1\n",
      "1 2\n",
      "1 3 4 5\n"
     ]
    }
   ],
   "source": [
    "print()\n",
    "print(1)\n",
    "print(1,2)\n",
    "print(1,3,4,5)\n",
    "# print 함수는 처리할 수 있는 파라미터의 개수가 동적임(가변 길이)"
   ]
  },
  {
   "cell_type": "code",
   "execution_count": 19,
   "metadata": {
    "colab": {
     "base_uri": "https://localhost:8080/"
    },
    "executionInfo": {
     "elapsed": 849,
     "status": "ok",
     "timestamp": 1607412073837,
     "user": {
      "displayName": "김용길",
      "photoUrl": "",
      "userId": "00028506768877938944"
     },
     "user_tz": -540
    },
    "id": "GWiKunM8OADw",
    "outputId": "ec0a12f1-0f8b-4d86-8344-2528c3e865ac"
   },
   "outputs": [
    {
     "name": "stdout",
     "output_type": "stream",
     "text": [
      "<class 'tuple'>\n",
      "None\n",
      "<class 'tuple'>\n",
      "None\n"
     ]
    }
   ],
   "source": [
    "def test(*x): # *를 붙이면 가변길이 파라미터가 됨\n",
    "  print(type(x))\n",
    "\n",
    "print(test())\n",
    "print(test(10,20,30))"
   ]
  },
  {
   "cell_type": "code",
   "execution_count": 21,
   "metadata": {
    "colab": {
     "base_uri": "https://localhost:8080/"
    },
    "executionInfo": {
     "elapsed": 872,
     "status": "ok",
     "timestamp": 1607412215288,
     "user": {
      "displayName": "김용길",
      "photoUrl": "",
      "userId": "00028506768877938944"
     },
     "user_tz": -540
    },
    "id": "KiM_IpmDOyRv",
    "outputId": "26f30f46-4f1b-41e9-940c-a77364176a95"
   },
   "outputs": [
    {
     "name": "stdout",
     "output_type": "stream",
     "text": [
      "1\n",
      "2\n",
      "3\n",
      "4\n",
      "None\n",
      "1\n",
      "2\n",
      "3\n",
      "4\n",
      "5\n",
      "6\n",
      "None\n"
     ]
    }
   ],
   "source": [
    "def test(*args): #argments : 관례적으로 가변길이 함수라고 명시 -> 튜플\n",
    "  for item in args:\n",
    "    print(item)\n",
    "\n",
    "print(test(1,2,3,4))\n",
    "print(test(1,2,3,4,5,6))"
   ]
  },
  {
   "cell_type": "markdown",
   "metadata": {
    "id": "yZAnYFV0rVpR"
   },
   "source": [
    "#### **keyword parameter (키워드 파라미터)**\n",
    " - \\**가 붙은 경우에는 키워드 파라미터로 인식\n",
    " - 즉 함수 호출 시, 파리미터의 이름과 값을 함께 전달 가능"
   ]
  },
  {
   "cell_type": "code",
   "execution_count": 22,
   "metadata": {
    "colab": {
     "base_uri": "https://localhost:8080/"
    },
    "executionInfo": {
     "elapsed": 712,
     "status": "ok",
     "timestamp": 1607412264210,
     "user": {
      "displayName": "김용길",
      "photoUrl": "",
      "userId": "00028506768877938944"
     },
     "user_tz": -540
    },
    "id": "5BAlH2_HrVpR",
    "outputId": "8ea44242-fa97-45ab-fda9-bd87cf8fea34"
   },
   "outputs": [
    {
     "name": "stdout",
     "output_type": "stream",
     "text": [
      "<class 'dict'>\n"
     ]
    }
   ],
   "source": [
    "def test2(**x): # 딕셔너리 타입\n",
    " print(type(x))\n",
    "\n",
    "test2(a=1,b=2,c=3)\n"
   ]
  },
  {
   "cell_type": "code",
   "execution_count": 23,
   "metadata": {
    "colab": {
     "base_uri": "https://localhost:8080/"
    },
    "executionInfo": {
     "elapsed": 772,
     "status": "ok",
     "timestamp": 1607412329338,
     "user": {
      "displayName": "김용길",
      "photoUrl": "",
      "userId": "00028506768877938944"
     },
     "user_tz": -540
    },
    "id": "rxHHXLh1PMIQ",
    "outputId": "b91e91c2-29e9-4130-e140-0c50c75a00cf"
   },
   "outputs": [
    {
     "name": "stdout",
     "output_type": "stream",
     "text": [
      "key: a , value: 1\n"
     ]
    }
   ],
   "source": [
    "def test2(**kwargs): # keyword arguments : 관례적인 딕셔너리 가변길이 함수 명시\n",
    "  for key, value in x.items():\n",
    "    print('key:', key, ', value:', value)\n",
    "\n",
    "test2(a=1)"
   ]
  },
  {
   "cell_type": "markdown",
   "metadata": {
    "id": "kCTgEY2WrVpR"
   },
   "source": [
    "* 가변길이 함수의 대표적인 예\n",
    " **문자열 포맷 함수**\n",
    " - 여러가지 값과 포맷을 이용하여 문자열을 정의할 수 있는 함수\n",
    " - {} placeholder를 문자열 내에 위치 시킨 후, 해당 위치에 format함수로 전달된 값으로 대체하여 문자열 생성\n",
    " - 포맷 구성은 다음 링크 참조 : https://pyformat.info/"
   ]
  },
  {
   "cell_type": "code",
   "execution_count": 24,
   "metadata": {
    "colab": {
     "base_uri": "https://localhost:8080/"
    },
    "executionInfo": {
     "elapsed": 810,
     "status": "ok",
     "timestamp": 1607412407915,
     "user": {
      "displayName": "김용길",
      "photoUrl": "",
      "userId": "00028506768877938944"
     },
     "user_tz": -540
    },
    "id": "ZOLPJy0QrVpR",
    "outputId": "a33f2e38-2834-4799-c7eb-154fcffaa6d5"
   },
   "outputs": [
    {
     "name": "stdout",
     "output_type": "stream",
     "text": [
      "오늘 온도 : 30도, 강수확률은 : 60%\n"
     ]
    }
   ],
   "source": [
    "a = \"오늘 온도 : 30도, 강수확률은 : 60%\"\n",
    "print(a)"
   ]
  },
  {
   "cell_type": "code",
   "execution_count": 26,
   "metadata": {
    "colab": {
     "base_uri": "https://localhost:8080/"
    },
    "executionInfo": {
     "elapsed": 745,
     "status": "ok",
     "timestamp": 1607412457542,
     "user": {
      "displayName": "김용길",
      "photoUrl": "",
      "userId": "00028506768877938944"
     },
     "user_tz": -540
    },
    "id": "lNjtpjpyPtqC",
    "outputId": "1774b9df-8d9d-457c-9c7b-39eaf1c0fde2"
   },
   "outputs": [
    {
     "name": "stdout",
     "output_type": "stream",
     "text": [
      "오늘 온도 : 20도, 강수확률은 : 50%\n"
     ]
    }
   ],
   "source": [
    "a = '오늘 온도 : {}도, 강수확률은 : {}%'.format(20,50)\n",
    "print(a)"
   ]
  },
  {
   "cell_type": "code",
   "execution_count": 29,
   "metadata": {
    "colab": {
     "base_uri": "https://localhost:8080/"
    },
    "executionInfo": {
     "elapsed": 611,
     "status": "ok",
     "timestamp": 1607412508617,
     "user": {
      "displayName": "김용길",
      "photoUrl": "",
      "userId": "00028506768877938944"
     },
     "user_tz": -540
    },
    "id": "2Tt2teUiP4o0",
    "outputId": "1d460ebd-8de2-44d1-d1f1-e4e8d25b3b96"
   },
   "outputs": [
    {
     "name": "stdout",
     "output_type": "stream",
     "text": [
      "오늘 온도 : 20도, 강수확률은 : 50%, 내일 온도 : 23도\n"
     ]
    }
   ],
   "source": [
    "a = '오늘 온도 : {}도, 강수확률림 : {}%, 내일 온도 : {}도'.format(20,50, 23)\n",
    "print(a) # 길이가 길어지면 헷갈림"
   ]
  },
  {
   "cell_type": "code",
   "execution_count": null,
   "metadata": {
    "id": "UsOykm6hQDfm"
   },
   "outputs": [],
   "source": [
    "a = '오늘 온도 : {today_temp}도, 강수확률림 : {prob}%, 내일 온도 : {tommorrow_temp}도'.format(tommorrow_temp=20,\n",
    "                                                                               50, 23)"
   ]
  }
 ],
 "metadata": {
  "colab": {
   "collapsed_sections": [],
   "name": "데이터_엔지니어링_파이썬_프로그래밍_Chapter 04 - 01. 함수의 이해 .ipynb",
   "provenance": []
  },
  "kernelspec": {
   "display_name": "Python 3",
   "language": "python",
   "name": "python3"
  },
  "language_info": {
   "codemirror_mode": {
    "name": "ipython",
    "version": 3
   },
   "file_extension": ".py",
   "mimetype": "text/x-python",
   "name": "python",
   "nbconvert_exporter": "python",
   "pygments_lexer": "ipython3",
   "version": "3.8.5"
  }
 },
 "nbformat": 4,
 "nbformat_minor": 1
}
