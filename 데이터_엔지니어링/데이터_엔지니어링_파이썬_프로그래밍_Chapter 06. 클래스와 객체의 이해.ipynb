{
 "cells": [
  {
   "cell_type": "markdown",
   "metadata": {
    "id": "fzr4FblEznn9"
   },
   "source": [
    "### 학습목표\n",
    " 1. 클래스와 오브젝트에 대한 이해"
   ]
  },
  {
   "cell_type": "markdown",
   "metadata": {
    "id": "r0tV1AvKznoH"
   },
   "source": [
    "#### **class란?**\n",
    " + 실세계의 것을 모델링하여 속성(attribute)와 동작(method)를 갖는 데이터 타입\n",
    " + python에서의 string, int, list, dict.. 모두가 다 클래스로 존재\n",
    " + 예를들어 학생이라는 클래스를 만든다면, 학생을 나타내는 속성과 학생이 행하는 행동을 함께 정의 할 수 있음\n",
    " + 따라서, 다루고자 하는 데이터(변수) 와 데이터를 다루는 연산(함수)를 하나로 캡슐화(encapsulation)하여 클래스로 표현\n",
    " + 모델링에서 중요시 하는 속성에 따라 클래스의 속성과 행동이 각각 달라짐"
   ]
  },
  {
   "cell_type": "markdown",
   "metadata": {
    "id": "rO0KEc0fznoJ"
   },
   "source": [
    "List는 클래스 라는 타입\n",
    "\n",
    "```[1,2,3]```\n",
    "```['Hello','World']```\n",
    "는 실제로 존재하는 객체(Object)"
   ]
  },
  {
   "cell_type": "code",
   "execution_count": null,
   "metadata": {
    "colab": {
     "base_uri": "https://localhost:8080/"
    },
    "executionInfo": {
     "elapsed": 522,
     "status": "ok",
     "timestamp": 1607925424810,
     "user": {
      "displayName": "김용길",
      "photoUrl": "",
      "userId": "00028506768877938944"
     },
     "user_tz": -540
    },
    "id": "7wp1gupi0jsa",
    "outputId": "e673661a-3913-4d42-e097-c387e8c9f3d3"
   },
   "outputs": [
    {
     "name": "stdout",
     "output_type": "stream",
     "text": [
      "[1, 2, 3, 4, 5]\n"
     ]
    }
   ],
   "source": [
    "a = [1,2,3,4]\n",
    "a.append(5) # 자신의 속성에 5라는 객체를 추가(행동)\n",
    "print(a)"
   ]
  },
  {
   "cell_type": "markdown",
   "metadata": {
    "id": "gf3qAVnUznoK"
   },
   "source": [
    "#### **object 란?**\n",
    " - 클래스로 생성되어 구체화된 객체(인스턴스)\n",
    " - 파이썬의 모든 것(int, str, list..etc)은 객체(인스턴스)\n",
    " - 실제로 class가 인스턴스화 되어 메모리에 상주하는 상태를 의미\n",
    " - class가 빵틀이라면, object는 실제로 빵틀로 찍어낸 빵이라고 비유 가능\n"
   ]
  },
  {
   "cell_type": "code",
   "execution_count": null,
   "metadata": {
    "id": "MWrc4X55znoK"
   },
   "outputs": [],
   "source": []
  },
  {
   "cell_type": "markdown",
   "metadata": {
    "id": "aYhu4503znoL"
   },
   "source": [
    "#### **class 선언하기**\n",
    "  - 객체를 생성하기 위해선 객체의 모체가 되는 class를 미리 선언해야 함 "
   ]
  },
  {
   "cell_type": "code",
   "execution_count": null,
   "metadata": {
    "colab": {
     "base_uri": "https://localhost:8080/",
     "height": 129
    },
    "executionInfo": {
     "elapsed": 777,
     "status": "error",
     "timestamp": 1607925486608,
     "user": {
      "displayName": "김용길",
      "photoUrl": "",
      "userId": "00028506768877938944"
     },
     "user_tz": -540
    },
    "id": "H14e0W3uznoL",
    "outputId": "43fc226f-6a69-4616-818f-a76d6a87de08"
   },
   "outputs": [
    {
     "ename": "SyntaxError",
     "evalue": "ignored",
     "output_type": "error",
     "traceback": [
      "\u001b[0;36m  File \u001b[0;32m\"<ipython-input-2-80676caf91e2>\"\u001b[0;36m, line \u001b[0;32m1\u001b[0m\n\u001b[0;31m    class Person:\u001b[0m\n\u001b[0m                 ^\u001b[0m\n\u001b[0;31mSyntaxError\u001b[0m\u001b[0;31m:\u001b[0m unexpected EOF while parsing\n"
     ]
    }
   ],
   "source": [
    "class Person:\n",
    "  # 오류 발생"
   ]
  },
  {
   "cell_type": "code",
   "execution_count": null,
   "metadata": {
    "id": "OP8GnAO30_RT"
   },
   "outputs": [],
   "source": [
    "def test():\n",
    "  pass\n",
    "def test2():\n",
    "  pass\n",
    "class Person:\n",
    "  pass\n",
    "\n",
    "# pass로 빈 함수나 클래스 생성"
   ]
  },
  {
   "cell_type": "code",
   "execution_count": null,
   "metadata": {
    "colab": {
     "base_uri": "https://localhost:8080/"
    },
    "executionInfo": {
     "elapsed": 795,
     "status": "ok",
     "timestamp": 1607925602223,
     "user": {
      "displayName": "김용길",
      "photoUrl": "",
      "userId": "00028506768877938944"
     },
     "user_tz": -540
    },
    "id": "FbmATxgq1K8u",
    "outputId": "8b4f2c74-11da-4951-9434-5ef35ec09ff7"
   },
   "outputs": [
    {
     "name": "stdout",
     "output_type": "stream",
     "text": [
      "<class '__main__.Person'> <class '__main__.Person'> <class 'list'>\n"
     ]
    }
   ],
   "source": [
    "bob = Person()\n",
    "cathy = Person()\n",
    "a = list()\n",
    "print(type(bob), type(cathy), type(a))"
   ]
  },
  {
   "cell_type": "markdown",
   "metadata": {
    "id": "FfflpVsCznoL"
   },
   "source": [
    "#### __init__(self)\n",
    " + 생성자, 클래스 인스턴스가 생성될 때 호출됨\n",
    " + self인자는 항상 첫번째에 오며 자기 자신을 가리킴\n",
    " + 이름이 꼭 self일 필요는 없지만, 관례적으로 self로 사용\n",
    " \n",
    " + 생성자에서는 해당 클래스가 다루는 데이터를 정의\n",
    "   - 이 데이터를 멤버 변수(member variable) 또는 속성(attribute)라고 함"
   ]
  },
  {
   "cell_type": "code",
   "execution_count": null,
   "metadata": {
    "colab": {
     "base_uri": "https://localhost:8080/"
    },
    "executionInfo": {
     "elapsed": 762,
     "status": "ok",
     "timestamp": 1607925900059,
     "user": {
      "displayName": "김용길",
      "photoUrl": "",
      "userId": "00028506768877938944"
     },
     "user_tz": -540
    },
    "id": "0hgBJJhNznoM",
    "outputId": "9057c639-d725-4278-9452-df909b6952c4"
   },
   "outputs": [
    {
     "name": "stdout",
     "output_type": "stream",
     "text": [
      "<__main__.Person object at 0x7f984e88bdd8> is generated\n",
      "<__main__.Person object at 0x7f984e88ba20> is generated\n",
      "aaron 20\n"
     ]
    }
   ],
   "source": [
    "class Person:\n",
    "  def __init__(self):\n",
    "    print(self , 'is generated')\n",
    "    self.name = 'Kate'\n",
    "    self.age = '10'\n",
    "# Person이라고 하는 타입(클래스)가 두가지의 속성을 가지고\n",
    "# 그 속성은 name과 age\n",
    "# 이럴때 Person의 어떠한 객체를 생성해도 그 객체의 이름과 나이는 케이트와 10\n",
    "\n",
    "p1 = Person() # 괄호를 열어 그 타입의 객체를 생성할때 __init__ 함수가 호출됨\n",
    "p2 = Person()\n",
    "\n",
    "p1.name, p1.age\n",
    "\n",
    "p1.name = \"aaron\"\n",
    "p1.age = 20\n",
    "\n",
    "print(p1.name, p1.age)"
   ]
  },
  {
   "cell_type": "code",
   "execution_count": null,
   "metadata": {
    "colab": {
     "base_uri": "https://localhost:8080/"
    },
    "executionInfo": {
     "elapsed": 561,
     "status": "ok",
     "timestamp": 1607926123146,
     "user": {
      "displayName": "김용길",
      "photoUrl": "",
      "userId": "00028506768877938944"
     },
     "user_tz": -540
    },
    "id": "0nWssRLS18x5",
    "outputId": "2e418288-def8-4923-a111-ea4b34c9e424"
   },
   "outputs": [
    {
     "name": "stdout",
     "output_type": "stream",
     "text": [
      "Bob 30\n",
      "Kate 20\n",
      "Aaron 10\n"
     ]
    }
   ],
   "source": [
    "# 동적으로 생성\n",
    "class Person:\n",
    "  def __init__(self, name, age=10): # init메서드에 name, age 파라미터 추가\n",
    "  # 기본값을 가질 수 있음\n",
    "   # print(self , 'is generated')\n",
    "    self.name = name\n",
    "    self.age = age\n",
    "\n",
    "p1 = Person('Bob', 30)\n",
    "p2 = Person('Kate', 20)\n",
    "p3 = Person(\"Aaron\")\n",
    "\n",
    "print(p1.name, p1.age)\n",
    "print(p2.name, p2.age)\n",
    "print(p3.name, p3.age)"
   ]
  },
  {
   "cell_type": "markdown",
   "metadata": {
    "id": "k5ZLhMZz3gJq"
   },
   "source": [
    "#### **self**\n",
    " - 파이썬의 method는 항상 첫번째 인자로 self를 전달\n",
    " - self는 현재 해당 메쏘드가 호출되는 객체 자신을 가리킴\n",
    " - C++/C#, Java의 this에 해당\n",
    " - 역시, 이름이 self일 필요는 없으나, 위치는 항상 맨 처음의 parameter이며 관례적으로 self로 사용"
   ]
  },
  {
   "cell_type": "code",
   "execution_count": null,
   "metadata": {
    "colab": {
     "base_uri": "https://localhost:8080/"
    },
    "executionInfo": {
     "elapsed": 870,
     "status": "ok",
     "timestamp": 1607926464756,
     "user": {
      "displayName": "김용길",
      "photoUrl": "",
      "userId": "00028506768877938944"
     },
     "user_tz": -540
    },
    "id": "a1aciuRs3rIE",
    "outputId": "81f851fe-8f33-4dc6-9ddc-b61b9f5a28bf"
   },
   "outputs": [
    {
     "name": "stdout",
     "output_type": "stream",
     "text": [
      "self :  <__main__.Person object at 0x7f984e8acac8>\n",
      "self :  <__main__.Person object at 0x7f984e8ac710>\n",
      "<__main__.Person object at 0x7f984e8acac8>\n",
      "<__main__.Person object at 0x7f984e8ac710>\n",
      " \n",
      "<__main__.Person object at 0x7f984e8acac8>\n",
      "Aaron 은 잠을 잡니다.\n",
      "<__main__.Person object at 0x7f984e8ac710>\n",
      "Bob 은 잠을 잡니다.\n"
     ]
    }
   ],
   "source": [
    "class Person:\n",
    "  def __init__(self, name, age): \n",
    "    print(\"self : \", self)\n",
    "    self.name = name\n",
    "    self.age = age\n",
    "  \n",
    "  def sleep(self):\n",
    "    print(self)\n",
    "    print(self.name, '은 잠을 잡니다.')\n",
    "\n",
    "a = Person(\"Aaron\", 20)\n",
    "b = Person(\"Bob\", 30)\n",
    "\n",
    "print(a)\n",
    "print(b)\n",
    "# self는 그 객체 자기자신\n",
    "\n",
    "print(\" \")\n",
    "\n",
    "a.sleep()\n",
    "b.sleep()"
   ]
  },
  {
   "cell_type": "markdown",
   "metadata": {
    "id": "EmOoQ1ReznoM"
   },
   "source": [
    "#### **mehtod 정의**\n",
    " + 멤버함수라고도 하며, 해당 클래스의 object에서만 호출가능\n",
    " + 메쏘드는 객체 레벨에서 호출되며, 해당 객체의 속성에 대한 연산을 행함\n",
    " + {obj}.{method}() 형태로 호출됨"
   ]
  },
  {
   "cell_type": "code",
   "execution_count": null,
   "metadata": {
    "colab": {
     "base_uri": "https://localhost:8080/"
    },
    "executionInfo": {
     "elapsed": 744,
     "status": "ok",
     "timestamp": 1607926650098,
     "user": {
      "displayName": "김용길",
      "photoUrl": "",
      "userId": "00028506768877938944"
     },
     "user_tz": -540
    },
    "id": "GBTDV79pznoN",
    "outputId": "22c0fc1f-a8b2-4799-bcbd-85e8d245e1a2"
   },
   "outputs": [
    {
     "data": {
      "text/plain": [
       "0"
      ]
     },
     "execution_count": 26,
     "metadata": {
      "tags": []
     },
     "output_type": "execute_result"
    }
   ],
   "source": [
    "class Counter:\n",
    "  def __init__(self):\n",
    "    self.num = 0\n",
    "\n",
    "c1 = Counter()\n",
    "c1.num"
   ]
  },
  {
   "cell_type": "code",
   "execution_count": null,
   "metadata": {
    "colab": {
     "base_uri": "https://localhost:8080/"
    },
    "executionInfo": {
     "elapsed": 751,
     "status": "ok",
     "timestamp": 1607926721780,
     "user": {
      "displayName": "김용길",
      "photoUrl": "",
      "userId": "00028506768877938944"
     },
     "user_tz": -540
    },
    "id": "cuUKbgl45Z8D",
    "outputId": "a4e0cfbe-22e4-4b48-b527-3774d6e01624"
   },
   "outputs": [
    {
     "name": "stdout",
     "output_type": "stream",
     "text": [
      "현재값은 : 0\n"
     ]
    }
   ],
   "source": [
    "class Counter:\n",
    "  def __init__(self):\n",
    "    self.num = 0\n",
    "  def print_current_value(self):\n",
    "    print(\"현재값은 :\",self.num)\n",
    "\n",
    "\n",
    "c1 = Counter()\n",
    "c1.print_current_value()"
   ]
  },
  {
   "cell_type": "code",
   "execution_count": null,
   "metadata": {
    "colab": {
     "base_uri": "https://localhost:8080/"
    },
    "executionInfo": {
     "elapsed": 729,
     "status": "ok",
     "timestamp": 1607926873581,
     "user": {
      "displayName": "김용길",
      "photoUrl": "",
      "userId": "00028506768877938944"
     },
     "user_tz": -540
    },
    "id": "2eSwZ-qH5s14",
    "outputId": "7a2d4bb2-35f3-47ad-afd2-5aa3dbe93343"
   },
   "outputs": [
    {
     "name": "stdout",
     "output_type": "stream",
     "text": [
      "현재값은 : 0\n",
      "현재값은 : 3\n",
      "현재값은 : 0\n",
      "현재값은 : 1\n"
     ]
    }
   ],
   "source": [
    "# 1. 숫자를 하나 증가\n",
    "# 2. 숫자를 0으로 초기화\n",
    "\n",
    "class Counter:\n",
    "  def __init__(self):\n",
    "    self.num = 0\n",
    "\n",
    "  def increment(self):\n",
    "    self.num += 1\n",
    "\n",
    "  def reset(self):\n",
    "    self.num = 0\n",
    "\n",
    "  def print_current_value(self):\n",
    "    print(\"현재값은 :\",self.num)\n",
    "\n",
    "\n",
    "c1 = Counter()\n",
    "c1.print_current_value()\n",
    "c1.increment()\n",
    "c1.increment()\n",
    "c1.increment()\n",
    "c1.print_current_value()\n",
    "\n",
    "c1.reset()\n",
    "c1.print_current_value()\n",
    "\n",
    "c2 = Counter()\n",
    "c2.increment()\n",
    "c2.print_current_value()"
   ]
  },
  {
   "cell_type": "markdown",
   "metadata": {
    "id": "KyhYazOz7WAy"
   },
   "source": [
    "#### **method type**\n",
    " - instance method - 객체로 호출\n",
    "   - 메쏘드는 객체 레벨로 호출 되기 때문에, 해당 메쏘드를 호출한 객체에만 영향을 미침\n",
    " - class method    - class로 호출\n",
    "       - 클래스 메쏘드의 경우, 클래스 레벨로 호출되기 때문에, 클래스 멤버 변수만 변경 가능\n"
   ]
  },
  {
   "cell_type": "code",
   "execution_count": null,
   "metadata": {
    "colab": {
     "base_uri": "https://localhost:8080/"
    },
    "executionInfo": {
     "elapsed": 834,
     "status": "ok",
     "timestamp": 1607927232851,
     "user": {
      "displayName": "김용길",
      "photoUrl": "",
      "userId": "00028506768877938944"
     },
     "user_tz": -540
    },
    "id": "W0-UYjNy7ZK3",
    "outputId": "e0c3eea0-c8c9-4411-bd33-cbf0935d74bc"
   },
   "outputs": [
    {
     "data": {
      "text/plain": [
       "200"
      ]
     },
     "execution_count": 47,
     "metadata": {
      "tags": []
     },
     "output_type": "execute_result"
    }
   ],
   "source": [
    "class Math:\n",
    "  @staticmethod # 데코레이터 -> 스태틱메소드라고 명시해두는 파이썬 약속 \n",
    "  def add(a, b):\n",
    "    return a+b\n",
    "  @staticmethod\n",
    "  def multiply(a,b):\n",
    "    return a*b\n",
    "\n",
    "# 스태틱 메소드는 함수처럼 사용할 수 있음\n",
    "Math.add(10,20)\n",
    "Math.multiply(10,20)"
   ]
  },
  {
   "cell_type": "markdown",
   "metadata": {
    "id": "giumV9poznoN"
   },
   "source": [
    " #### **Class Inheritance (상속)**\n",
    "  - 기존에 정의해둔 클래스의 기능을 그대로 물려받을 수 있다.\n",
    "  - 기존 클래스에 기능 일부를 추가하거나, 변경하여 새로운 클래스를 정의한다.\n",
    "  - 코드를 재사용할 수 있게된다.\n",
    "  - 상속 받고자 하는 대상인 기존 클래스는 (Parent, Super, Base class 라고 부른다.)\n",
    "  - 상속 받는 새로운 클래스는(Child, Sub, Derived class 라고 부른다.)\n",
    "  - 의미적으로 is-a관계를 갖는다"
   ]
  },
  {
   "cell_type": "code",
   "execution_count": null,
   "metadata": {
    "colab": {
     "base_uri": "https://localhost:8080/"
    },
    "executionInfo": {
     "elapsed": 681,
     "status": "ok",
     "timestamp": 1607927683080,
     "user": {
      "displayName": "김용길",
      "photoUrl": "",
      "userId": "00028506768877938944"
     },
     "user_tz": -540
    },
    "id": "NYst4WYnznoN",
    "outputId": "20ff6718-9d14-4d74-9390-bb8fcb660b19"
   },
   "outputs": [
    {
     "name": "stdout",
     "output_type": "stream",
     "text": [
      "Bob은 BBQ를 먹습니다.\n",
      "Bob은 30분 동안 잡니다.\n",
      "Bob은 60분 동안 일합니다.\n"
     ]
    }
   ],
   "source": [
    "class Person: # 부모 클래스\n",
    "  def __init__(self, name, age):\n",
    "    self.name = name\n",
    "    self.age = age\n",
    "\n",
    "  def eat(self, food):\n",
    "    print('{}은 {}를 먹습니다.'.format(self.name, food))\n",
    "\n",
    "  def sleep(self, minute):\n",
    "    print('{}은 {}분 동안 잡니다.'.format(self.name, minute))\n",
    "    pass\n",
    "\n",
    "  def work(self, minute):\n",
    "    print('{}은 {}분 동안 일합니다.'.format(self.name, minute))\n",
    "\n",
    "class Student(Person): # Person을 상속받음\n",
    "  def __init__(self, name, age):\n",
    "    self.name = name\n",
    "    self.age = age\n",
    "\n",
    "class Employee(Person):\n",
    "  def __init__(self, name, age):\n",
    "    self.name = name\n",
    "    self.age = age\n",
    "\n",
    "bob = Person(\"Bob\",25)\n",
    "bob.eat(\"BBQ\")\n",
    "bob.sleep(30)\n",
    "bob.work(60)\n",
    "\n",
    "bob2 = Student(\"Bob\", 25)"
   ]
  },
  {
   "cell_type": "code",
   "execution_count": null,
   "metadata": {
    "colab": {
     "base_uri": "https://localhost:8080/"
    },
    "executionInfo": {
     "elapsed": 862,
     "status": "ok",
     "timestamp": 1607927737022,
     "user": {
      "displayName": "김용길",
      "photoUrl": "",
      "userId": "00028506768877938944"
     },
     "user_tz": -540
    },
    "id": "PC8xjbF69bFO",
    "outputId": "e413a21e-02a5-4675-aa70-4b82ec4245df"
   },
   "outputs": [
    {
     "name": "stdout",
     "output_type": "stream",
     "text": [
      "Bob은 BBQ를 먹습니다.\n",
      "Bob은 30분 동안 잡니다.\n",
      "Bob은 60분 동안 일합니다.\n"
     ]
    }
   ],
   "source": [
    "# Person을 그대로 상속받음\n",
    "bob2 = Student(\"Bob\",25)\n",
    "bob2.eat(\"BBQ\")\n",
    "bob2.sleep(30)\n",
    "bob2.work(60)"
   ]
  },
  {
   "cell_type": "markdown",
   "metadata": {
    "id": "ZdDrv5h_78mm"
   },
   "source": [
    "학생 클래스와 직원 클래스를 만드는데 학생과 직원이 하는 공통된 일이 있음 \n",
    "\n",
    "->\n",
    "\n",
    "Person이라는 부모 클래스를 만들어서 학생 클래스와 직원 클래스에 상속"
   ]
  },
  {
   "cell_type": "markdown",
   "metadata": {
    "id": "F1V5Z6p9znoO"
   },
   "source": [
    "#### **method override**\n",
    " - 부모 클래스의 method를 재정의(override)\n",
    " - 하위 클래스(자식 클래스) 의 인스턴스로 호출시, 재정의된 메소드가 호출됨"
   ]
  },
  {
   "cell_type": "markdown",
   "metadata": {
    "id": "zsufizEfBCiy"
   },
   "source": [
    "Person의 work는 Student 클래스에서 필요없음"
   ]
  },
  {
   "cell_type": "code",
   "execution_count": null,
   "metadata": {
    "colab": {
     "base_uri": "https://localhost:8080/"
    },
    "executionInfo": {
     "elapsed": 1403,
     "status": "ok",
     "timestamp": 1607928754013,
     "user": {
      "displayName": "김용길",
      "photoUrl": "",
      "userId": "00028506768877938944"
     },
     "user_tz": -540
    },
    "id": "D355N8Z3BCI9",
    "outputId": "31935264-1ac5-4f90-fea5-fdc0b018fce6"
   },
   "outputs": [
    {
     "name": "stdout",
     "output_type": "stream",
     "text": [
      "Bob은 BBQ를 먹습니다.\n",
      "Bob은 30분 동안 잡니다.\n",
      "Bob은 60분 동안 일합니다.\n"
     ]
    }
   ],
   "source": [
    "class Person: # 부모 클래스\n",
    "  def __init__(self, name, age):\n",
    "    self.name = name\n",
    "    self.age = age\n",
    "\n",
    "  def eat(self, food):\n",
    "    print('{}은 {}를 먹습니다.'.format(self.name, food))\n",
    "\n",
    "  def sleep(self, minute):\n",
    "    print('{}은 {}분 동안 잡니다.'.format(self.name, minute))\n",
    "    pass\n",
    "\n",
    "  def work(self, minute):\n",
    "    print('{}은 {}분 동안 일합니다.'.format(self.name, minute))\n",
    "\n",
    "class Student(Person): # Person을 상속받음\n",
    "  def __init__(self, name, age):\n",
    "    self.name = name\n",
    "    self.age = age\n",
    "\n",
    "  def work(self, minute):\n",
    "    print('{}은 {}분 동안 공부합니다.'.format(self.name, minute))\n",
    "# 재정의\n",
    "\n",
    "class Employee(Person):\n",
    "  def __init__(self, name, age):\n",
    "    self.name = name\n",
    "    self.age = age\n",
    "\n",
    "  def work(self, minute):\n",
    "    print('{}은 {}분 동안 업무합니다.'.format(self.name, minute))\n",
    "\n",
    "\n",
    "bob = Person(\"Bob\",25)\n",
    "bob.eat(\"BBQ\")\n",
    "bob.sleep(30)\n",
    "bob.work(60)\n"
   ]
  },
  {
   "cell_type": "code",
   "execution_count": null,
   "metadata": {
    "colab": {
     "base_uri": "https://localhost:8080/"
    },
    "executionInfo": {
     "elapsed": 1251,
     "status": "ok",
     "timestamp": 1607928772659,
     "user": {
      "displayName": "김용길",
      "photoUrl": "",
      "userId": "00028506768877938944"
     },
     "user_tz": -540
    },
    "id": "MgIsymz5znoO",
    "outputId": "9ae63b7a-1817-48c0-a276-028991d9d887"
   },
   "outputs": [
    {
     "name": "stdout",
     "output_type": "stream",
     "text": [
      "Bob은 BBQ를 먹습니다.\n",
      "Bob은 30분 동안 잡니다.\n",
      "Bob은 60분 동안 공부합니다.\n"
     ]
    }
   ],
   "source": [
    "bob = Student(\"Bob\",25)\n",
    "bob.eat(\"BBQ\")\n",
    "bob.sleep(30)\n",
    "bob.work(60) # work가 재정의 됨\n"
   ]
  },
  {
   "cell_type": "code",
   "execution_count": null,
   "metadata": {
    "colab": {
     "base_uri": "https://localhost:8080/"
    },
    "executionInfo": {
     "elapsed": 732,
     "status": "ok",
     "timestamp": 1607928807289,
     "user": {
      "displayName": "김용길",
      "photoUrl": "",
      "userId": "00028506768877938944"
     },
     "user_tz": -540
    },
    "id": "lR2eMnxCBmGh",
    "outputId": "f73421dc-4bb4-4893-ccfc-a8fbdbc8f8ca"
   },
   "outputs": [
    {
     "name": "stdout",
     "output_type": "stream",
     "text": [
      "Bob은 BBQ를 먹습니다.\n",
      "Bob은 30분 동안 잡니다.\n",
      "Bob은 60분 동안 일합니다.\n"
     ]
    }
   ],
   "source": [
    "bob = Employee(\"Bob\",25)\n",
    "bob.eat(\"BBQ\")\n",
    "bob.sleep(30)\n",
    "bob.work(60) # work가 재정의 됨\n"
   ]
  },
  {
   "cell_type": "markdown",
   "metadata": {
    "id": "Ni8VELecznoO"
   },
   "source": [
    "#### super \n",
    " - 하위클래스(자식 클래스)에서 부모클래스의 method를 호출할 때 사용"
   ]
  },
  {
   "cell_type": "code",
   "execution_count": null,
   "metadata": {
    "id": "n2wTo6EgznoO"
   },
   "outputs": [],
   "source": [
    "class Person: # 부모 클래스\n",
    "  def __init__(self, name, age):\n",
    "    self.name = name\n",
    "    self.age = age\n",
    "\n",
    "  def eat(self, food):\n",
    "    print('{}은 {}를 먹습니다.'.format(self.name, food))\n",
    "\n",
    "  def sleep(self, minute):\n",
    "    print('{}은 {}분 동안 잡니다.'.format(self.name, minute))\n",
    "    \n",
    "\n",
    "  def work(self, minute):\n",
    "    print('{}은 {}분 동안 준비합니다.'.format(self.name, minute))\n",
    "\n",
    "class Student(Person): # Person을 상속받음\n",
    "  def __init__(self, name, age):\n",
    "    self.name = name\n",
    "    self.age = age\n",
    "\n",
    "  def work(self, minute):\n",
    "    super().work(minute)\n",
    "    print('{}은 {}분 동안 공부합니다.'.format(self.name, minute))\n",
    "\n",
    "\n",
    "class Employee(Person):\n",
    "  def __init__(self, name, age):\n",
    "    self.name = name\n",
    "    self.age = age\n",
    "\n",
    "  def work(self, minute):\n",
    "    super().work(minute)\n",
    "    print('{}은 {}분 동안 업무합니다.'.format(self.name, minute))"
   ]
  },
  {
   "cell_type": "code",
   "execution_count": null,
   "metadata": {
    "colab": {
     "base_uri": "https://localhost:8080/"
    },
    "executionInfo": {
     "elapsed": 732,
     "status": "ok",
     "timestamp": 1607928920497,
     "user": {
      "displayName": "김용길",
      "photoUrl": "",
      "userId": "00028506768877938944"
     },
     "user_tz": -540
    },
    "id": "wXe4-KLdB4eb",
    "outputId": "4f6af14b-8453-44c2-97db-16de5ab548ab"
   },
   "outputs": [
    {
     "name": "stdout",
     "output_type": "stream",
     "text": [
      "Bob은 BBQ를 먹습니다.\n",
      "Bob은 30분 동안 잡니다.\n",
      "Bob은 60분 동안 준비합니다.\n",
      "Bob은 60분 동안 업무합니다.\n"
     ]
    }
   ],
   "source": [
    "bob = Employee(\"Bob\",25)\n",
    "bob.eat(\"BBQ\")\n",
    "bob.sleep(30)\n",
    "bob.work(60) # 부모클래스의 work도 사용하면서 재정의한 클래스도 사용\n"
   ]
  },
  {
   "cell_type": "markdown",
   "metadata": {
    "id": "teDco94VznoP"
   },
   "source": [
    "#### **method type**\n",
    " - instance method - 객체로 호출\n",
    "   - 메쏘드는 객체 레벨로 호출 되기 때문에, 해당 메쏘드를 호출한 객체에만 영향을 미침\n",
    " - class method    - class로 호출\n",
    "       - 클래스 메쏘드의 경우, 클래스 레벨로 호출되기 때문에, 클래스 멤버 변수만 변경 가능\n"
   ]
  },
  {
   "cell_type": "code",
   "execution_count": null,
   "metadata": {
    "id": "LQJ6nV-LCmS4"
   },
   "outputs": [],
   "source": [
    "# Point\n",
    "# 2차원 좌표평면 각 점(x, y)\n",
    "\n",
    "# 연산\n",
    "# 두점의 덧셈, 뺄셈 ex) (1,2) + (3,4) = (4,6)\n",
    "# 한 점과 숫자의 곱셈\n",
    "# 그 점의 원점으로 부터의 거리\n",
    "# x,y 값 가져오기\n",
    "# 출력하기\n",
    "\n",
    "class Point:\n",
    "  def __init__(self, x, y):\n",
    "    self.x = x\n",
    "    self.y = y\n",
    "\n",
    "  def print_pt(self):\n",
    "    print('({}, {})'.format(self.x, self.y))\n",
    "\n",
    "  "
   ]
  },
  {
   "cell_type": "code",
   "execution_count": null,
   "metadata": {
    "colab": {
     "base_uri": "https://localhost:8080/"
    },
    "executionInfo": {
     "elapsed": 756,
     "status": "ok",
     "timestamp": 1607929416684,
     "user": {
      "displayName": "김용길",
      "photoUrl": "",
      "userId": "00028506768877938944"
     },
     "user_tz": -540
    },
    "id": "Tor7aK9LD61q",
    "outputId": "6879ecb0-e020-4a6b-ce17-17d156b8c63b"
   },
   "outputs": [
    {
     "name": "stdout",
     "output_type": "stream",
     "text": [
      "(3, 4)\n"
     ]
    }
   ],
   "source": [
    "p1 = Point(3,4)\n",
    "p1.print_pt() d\n",
    "# 이런식으로말고 print(p1) 으로 출력하고 싶음"
   ]
  },
  {
   "cell_type": "code",
   "execution_count": null,
   "metadata": {
    "colab": {
     "base_uri": "https://localhost:8080/"
    },
    "executionInfo": {
     "elapsed": 847,
     "status": "ok",
     "timestamp": 1607930707251,
     "user": {
      "displayName": "김용길",
      "photoUrl": "",
      "userId": "00028506768877938944"
     },
     "user_tz": -540
    },
    "id": "Y2mEmSKSEL8D",
    "outputId": "a467ce4d-cbbe-4953-9072-d698a7d3c817"
   },
   "outputs": [
    {
     "name": "stdout",
     "output_type": "stream",
     "text": [
      "25\n",
      "3\n",
      "(3, 4)\n",
      "(5, 11)\n",
      "(1, -3)\n",
      "(9, 12)\n"
     ]
    }
   ],
   "source": [
    "class Point:\n",
    "  def __init__(self, x, y):\n",
    "    self.x = x\n",
    "    self.y = y\n",
    "\n",
    "  def __add__(self, pt):\n",
    "    new_x = self.x + pt.x\n",
    "    new_y = self.y + pt.y\n",
    "    return Point(new_x, new_y)\n",
    "\n",
    "  def __sub__(self, pt):\n",
    "    new_x = self.x - pt.x\n",
    "    new_y = self.y - pt.y\n",
    "    return Point(new_x, new_y)\n",
    "\n",
    "#  def multiply(self, factor):\n",
    "#   return Point(self.x * factor, self.y * factor)\n",
    "\n",
    "  def __mul__(self, factor):\n",
    "    return Point(self.x * factor, self.y * factor)\n",
    "\n",
    "#  def length(self):\n",
    "#    return self.x ** 2 + self.y ** 2\n",
    "  def __len__(self):\n",
    "    return self.x ** 2 + self.y ** 2\n",
    "\n",
    "#  def get_x(self):\n",
    "#    return self.x\n",
    "#  def get_y(self):\n",
    "#    return self.y\n",
    "  def __getitem__(self, index):\n",
    "    if index == 0:\n",
    "      return self.x\n",
    "    elif index == 1:\n",
    "      return self.y\n",
    "    else:\n",
    "      return -1\n",
    "\n",
    "  def __str__(self): # print(p1)이 되도록 만들어줌\n",
    "    return '({}, {})'.format(self.x, self.y)\n",
    "\n",
    "p1 = Point(3,4)\n",
    "p2 = Point(2,7)\n",
    "\n",
    "# p3 = p1 + p2 로 사용하고 싶음 -> __add__\n",
    "p3 = p1 + p2\n",
    "p4 = p1 - p2\n",
    "\n",
    "# p5 = p1.multiply(3)\n",
    "p5 = p1 * 3\n",
    "\n",
    "# print(p1.length() -> len(p1) 으로 나오도록\n",
    "print(len(p1))\n",
    "\n",
    "# print(p1.get_x())\n",
    "# print(p1.get_y()) -> p1[0] = x 값이 나오도록\n",
    "print(p1[0])\n",
    "\n",
    "print(p1)\n",
    "print(p3)\n",
    "print(p4)\n",
    "print(p5)"
   ]
  },
  {
   "cell_type": "code",
   "execution_count": null,
   "metadata": {
    "colab": {
     "base_uri": "https://localhost:8080/"
    },
    "executionInfo": {
     "elapsed": 599,
     "status": "ok",
     "timestamp": 1607929524642,
     "user": {
      "displayName": "김용길",
      "photoUrl": "",
      "userId": "00028506768877938944"
     },
     "user_tz": -540
    },
    "id": "erl460GrEWWv",
    "outputId": "582b762b-1049-4f64-fc43-b2aca0754997"
   },
   "outputs": [
    {
     "name": "stdout",
     "output_type": "stream",
     "text": [
      "<__main__.Point object at 0x7f984e7f0358>\n"
     ]
    }
   ],
   "source": [
    "print(p1)"
   ]
  },
  {
   "cell_type": "markdown",
   "metadata": {
    "id": "uKl6STjVznoQ"
   },
   "source": [
    "\n",
    "\n",
    "#### **special method**\n",
    " - __로 시작 __로 끝나는 특수 함수\n",
    " - 해당 메쏘드들을 구현하면, 커스텀 객체에 여러가지 파이썬 내장 함수나 연산자를 적용 가능\n",
    " - 오버라이딩 가능한 함수 목록은 아래 링크에서 참조 \n",
    "   - https://docs.python.org/3/reference/datamodel.html"
   ]
  },
  {
   "cell_type": "code",
   "execution_count": null,
   "metadata": {
    "id": "dbCaNPAeznoQ"
   },
   "outputs": [],
   "source": []
  },
  {
   "cell_type": "markdown",
   "metadata": {
    "id": "_IXXhImYznoQ"
   },
   "source": [
    "#### 연습문제)\n",
    " - 복소수 클래스를 정의 해봅시다.\n",
    " - 덧셈, 뺄셈, 곱셈 연산자 지원\n",
    " - 길이 (복소수의 크기) 지원 \n",
    " - 복소수 출력 '1 + 4j'와 같이 표현\n",
    " - 비교 연산 ==, != 지원\n",
    " - >=, <= , <, > 연산 지원\n",
    " - 절대값 지원\n"
   ]
  },
  {
   "cell_type": "code",
   "execution_count": 34,
   "metadata": {
    "executionInfo": {
     "elapsed": 662,
     "status": "ok",
     "timestamp": 1608012350778,
     "user": {
      "displayName": "김용길",
      "photoUrl": "",
      "userId": "00028506768877938944"
     },
     "user_tz": -540
    },
    "id": "On5xOtDFznoQ"
   },
   "outputs": [],
   "source": [
    "import math\n",
    "\n",
    "class ComplexNumber:\n",
    "  def __init__(self, real, img)이\n",
    "    self.real = real\n",
    "    self.img = img\n",
    " \n",
    "  # 덧셈\n",
    "  def __add__(self, cn):\n",
    "    new_real = self.real + cn.real\n",
    "    new_img = self.img + cn.img\n",
    "    return ComplexNumber(new_real, new_img)\n",
    "\n",
    "  # 뺄셈\n",
    "  def __sub__(self, cn):\n",
    "    new_real = self.real - cn.real\n",
    "    new_img = self.img - cn.img\n",
    "    return ComplexNumber(new_real, new_img)\n",
    "\n",
    "  # 곱셈\n",
    "  def __mul__(self, factor):\n",
    "    if type(factor) == int:\n",
    "      return ComplexNumber(self.real*factor, self.img*factor)\n",
    "    elif type(factor) == ComplexNumber:\n",
    "  # 복소수 곱셈\n",
    "  # (a + bj) * (c + dj) = (ac - bd) + (ad + bc)j    \n",
    "      return ComplexNumber((self.real*factor.real - self.img*factor.img), \n",
    "                            (self.img*factor.real + self.real*factor.img))\n",
    "\n",
    "  # 비교 연산자\n",
    "  def __eq__(self, cn):\n",
    "    return self.real == cn.real and self.img == cn.img\n",
    "\n",
    "  def __ne__(self, cn):\n",
    "    return not (self.real == cn.real and self.img == cn.img)\n",
    "\n",
    "  # 절댓값과 길이\n",
    "  def __abs__(self):\n",
    "    return math.sqrt(self.real ** 2 + self.img ** 2)\n",
    "\n",
    "  def __len__(self):\n",
    "    return self.real ** 2 + self.img ** 2\n",
    "\n",
    "  def __str__(self):\n",
    "    if self.img < 0 :\n",
    "      return '{} - {}j'.format(self.real, abs(self.img))\n",
    "    else:\n",
    "      return '{} + {}j'.format(self.real, self.img)\n",
    "\n"
   ]
  },
  {
   "cell_type": "code",
   "execution_count": 36,
   "metadata": {
    "colab": {
     "base_uri": "https://localhost:8080/"
    },
    "executionInfo": {
     "elapsed": 699,
     "status": "ok",
     "timestamp": 1608012367361,
     "user": {
      "displayName": "김용길",
      "photoUrl": "",
      "userId": "00028506768877938944"
     },
     "user_tz": -540
    },
    "id": "WbI9u0b8zzfM",
    "outputId": "03001a7a-742c-43ab-8524-81313a6e6a64"
   },
   "outputs": [
    {
     "name": "stdout",
     "output_type": "stream",
     "text": [
      "1 + 2j\n",
      "3 + 5j\n",
      "-1 - 1j\n",
      "3 + 6j\n",
      "-4 + 7j\n",
      "2.23606797749979\n",
      "5\n"
     ]
    }
   ],
   "source": [
    "a = ComplexNumber(1,2)\n",
    "b = ComplexNumber(2,3)\n",
    "f = ComplexNumber(1,2)\n",
    "c = a + b\n",
    "d = a - b\n",
    "print(a) \n",
    "print(c)\n",
    "print(d)\n",
    "print(a*3)\n",
    "print(a*b)\n",
    "a==f\n",
    "a==b\n",
    "print(abs(a))\n",
    "print(len(a))\n"
   ]
  },
  {
   "cell_type": "code",
   "execution_count": null,
   "metadata": {
    "id": "bEpKG33w0ULw"
   },
   "outputs": [],
   "source": [
    "()"
   ]
  }
 ],
 "metadata": {
  "colab": {
   "collapsed_sections": [],
   "name": "데이터_엔지니어링_파이썬_프로그래밍_Chapter 06. 클래스와 객체의 이해.ipynb",
   "provenance": []
  },
  "kernelspec": {
   "display_name": "Python 3",
   "language": "python",
   "name": "python3"
  },
  "language_info": {
   "codemirror_mode": {
    "name": "ipython",
    "version": 3
   },
   "file_extension": ".py",
   "mimetype": "text/x-python",
   "name": "python",
   "nbconvert_exporter": "python",
   "pygments_lexer": "ipython3",
   "version": "3.8.5"
  }
 },
 "nbformat": 4,
 "nbformat_minor": 1
}
