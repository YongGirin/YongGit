{
 "cells": [
  {
   "cell_type": "markdown",
   "metadata": {
    "id": "uekIalrHdQui"
   },
   "source": [
    "## 학습목표\n",
    " * 반복문의 이해 및 활용 (while)"
   ]
  },
  {
   "cell_type": "markdown",
   "metadata": {
    "id": "6zU6D8RxdQui"
   },
   "source": [
    "### loop (반복문)\n",
    " + 반복적인 작업을 가능하게 해주는 도구\n",
    " + 특정 조건을 만족하는 경우 수행할 수 있음 (while)\n",
    " + 리스트, 문자열, 튜플 등 컬렉션 타입의 아이템을 하나씩 순회하면서 사용 가능 (for)\n",
    " + 코드 작업에서, 가장 많이 사용하는 구문 중 하나\n",
    " + 주의할점: while을 사용할 경우, 반복을 멈추게 하는 장치가 필요\n",
    "   + 그렇지 않으면 셀이 무한히 수행되며, jupyter notebook의 재부팅이 필요"
   ]
  },
  {
   "cell_type": "markdown",
   "metadata": {
    "id": "9xaFaFpJdQuj"
   },
   "source": [
    "#### while 키워드\n",
    "  - while 뒤의 조건이 True일 경우, while 코드 블록을 계속 수행\n",
    "  - while 코드 블록\n",
    "    - if와 마찬가지로 while문 아래의 들여쓰기로 작성 된 부분을 의미\n",
    "  - 조건이 False가 되면 블록 수행을 멈추고 이후 코드를 실행"
   ]
  },
  {
   "cell_type": "markdown",
   "metadata": {
    "id": "qJaCTre0dQuj"
   },
   "source": [
    "#### while 키워드 이용하여 리스트의 아이템 출력하기"
   ]
  },
  {
   "cell_type": "code",
   "execution_count": null,
   "metadata": {
    "colab": {
     "base_uri": "https://localhost:8080/",
     "height": 129
    },
    "executionInfo": {
     "elapsed": 856,
     "status": "error",
     "timestamp": 1607063848583,
     "user": {
      "displayName": "김용길",
      "photoUrl": "",
      "userId": "00028506768877938944"
     },
     "user_tz": -540
    },
    "id": "Ff20cpQudQuj",
    "outputId": "94c16075-8797-423c-9fcc-c73f0e189158"
   },
   "outputs": [
    {
     "ename": "SyntaxError",
     "evalue": "ignored",
     "output_type": "error",
     "traceback": [
      "\u001b[0;36m  File \u001b[0;32m\"<ipython-input-2-23741c37cd5c>\"\u001b[0;36m, line \u001b[0;32m4\u001b[0m\n\u001b[0;31m    while i = len(a): # i가 len(a) 보다 작으면 계속 while블럭을 돔\u001b[0m\n\u001b[0m            ^\u001b[0m\n\u001b[0;31mSyntaxError\u001b[0m\u001b[0;31m:\u001b[0m invalid syntax\n"
     ]
    }
   ],
   "source": [
    "a = [1,10,9,24,566,23,45,67,89]\n",
    "\n",
    "i = 0 # index의 시작\n",
    "while i < len(a): # i가 len(a) 보다 작으면 계속 while 블럭을 돔 -> 무한루프\n",
    "  print(a[i])"
   ]
  },
  {
   "cell_type": "markdown",
   "metadata": {
    "id": "C50EXkfdeIPv"
   },
   "source": []
  },
  {
   "cell_type": "code",
   "execution_count": null,
   "metadata": {
    "colab": {
     "base_uri": "https://localhost:8080/"
    },
    "executionInfo": {
     "elapsed": 783,
     "status": "ok",
     "timestamp": 1607064040791,
     "user": {
      "displayName": "김용길",
      "photoUrl": "",
      "userId": "00028506768877938944"
     },
     "user_tz": -540
    },
    "id": "GZYbS3xLdg-A",
    "outputId": "21b05b83-37b9-4ed2-bd71-dd9f1c10804a"
   },
   "outputs": [
    {
     "name": "stdout",
     "output_type": "stream",
     "text": [
      "value : 1 , index : 0\n",
      "value : 10 , index : 1\n",
      "value : 9 , index : 2\n",
      "value : 24 , index : 3\n",
      "value : 566 , index : 4\n",
      "value : 23 , index : 5\n",
      "value : 45 , index : 6\n",
      "value : 67 , index : 7\n",
      "value : 89 , index : 8\n",
      "hahah\n"
     ]
    }
   ],
   "source": [
    "# 반복을 없애는 코드\n",
    "a = [1,10,9,24,566,23,45,67,89]\n",
    "\n",
    "i = 0 # index의 시작\n",
    "while i < len(a): # i가 len(a) 보다 작으면 계속 while 블럭을 돔 -> 무한루프\n",
    "  print('value :',a[i],', index :', i)\n",
    "  i += 1\n",
    "print(\"hahah\")"
   ]
  },
  {
   "cell_type": "markdown",
   "metadata": {
    "id": "XmZmlKpJdQuj"
   },
   "source": [
    "#### while 키워드 이용하여 리스트의 아이템 출력하기\n",
    " - 조건문과 함께 사용하기"
   ]
  },
  {
   "cell_type": "code",
   "execution_count": null,
   "metadata": {
    "colab": {
     "base_uri": "https://localhost:8080/"
    },
    "executionInfo": {
     "elapsed": 791,
     "status": "ok",
     "timestamp": 1607064148844,
     "user": {
      "displayName": "김용길",
      "photoUrl": "",
      "userId": "00028506768877938944"
     },
     "user_tz": -540
    },
    "id": "ydsvqpZQdQuj",
    "outputId": "7e6bc193-4fa6-4418-db1b-67cdd7db7459"
   },
   "outputs": [
    {
     "name": "stdout",
     "output_type": "stream",
     "text": [
      "24\n",
      "25\n",
      "26\n"
     ]
    }
   ],
   "source": [
    "a = [1,10,9,24,25,26]\n",
    "\n",
    "i = 0\n",
    "while i < len(a):\n",
    "  if a[i] > 20:\n",
    "    print(a[i])\n",
    "  i+=1"
   ]
  },
  {
   "cell_type": "code",
   "execution_count": null,
   "metadata": {
    "colab": {
     "base_uri": "https://localhost:8080/"
    },
    "executionInfo": {
     "elapsed": 751,
     "status": "ok",
     "timestamp": 1607064273792,
     "user": {
      "displayName": "김용길",
      "photoUrl": "",
      "userId": "00028506768877938944"
     },
     "user_tz": -540
    },
    "id": "4TPt8ygqfchC",
    "outputId": "820b2869-6ad7-403b-ab91-6a3487ac8f67"
   },
   "outputs": [
    {
     "name": "stdout",
     "output_type": "stream",
     "text": [
      "1\n",
      "5.0\n",
      "9\n",
      "12.0\n",
      "25\n",
      "13.0\n"
     ]
    }
   ],
   "source": [
    "a = [1,10,9,24,25,26]\n",
    "\n",
    "i = 0\n",
    "while i < len(a):\n",
    "  if a[i] % 2: # 홀수인 경우에만 출력\n",
    "    print(a[i])\n",
    "  else:\n",
    "    print(a[i]/2)\n",
    "  i+=1"
   ]
  },
  {
   "cell_type": "markdown",
   "metadata": {
    "id": "xNo1f3g-dQuj"
   },
   "source": [
    "#### 무한루프\n",
    " - while의 경우 종료가 되지 않도록 코드를 작성하면 블록에서 빠져나올 수 없음"
   ]
  },
  {
   "cell_type": "code",
   "execution_count": 1,
   "metadata": {
    "colab": {
     "base_uri": "https://localhost:8080/",
     "height": 129
    },
    "executionInfo": {
     "elapsed": 583,
     "status": "error",
     "timestamp": 1608530079019,
     "user": {
      "displayName": "김용길",
      "photoUrl": "",
      "userId": "00028506768877938944"
     },
     "user_tz": -540
    },
    "id": "9pOV-t6tdQuj",
    "outputId": "1ba24da7-afca-4751-c765-0b0a7033574d"
   },
   "outputs": [
    {
     "ename": "IndentationError",
     "evalue": "ignored",
     "output_type": "error",
     "traceback": [
      "\u001b[0;36m  File \u001b[0;32m\"<ipython-input-1-8a4082060d29>\"\u001b[0;36m, line \u001b[0;32m2\u001b[0m\n\u001b[0;31m    print(\"haha\")\u001b[0m\n\u001b[0m    ^\u001b[0m\n\u001b[0;31mIndentationError\u001b[0m\u001b[0;31m:\u001b[0m unexpected indent\n"
     ]
    }
   ],
   "source": [
    "# while True:\n",
    "  print(\"haha\") \n",
    "# 무한루프는 지양해야 함"
   ]
  },
  {
   "cell_type": "markdown",
   "metadata": {
    "id": "mnxLITGwdQuj"
   },
   "source": [
    "#### break \n",
    " + loop를 중단할 때 사용\n",
    " + 보통 조건문 안에서 수행되며, 조건을 만족하는 경우 loop를 탈출하기 위해 사용\n",
    " + loop를 중단 하는 경우, while 이후의 코드를 수행"
   ]
  },
  {
   "cell_type": "code",
   "execution_count": null,
   "metadata": {
    "colab": {
     "base_uri": "https://localhost:8080/"
    },
    "executionInfo": {
     "elapsed": 749,
     "status": "ok",
     "timestamp": 1607064433033,
     "user": {
      "displayName": "김용길",
      "photoUrl": "",
      "userId": "00028506768877938944"
     },
     "user_tz": -540
    },
    "id": "aUNdvwrNdQuj",
    "outputId": "eed3f12b-7b7b-4919-a3a3-c93ed49b9131"
   },
   "outputs": [
    {
     "name": "stdout",
     "output_type": "stream",
     "text": [
      "1\n",
      "10\n",
      "9\n",
      "24\n",
      "hahah\n"
     ]
    }
   ],
   "source": [
    "a = [1,10,9,24,25,26]\n",
    "\n",
    "i = 0\n",
    "while i < len(a):\n",
    "  print(a[i])\n",
    "  if a[i] > 20: # 20보다 큰 수를 만나면 break\n",
    "    break\n",
    "  i += 1\n",
    "print(\"hahah\")"
   ]
  },
  {
   "cell_type": "code",
   "execution_count": null,
   "metadata": {
    "id": "15InSDARgjg4"
   },
   "outputs": [],
   "source": [
    "while True:\n",
    "  data = crawl()\n",
    "  if data == None:\n",
    "    break\n",
    "  print(data)"
   ]
  },
  {
   "cell_type": "markdown",
   "metadata": {
    "id": "ivDtmythdQuj"
   },
   "source": [
    "\n",
    "#### continue\n",
    " + break 처럼 반복을 중단하진 하여 빠져나오지 않고, 다시 while조건으로 점프함\n",
    " + 특정한 경우에는 코드를 수행하지 않고 다음으로 건너 뛰기 위해 사용"
   ]
  },
  {
   "cell_type": "code",
   "execution_count": null,
   "metadata": {
    "colab": {
     "base_uri": "https://localhost:8080/"
    },
    "executionInfo": {
     "elapsed": 778,
     "status": "ok",
     "timestamp": 1607064640256,
     "user": {
      "displayName": "김용길",
      "photoUrl": "",
      "userId": "00028506768877938944"
     },
     "user_tz": -540
    },
    "id": "sz_IuNTQdQuj",
    "outputId": "a693e62f-ae19-47cc-dbc1-6e76314910bd"
   },
   "outputs": [
    {
     "name": "stdout",
     "output_type": "stream",
     "text": [
      "6\n",
      "4\n",
      "3\n",
      "2\n",
      "1\n",
      "0\n"
     ]
    }
   ],
   "source": [
    "a = 7\n",
    "while a>0:\n",
    "  a -=1\n",
    "  if a == 5:\n",
    "    continue # a==5 일 경우를 건너뜀\n",
    "  print(a)"
   ]
  },
  {
   "cell_type": "markdown",
   "metadata": {
    "id": "YNfWLMhPhcrh"
   },
   "source": [
    "### 1 - 100 까지 더하기"
   ]
  },
  {
   "cell_type": "code",
   "execution_count": null,
   "metadata": {
    "colab": {
     "base_uri": "https://localhost:8080/"
    },
    "executionInfo": {
     "elapsed": 875,
     "status": "ok",
     "timestamp": 1607064877500,
     "user": {
      "displayName": "김용길",
      "photoUrl": "",
      "userId": "00028506768877938944"
     },
     "user_tz": -540
    },
    "id": "LyOo0rkJhcW0",
    "outputId": "073160a4-0558-4563-f3b0-bb7d51ca2b00"
   },
   "outputs": [
    {
     "name": "stdout",
     "output_type": "stream",
     "text": [
      "5050\n"
     ]
    }
   ],
   "source": [
    "num = 1\n",
    "_sum = 0\n",
    "while num <= 100:\n",
    "  _sum += num\n",
    "  num += 1\n",
    "print(_sum)"
   ]
  },
  {
   "cell_type": "code",
   "execution_count": null,
   "metadata": {
    "id": "SYrZ7w0Dg5c2"
   },
   "outputs": [],
   "source": [
    "a = 1\n",
    "i = 0\n",
    "while "
   ]
  },
  {
   "cell_type": "code",
   "execution_count": null,
   "metadata": {
    "id": "OZCmi_5nhV4C"
   },
   "outputs": [],
   "source": []
  }
 ],
 "metadata": {
  "colab": {
   "collapsed_sections": [],
   "name": "데이터엔지니렁_파이썬_프로그래밍_Chapter 03 - 02. 반복문의 이해(while).ipynb",
   "provenance": []
  },
  "kernelspec": {
   "display_name": "Python 3",
   "language": "python",
   "name": "python3"
  },
  "language_info": {
   "codemirror_mode": {
    "name": "ipython",
    "version": 3
   },
   "file_extension": ".py",
   "mimetype": "text/x-python",
   "name": "python",
   "nbconvert_exporter": "python",
   "pygments_lexer": "ipython3",
   "version": "3.8.5"
  }
 },
 "nbformat": 4,
 "nbformat_minor": 1
}
