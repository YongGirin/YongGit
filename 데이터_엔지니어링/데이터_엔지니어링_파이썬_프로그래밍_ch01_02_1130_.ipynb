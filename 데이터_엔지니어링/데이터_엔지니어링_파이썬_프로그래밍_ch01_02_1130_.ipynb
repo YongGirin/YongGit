{
 "cells": [
  {
   "cell_type": "markdown",
   "metadata": {
    "id": "V6qUf2eXArZr"
   },
   "source": [
    "# Hello Python\n",
    "## Hello Python"
   ]
  },
  {
   "cell_type": "markdown",
   "metadata": {
    "id": "Ef5HIjcSCT2s"
   },
   "source": [
    "**python** python *python*\n",
    "- python\n",
    " - pandas\n",
    " - numpy\n",
    "   - np\n",
    "- java\n",
    "- c++\n",
    "\n",
    "1. pyhton\n",
    "2. java\n",
    "3. c++\n",
    "\n",
    "> 파이썬은 재밌다고 하더라... (quote : 인용구)\n",
    "\n",
    "y = 3x\n",
    "\n",
    "$y= 3x$\n",
    "\n",
    "```python\n",
    "a=10\n",
    "print(a)\n",
    "```\n",
    "\n",
    "https://www.python.org/\n",
    "\n",
    "[파이썬 공식 페이지](https://www.python.org/)"
   ]
  },
  {
   "cell_type": "markdown",
   "metadata": {
    "id": "VM4YaUJ3DryU"
   },
   "source": [
    "# Chapter 02. 데이터 타입과 컬렉션"
   ]
  },
  {
   "cell_type": "code",
   "execution_count": null,
   "metadata": {
    "colab": {
     "base_uri": "https://localhost:8080/"
    },
    "executionInfo": {
     "elapsed": 991,
     "status": "ok",
     "timestamp": 1606721687200,
     "user": {
      "displayName": "김용길",
      "photoUrl": "",
      "userId": "00028506768877938944"
     },
     "user_tz": -540
    },
    "id": "NhOQFwX1D4dj",
    "outputId": "3785ebbb-b25a-4676-d869-e0860b90e8ea"
   },
   "outputs": [
    {
     "name": "stdout",
     "output_type": "stream",
     "text": [
      "10*11.4*10*100!!"
     ]
    }
   ],
   "source": [
    "a = 10\n",
    "b = 11.4\n",
    "print(a, b, 10, 100, sep='*', end=\"!!\")"
   ]
  },
  {
   "cell_type": "code",
   "execution_count": null,
   "metadata": {
    "colab": {
     "base_uri": "https://localhost:8080/"
    },
    "executionInfo": {
     "elapsed": 1376,
     "status": "ok",
     "timestamp": 1606721689262,
     "user": {
      "displayName": "김용길",
      "photoUrl": "",
      "userId": "00028506768877938944"
     },
     "user_tz": -540
    },
    "id": "vexmQxyUERSz",
    "outputId": "f4fa32ba-5bd0-49fe-ce06-0eee39ffd3c6"
   },
   "outputs": [
    {
     "data": {
      "text/plain": [
       "(10, 11.4)"
      ]
     },
     "execution_count": 7,
     "metadata": {
      "tags": []
     },
     "output_type": "execute_result"
    }
   ],
   "source": [
    "a,b"
   ]
  },
  {
   "cell_type": "markdown",
   "metadata": {
    "id": "fRAOfdAJFZv-"
   },
   "source": [
    "## '' 와 \" \" 의 차이점\n",
    "- '' , \" \" -> 한 줄 문자열 표현\n",
    "- ''' ''' -> 여러줄에 걸쳐 문자열 표현 가능"
   ]
  },
  {
   "cell_type": "code",
   "execution_count": null,
   "metadata": {
    "colab": {
     "base_uri": "https://localhost:8080/"
    },
    "executionInfo": {
     "elapsed": 995,
     "status": "ok",
     "timestamp": 1606722185729,
     "user": {
      "displayName": "김용길",
      "photoUrl": "",
      "userId": "00028506768877938944"
     },
     "user_tz": -540
    },
    "id": "9nqWyzBJGRfJ",
    "outputId": "d73eae59-3b4d-4ac9-d0e0-07d1579679b5"
   },
   "outputs": [
    {
     "name": "stdout",
     "output_type": "stream",
     "text": [
      "Hello world\n",
      "Hello 'World' \n"
     ]
    }
   ],
   "source": [
    "a = 'Hello world'\n",
    "b = \"Hello 'World' \"\n",
    "c = \"Hello World. It's a wonderful world\"\n",
    "\n",
    "print(a)\n",
    "print(b)"
   ]
  },
  {
   "cell_type": "code",
   "execution_count": null,
   "metadata": {
    "colab": {
     "base_uri": "https://localhost:8080/"
    },
    "executionInfo": {
     "elapsed": 1098,
     "status": "ok",
     "timestamp": 1606722255119,
     "user": {
      "displayName": "김용길",
      "photoUrl": "",
      "userId": "00028506768877938944"
     },
     "user_tz": -540
    },
    "id": "4fwmZawhGkCC",
    "outputId": "1fd0a79d-da39-4d70-930e-395f84f9dde3"
   },
   "outputs": [
    {
     "name": "stdout",
     "output_type": "stream",
     "text": [
      " Hello World\n",
      "It's a wonderful world \n"
     ]
    }
   ],
   "source": [
    "c = ''' Hello World\n",
    "It's a wonderful world '''\n",
    "d = \"\"\" Hello World \"\"\"\n",
    "\n",
    "print(c)"
   ]
  },
  {
   "cell_type": "markdown",
   "metadata": {
    "id": "sVULDXt_Hkp_"
   },
   "source": [
    "### escape string(이스케이프 문자)\n",
    "``` \n",
    "\\t \n",
    "```\n",
    "\n"
   ]
  },
  {
   "cell_type": "code",
   "execution_count": null,
   "metadata": {
    "colab": {
     "base_uri": "https://localhost:8080/"
    },
    "executionInfo": {
     "elapsed": 1061,
     "status": "ok",
     "timestamp": 1606722304485,
     "user": {
      "displayName": "김용길",
      "photoUrl": "",
      "userId": "00028506768877938944"
     },
     "user_tz": -540
    },
    "id": "U6fWW25tGxnC",
    "outputId": "f8e9efb4-aee6-42f7-87d8-6ebb8590631b"
   },
   "outputs": [
    {
     "name": "stdout",
     "output_type": "stream",
     "text": [
      "Hello World\n",
      "\n",
      "\n",
      "Ha\tahahah\n"
     ]
    }
   ],
   "source": [
    "print('Hello World\\n\\n')\n",
    "print('Ha\\tahahah') "
   ]
  },
  {
   "cell_type": "code",
   "execution_count": null,
   "metadata": {
    "colab": {
     "base_uri": "https://localhost:8080/",
     "height": 35
    },
    "executionInfo": {
     "elapsed": 1092,
     "status": "ok",
     "timestamp": 1606722371570,
     "user": {
      "displayName": "김용길",
      "photoUrl": "",
      "userId": "00028506768877938944"
     },
     "user_tz": -540
    },
    "id": "yvGSyrzTHI__",
    "outputId": "c91df4ed-f042-4ce1-d1d5-850d3c162e45"
   },
   "outputs": [
    {
     "data": {
      "application/vnd.google.colaboratory.intrinsic+json": {
       "type": "string"
      },
      "text/plain": [
       "'H'"
      ]
     },
     "execution_count": 14,
     "metadata": {
      "tags": []
     },
     "output_type": "execute_result"
    }
   ],
   "source": [
    "a = 'Hello world'\n",
    "a[0]"
   ]
  },
  {
   "cell_type": "code",
   "execution_count": null,
   "metadata": {
    "colab": {
     "base_uri": "https://localhost:8080/"
    },
    "executionInfo": {
     "elapsed": 1084,
     "status": "ok",
     "timestamp": 1606722400907,
     "user": {
      "displayName": "김용길",
      "photoUrl": "",
      "userId": "00028506768877938944"
     },
     "user_tz": -540
    },
    "id": "viSdR-41HbiB",
    "outputId": "9016a511-a07c-4e9a-bd9c-a1105fbafc51"
   },
   "outputs": [
    {
     "name": "stdout",
     "output_type": "stream",
     "text": [
      "d\n",
      "l\n"
     ]
    }
   ],
   "source": [
    "print(a[-1])\n",
    "print(a[-2])"
   ]
  },
  {
   "cell_type": "code",
   "execution_count": null,
   "metadata": {
    "colab": {
     "base_uri": "https://localhost:8080/",
     "height": 35
    },
    "executionInfo": {
     "elapsed": 1148,
     "status": "ok",
     "timestamp": 1606722574262,
     "user": {
      "displayName": "김용길",
      "photoUrl": "",
      "userId": "00028506768877938944"
     },
     "user_tz": -540
    },
    "id": "T1e-S9buHfTy",
    "outputId": "29596213-42db-4458-89fb-9cc13908d594"
   },
   "outputs": [
    {
     "data": {
      "application/vnd.google.colaboratory.intrinsic+json": {
       "type": "string"
      },
      "text/plain": [
       "'Hell'"
      ]
     },
     "execution_count": 17,
     "metadata": {
      "tags": []
     },
     "output_type": "execute_result"
    }
   ],
   "source": [
    "a[0:4]"
   ]
  },
  {
   "cell_type": "code",
   "execution_count": null,
   "metadata": {
    "colab": {
     "base_uri": "https://localhost:8080/",
     "height": 35
    },
    "executionInfo": {
     "elapsed": 1073,
     "status": "ok",
     "timestamp": 1606722587044,
     "user": {
      "displayName": "김용길",
      "photoUrl": "",
      "userId": "00028506768877938944"
     },
     "user_tz": -540
    },
    "id": "xm42lzchINLZ",
    "outputId": "9bb0c0b2-1b5e-401b-8b33-042b0c4a665a"
   },
   "outputs": [
    {
     "data": {
      "application/vnd.google.colaboratory.intrinsic+json": {
       "type": "string"
      },
      "text/plain": [
       "'Hell'"
      ]
     },
     "execution_count": 18,
     "metadata": {
      "tags": []
     },
     "output_type": "execute_result"
    }
   ],
   "source": [
    "a[:4]"
   ]
  },
  {
   "cell_type": "code",
   "execution_count": null,
   "metadata": {
    "colab": {
     "base_uri": "https://localhost:8080/",
     "height": 35
    },
    "executionInfo": {
     "elapsed": 1009,
     "status": "ok",
     "timestamp": 1606722622619,
     "user": {
      "displayName": "김용길",
      "photoUrl": "",
      "userId": "00028506768877938944"
     },
     "user_tz": -540
    },
    "id": "OPFUe0j0IQUT",
    "outputId": "79c25d5b-dba6-4a2b-ccb5-4a928fbbd33f"
   },
   "outputs": [
    {
     "data": {
      "application/vnd.google.colaboratory.intrinsic+json": {
       "type": "string"
      },
      "text/plain": [
       "'lo world'"
      ]
     },
     "execution_count": 19,
     "metadata": {
      "tags": []
     },
     "output_type": "execute_result"
    }
   ],
   "source": [
    "a[3:]"
   ]
  },
  {
   "cell_type": "code",
   "execution_count": null,
   "metadata": {
    "colab": {
     "base_uri": "https://localhost:8080/",
     "height": 35
    },
    "executionInfo": {
     "elapsed": 1131,
     "status": "ok",
     "timestamp": 1606722652145,
     "user": {
      "displayName": "김용길",
      "photoUrl": "",
      "userId": "00028506768877938944"
     },
     "user_tz": -540
    },
    "id": "rIOviKM4IZBj",
    "outputId": "b10789b2-4776-4935-8ec6-9bed5b65e226"
   },
   "outputs": [
    {
     "data": {
      "application/vnd.google.colaboratory.intrinsic+json": {
       "type": "string"
      },
      "text/plain": [
       "'HELLO WORLD'"
      ]
     },
     "execution_count": 20,
     "metadata": {
      "tags": []
     },
     "output_type": "execute_result"
    }
   ],
   "source": [
    "a = 'hello world'\n",
    "a.upper()"
   ]
  },
  {
   "cell_type": "code",
   "execution_count": null,
   "metadata": {
    "colab": {
     "base_uri": "https://localhost:8080/",
     "height": 35
    },
    "executionInfo": {
     "elapsed": 1057,
     "status": "ok",
     "timestamp": 1606722681811,
     "user": {
      "displayName": "김용길",
      "photoUrl": "",
      "userId": "00028506768877938944"
     },
     "user_tz": -540
    },
    "id": "8UMmcO8kIgL1",
    "outputId": "5f73a646-9a0e-4c2d-8bf5-8a16ce3dda76"
   },
   "outputs": [
    {
     "data": {
      "application/vnd.google.colaboratory.intrinsic+json": {
       "type": "string"
      },
      "text/plain": [
       "'jello world'"
      ]
     },
     "execution_count": 21,
     "metadata": {
      "tags": []
     },
     "output_type": "execute_result"
    }
   ],
   "source": [
    "a.replace('h', 'j')"
   ]
  },
  {
   "cell_type": "code",
   "execution_count": null,
   "metadata": {
    "colab": {
     "base_uri": "https://localhost:8080/",
     "height": 35
    },
    "executionInfo": {
     "elapsed": 1118,
     "status": "ok",
     "timestamp": 1606722773867,
     "user": {
      "displayName": "김용길",
      "photoUrl": "",
      "userId": "00028506768877938944"
     },
     "user_tz": -540
    },
    "id": "pigkofUYI9Eh",
    "outputId": "2b8c40b8-c445-493e-cd6a-4bae2b3018de"
   },
   "outputs": [
    {
     "data": {
      "application/vnd.google.colaboratory.intrinsic+json": {
       "type": "string"
      },
      "text/plain": [
       "'오늘 기온은 {}도 이고, 비올 확률은 {}% 입니다.'"
      ]
     },
     "execution_count": 26,
     "metadata": {
      "tags": []
     },
     "output_type": "execute_result"
    }
   ],
   "source": [
    "a = '오늘 기온은 {}도 이고, 비올 확률은 {}% 입니다.'\n",
    "a"
   ]
  },
  {
   "cell_type": "code",
   "execution_count": null,
   "metadata": {
    "colab": {
     "base_uri": "https://localhost:8080/",
     "height": 35
    },
    "executionInfo": {
     "elapsed": 1294,
     "status": "ok",
     "timestamp": 1606722757707,
     "user": {
      "displayName": "김용길",
      "photoUrl": "",
      "userId": "00028506768877938944"
     },
     "user_tz": -540
    },
    "id": "pRtnr7AfIndm",
    "outputId": "f76397c4-d7f9-49da-e2b0-81a4a811a337"
   },
   "outputs": [
    {
     "data": {
      "application/vnd.google.colaboratory.intrinsic+json": {
       "type": "string"
      },
      "text/plain": [
       "'오늘 기온은 25.5도 이고, 비올 확률은 80.0% 입니다.'"
      ]
     },
     "execution_count": 25,
     "metadata": {
      "tags": []
     },
     "output_type": "execute_result"
    }
   ],
   "source": [
    "temp = 25.5\n",
    "prob = 80.0\n",
    "\n",
    "a = '오늘 기온은 {}도 이고, 비올 확률은 {}% 입니다.'.format(temp, prob)\n",
    "a"
   ]
  },
  {
   "cell_type": "code",
   "execution_count": null,
   "metadata": {
    "colab": {
     "base_uri": "https://localhost:8080/"
    },
    "executionInfo": {
     "elapsed": 1206,
     "status": "ok",
     "timestamp": 1606722794707,
     "user": {
      "displayName": "김용길",
      "photoUrl": "",
      "userId": "00028506768877938944"
     },
     "user_tz": -540
    },
    "id": "yVXFcdlQIw4d",
    "outputId": "4d4d3ceb-c6b0-4aeb-b3ea-e92fac930670"
   },
   "outputs": [
    {
     "data": {
      "text/plain": [
       "['hello', 'world', 'what', 'a', 'nice', 'weather']"
      ]
     },
     "execution_count": 27,
     "metadata": {
      "tags": []
     },
     "output_type": "execute_result"
    }
   ],
   "source": [
    "a = 'hello world what a nice weather'\n",
    "a.split()"
   ]
  }
 ],
 "metadata": {
  "colab": {
   "authorship_tag": "ABX9TyOqI5DBDGOK1kQGVllrt+23",
   "collapsed_sections": [],
   "name": "데이터_엔지니어링_파이썬_프로그래밍_ch01~02_1130_.ipynb",
   "provenance": []
  },
  "kernelspec": {
   "display_name": "Python 3",
   "language": "python",
   "name": "python3"
  },
  "language_info": {
   "codemirror_mode": {
    "name": "ipython",
    "version": 3
   },
   "file_extension": ".py",
   "mimetype": "text/x-python",
   "name": "python",
   "nbconvert_exporter": "python",
   "pygments_lexer": "ipython3",
   "version": "3.8.5"
  }
 },
 "nbformat": 4,
 "nbformat_minor": 1
}
